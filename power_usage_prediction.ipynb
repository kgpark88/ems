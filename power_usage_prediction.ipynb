{
  "nbformat": 4,
  "nbformat_minor": 0,
  "metadata": {
    "kernelspec": {
      "display_name": "Python 3",
      "language": "python",
      "name": "python3"
    },
    "language_info": {
      "codemirror_mode": {
        "name": "ipython",
        "version": 3
      },
      "file_extension": ".py",
      "mimetype": "text/x-python",
      "name": "python",
      "nbconvert_exporter": "python",
      "pygments_lexer": "ipython3",
      "version": "3.7.6"
    },
    "nav_menu": {},
    "toc": {
      "navigate_menu": true,
      "number_sections": true,
      "sideBar": true,
      "threshold": 6,
      "toc_cell": false,
      "toc_section_display": "block",
      "toc_window_display": false
    },
    "colab": {
      "name": "power_usage_prediction.ipynb",
      "provenance": [],
      "collapsed_sections": [],
      "include_colab_link": true
    },
    "accelerator": "GPU"
  },
  "cells": [
    {
      "cell_type": "markdown",
      "metadata": {
        "id": "view-in-github",
        "colab_type": "text"
      },
      "source": [
        "<a href=\"https://colab.research.google.com/github/kgpark88/ems/blob/master/power_usage_prediction.ipynb\" target=\"_parent\"><img src=\"https://colab.research.google.com/assets/colab-badge.svg\" alt=\"Open In Colab\"/></a>"
      ]
    },
    {
      "cell_type": "markdown",
      "metadata": {
        "id": "enmohzXupt-A"
      },
      "source": [
        "## 라이브러리 임포트"
      ]
    },
    {
      "cell_type": "code",
      "metadata": {
        "id": "aAkJFBoWpt-B"
      },
      "source": [
        "import os\n",
        "import numpy as np\n",
        "import pandas as pd\n",
        "import matplotlib.pyplot as plt\n",
        "\n",
        "import tensorflow as tf\n",
        "from tensorflow import keras\n",
        "from tensorflow.keras.models import Sequential, load_model\n",
        "from tensorflow.keras.layers import LSTM, Activation, Dropout\n",
        "from tensorflow.keras.callbacks import EarlyStopping, ModelCheckpoint\n",
        "\n",
        "from google.colab import auth\n",
        "from google.colab import drive"
      ],
      "execution_count": 1,
      "outputs": []
    },
    {
      "cell_type": "markdown",
      "metadata": {
        "id": "aLU6U-VZtyAh"
      },
      "source": [
        "### 데이터 로드를 위해 구글 드라이브를 연동합니다."
      ]
    },
    {
      "cell_type": "code",
      "metadata": {
        "id": "Lx8J1J-wtvFq",
        "outputId": "e438138e-dc86-40d1-9635-74292f67d969",
        "colab": {
          "base_uri": "https://localhost:8080/",
          "height": 35
        }
      },
      "source": [
        "drive.mount(\"/content/gdrive\")"
      ],
      "execution_count": 2,
      "outputs": [
        {
          "output_type": "stream",
          "text": [
            "Mounted at /content/gdrive\n"
          ],
          "name": "stdout"
        }
      ]
    },
    {
      "cell_type": "markdown",
      "metadata": {
        "id": "KZyNdLXQbX-S"
      },
      "source": [
        "## 15분 전력사용량 데이터를 로드합니다. "
      ]
    },
    {
      "cell_type": "code",
      "metadata": {
        "id": "iw-NM54YVY-p"
      },
      "source": [
        "colab_dir ='/content/gdrive/My Drive/Colab Notebooks/'\n",
        "file_name = 'power_usage_201.csv'\n",
        "data_file = os.path.join(colab_dir, file_name)\n",
        "\n",
        "df = pd.read_csv(data_file, header = 0, delimiter = ',', quoting = 3)\n",
        "df.index = df['daq_time']"
      ],
      "execution_count": 3,
      "outputs": []
    },
    {
      "cell_type": "markdown",
      "metadata": {
        "id": "NzAWUvNdhxMC"
      },
      "source": [
        "## 데이터를 확인합니다."
      ]
    },
    {
      "cell_type": "code",
      "metadata": {
        "id": "f3RQRgxZKApD",
        "outputId": "d55d0826-fe2b-415c-ca1d-b1421aaac665",
        "colab": {
          "base_uri": "https://localhost:8080/",
          "height": 235
        }
      },
      "source": [
        "df.head()"
      ],
      "execution_count": 4,
      "outputs": [
        {
          "output_type": "execute_result",
          "data": {
            "text/html": [
              "<div>\n",
              "<style scoped>\n",
              "    .dataframe tbody tr th:only-of-type {\n",
              "        vertical-align: middle;\n",
              "    }\n",
              "\n",
              "    .dataframe tbody tr th {\n",
              "        vertical-align: top;\n",
              "    }\n",
              "\n",
              "    .dataframe thead th {\n",
              "        text-align: right;\n",
              "    }\n",
              "</style>\n",
              "<table border=\"1\" class=\"dataframe\">\n",
              "  <thead>\n",
              "    <tr style=\"text-align: right;\">\n",
              "      <th></th>\n",
              "      <th>daq_time</th>\n",
              "      <th>power_usage</th>\n",
              "    </tr>\n",
              "    <tr>\n",
              "      <th>daq_time</th>\n",
              "      <th></th>\n",
              "      <th></th>\n",
              "    </tr>\n",
              "  </thead>\n",
              "  <tbody>\n",
              "    <tr>\n",
              "      <th>2011-01-01 00:15</th>\n",
              "      <td>2011-01-01 00:15</td>\n",
              "      <td>235.492958</td>\n",
              "    </tr>\n",
              "    <tr>\n",
              "      <th>2011-01-01 00:30</th>\n",
              "      <td>2011-01-01 00:30</td>\n",
              "      <td>239.436620</td>\n",
              "    </tr>\n",
              "    <tr>\n",
              "      <th>2011-01-01 00:45</th>\n",
              "      <td>2011-01-01 00:45</td>\n",
              "      <td>228.732394</td>\n",
              "    </tr>\n",
              "    <tr>\n",
              "      <th>2011-01-01 01:00</th>\n",
              "      <td>2011-01-01 01:00</td>\n",
              "      <td>230.422535</td>\n",
              "    </tr>\n",
              "    <tr>\n",
              "      <th>2011-01-01 01:15</th>\n",
              "      <td>2011-01-01 01:15</td>\n",
              "      <td>225.352113</td>\n",
              "    </tr>\n",
              "  </tbody>\n",
              "</table>\n",
              "</div>"
            ],
            "text/plain": [
              "                          daq_time  power_usage\n",
              "daq_time                                       \n",
              "2011-01-01 00:15  2011-01-01 00:15   235.492958\n",
              "2011-01-01 00:30  2011-01-01 00:30   239.436620\n",
              "2011-01-01 00:45  2011-01-01 00:45   228.732394\n",
              "2011-01-01 01:00  2011-01-01 01:00   230.422535\n",
              "2011-01-01 01:15  2011-01-01 01:15   225.352113"
            ]
          },
          "metadata": {
            "tags": []
          },
          "execution_count": 4
        }
      ]
    },
    {
      "cell_type": "code",
      "metadata": {
        "id": "INA8ctHUVnCM",
        "outputId": "1cb5eb40-ac0d-472e-fa36-61fe8f4e74f4",
        "colab": {
          "base_uri": "https://localhost:8080/",
          "height": 235
        }
      },
      "source": [
        "df.tail()"
      ],
      "execution_count": 5,
      "outputs": [
        {
          "output_type": "execute_result",
          "data": {
            "text/html": [
              "<div>\n",
              "<style scoped>\n",
              "    .dataframe tbody tr th:only-of-type {\n",
              "        vertical-align: middle;\n",
              "    }\n",
              "\n",
              "    .dataframe tbody tr th {\n",
              "        vertical-align: top;\n",
              "    }\n",
              "\n",
              "    .dataframe thead th {\n",
              "        text-align: right;\n",
              "    }\n",
              "</style>\n",
              "<table border=\"1\" class=\"dataframe\">\n",
              "  <thead>\n",
              "    <tr style=\"text-align: right;\">\n",
              "      <th></th>\n",
              "      <th>daq_time</th>\n",
              "      <th>power_usage</th>\n",
              "    </tr>\n",
              "    <tr>\n",
              "      <th>daq_time</th>\n",
              "      <th></th>\n",
              "      <th></th>\n",
              "    </tr>\n",
              "  </thead>\n",
              "  <tbody>\n",
              "    <tr>\n",
              "      <th>2014-12-31 23:00</th>\n",
              "      <td>2014-12-31 23:00</td>\n",
              "      <td>149.295775</td>\n",
              "    </tr>\n",
              "    <tr>\n",
              "      <th>2014-12-31 23:15</th>\n",
              "      <td>2014-12-31 23:15</td>\n",
              "      <td>151.549296</td>\n",
              "    </tr>\n",
              "    <tr>\n",
              "      <th>2014-12-31 23:30</th>\n",
              "      <td>2014-12-31 23:30</td>\n",
              "      <td>147.042254</td>\n",
              "    </tr>\n",
              "    <tr>\n",
              "      <th>2014-12-31 23:45</th>\n",
              "      <td>2014-12-31 23:45</td>\n",
              "      <td>142.535211</td>\n",
              "    </tr>\n",
              "    <tr>\n",
              "      <th>2015-01-01 00:00</th>\n",
              "      <td>2015-01-01 00:00</td>\n",
              "      <td>143.098592</td>\n",
              "    </tr>\n",
              "  </tbody>\n",
              "</table>\n",
              "</div>"
            ],
            "text/plain": [
              "                          daq_time  power_usage\n",
              "daq_time                                       \n",
              "2014-12-31 23:00  2014-12-31 23:00   149.295775\n",
              "2014-12-31 23:15  2014-12-31 23:15   151.549296\n",
              "2014-12-31 23:30  2014-12-31 23:30   147.042254\n",
              "2014-12-31 23:45  2014-12-31 23:45   142.535211\n",
              "2015-01-01 00:00  2015-01-01 00:00   143.098592"
            ]
          },
          "metadata": {
            "tags": []
          },
          "execution_count": 5
        }
      ]
    },
    {
      "cell_type": "code",
      "metadata": {
        "id": "2mKjVUx7Bf5_",
        "outputId": "a147c2de-387a-4d10-b2ef-fd3c2bb5fa7e",
        "colab": {
          "base_uri": "https://localhost:8080/",
          "height": 179
        }
      },
      "source": [
        "df.info()"
      ],
      "execution_count": 6,
      "outputs": [
        {
          "output_type": "stream",
          "text": [
            "<class 'pandas.core.frame.DataFrame'>\n",
            "Index: 140256 entries, 2011-01-01 00:15 to 2015-01-01 00:00\n",
            "Data columns (total 2 columns):\n",
            " #   Column       Non-Null Count   Dtype  \n",
            "---  ------       --------------   -----  \n",
            " 0   daq_time     140256 non-null  object \n",
            " 1   power_usage  140256 non-null  float64\n",
            "dtypes: float64(1), object(1)\n",
            "memory usage: 3.2+ MB\n"
          ],
          "name": "stdout"
        }
      ]
    },
    {
      "cell_type": "code",
      "metadata": {
        "id": "K21LYh53hpyh",
        "outputId": "26eb1481-eb6d-4810-d7e5-d137ff795d1c",
        "colab": {
          "base_uri": "https://localhost:8080/",
          "height": 297
        }
      },
      "source": [
        "df.describe()"
      ],
      "execution_count": 7,
      "outputs": [
        {
          "output_type": "execute_result",
          "data": {
            "text/html": [
              "<div>\n",
              "<style scoped>\n",
              "    .dataframe tbody tr th:only-of-type {\n",
              "        vertical-align: middle;\n",
              "    }\n",
              "\n",
              "    .dataframe tbody tr th {\n",
              "        vertical-align: top;\n",
              "    }\n",
              "\n",
              "    .dataframe thead th {\n",
              "        text-align: right;\n",
              "    }\n",
              "</style>\n",
              "<table border=\"1\" class=\"dataframe\">\n",
              "  <thead>\n",
              "    <tr style=\"text-align: right;\">\n",
              "      <th></th>\n",
              "      <th>power_usage</th>\n",
              "    </tr>\n",
              "  </thead>\n",
              "  <tbody>\n",
              "    <tr>\n",
              "      <th>count</th>\n",
              "      <td>140256.000000</td>\n",
              "    </tr>\n",
              "    <tr>\n",
              "      <th>mean</th>\n",
              "      <td>242.393145</td>\n",
              "    </tr>\n",
              "    <tr>\n",
              "      <th>std</th>\n",
              "      <td>72.339054</td>\n",
              "    </tr>\n",
              "    <tr>\n",
              "      <th>min</th>\n",
              "      <td>0.000000</td>\n",
              "    </tr>\n",
              "    <tr>\n",
              "      <th>25%</th>\n",
              "      <td>189.859155</td>\n",
              "    </tr>\n",
              "    <tr>\n",
              "      <th>50%</th>\n",
              "      <td>249.014085</td>\n",
              "    </tr>\n",
              "    <tr>\n",
              "      <th>75%</th>\n",
              "      <td>288.450704</td>\n",
              "    </tr>\n",
              "    <tr>\n",
              "      <th>max</th>\n",
              "      <td>479.436620</td>\n",
              "    </tr>\n",
              "  </tbody>\n",
              "</table>\n",
              "</div>"
            ],
            "text/plain": [
              "         power_usage\n",
              "count  140256.000000\n",
              "mean      242.393145\n",
              "std        72.339054\n",
              "min         0.000000\n",
              "25%       189.859155\n",
              "50%       249.014085\n",
              "75%       288.450704\n",
              "max       479.436620"
            ]
          },
          "metadata": {
            "tags": []
          },
          "execution_count": 7
        }
      ]
    },
    {
      "cell_type": "code",
      "metadata": {
        "id": "4MntETYUKVEg",
        "outputId": "dc90847e-50b4-421e-d681-efb447a1d950",
        "colab": {
          "base_uri": "https://localhost:8080/",
          "height": 298
        }
      },
      "source": [
        "df_week = df.iloc[0:96*7]\n",
        "df_week[\"power_usage\"].plot()"
      ],
      "execution_count": 8,
      "outputs": [
        {
          "output_type": "execute_result",
          "data": {
            "text/plain": [
              "<matplotlib.axes._subplots.AxesSubplot at 0x7f96b4aeb518>"
            ]
          },
          "metadata": {
            "tags": []
          },
          "execution_count": 8
        },
        {
          "output_type": "display_data",
          "data": {
            "image/png": "[encoded data removed]",
            "text/plain": [
              "<Figure size 432x288 with 1 Axes>"
            ]
          },
          "metadata": {
            "tags": [],
            "needs_background": "light"
          }
        }
      ]
    },
    {
      "cell_type": "code",
      "metadata": {
        "id": "mL5GKmW1V5C6"
      },
      "source": [
        "series = df['power_usage'].values"
      ],
      "execution_count": 9,
      "outputs": []
    },
    {
      "cell_type": "markdown",
      "metadata": {
        "id": "gujCHp_LcWb2"
      },
      "source": [
        "### 데이터셋을 입력데이터와 타깃데이터로 분리하는 함수입니다."
      ]
    },
    {
      "cell_type": "code",
      "metadata": {
        "id": "g5Rj6jl7cZRt"
      },
      "source": [
        "def split_data_input_label(dataset, start_index, end_index, hist_data_size, target_size):\n",
        "    data = []\n",
        "    labels = []\n",
        "\n",
        "    start_index = start_index + hist_data_size\n",
        "    if end_index is None:\n",
        "        end_index = len(dataset) - target_size\n",
        "\n",
        "    for i in range(start_index, end_index):\n",
        "        indices = range(i-hist_data_size, i)\n",
        "        # Reshape data from (hist_data_size,) to (hist_data_size, 1)\n",
        "        data.append(np.reshape(dataset[indices], (hist_data_size, 1)))\n",
        "        labels.append([dataset[i+target_size]])\n",
        "    return np.array(data), np.array(labels)"
      ],
      "execution_count": 10,
      "outputs": []
    },
    {
      "cell_type": "markdown",
      "metadata": {
        "id": "NqjPWMC6g6H7"
      },
      "source": [
        "## 시계열 데이터값을 0과 1사이 값으로 정규화합니다.\n"
      ]
    },
    {
      "cell_type": "code",
      "metadata": {
        "id": "gnZ4kgXFgn3A"
      },
      "source": [
        "train_split = 70080 # 365일 * 2년 * 96개데이터\n",
        "test_split = 105120 # 365일 * 3년 * 96개데이터\n",
        "\n",
        "min = np.min(series[:test_split])\n",
        "max = np.max(series[:test_split])\n",
        "\n",
        "dataset = (series - min)/max"
      ],
      "execution_count": 11,
      "outputs": []
    },
    {
      "cell_type": "code",
      "metadata": {
        "id": "_9ukMMaRMVr_"
      },
      "source": [
        "# train_split = 70080 # 365일 * 2년 * 96개데이터\n",
        "# test_split = 105120 # 365일 * 3년 * 96개데이터\n",
        "\n",
        "# data_mean = series[:test_split].mean()\n",
        "# data_std = series[:test_split].std()\n",
        "# dataset = (series - data_mean)/data_std"
      ],
      "execution_count": 12,
      "outputs": []
    },
    {
      "cell_type": "code",
      "metadata": {
        "id": "SZ_JRSoZNilW",
        "outputId": "e34a5610-841a-4c3b-9b01-487c33fc8a2b",
        "colab": {
          "base_uri": "https://localhost:8080/",
          "height": 53
        }
      },
      "source": [
        "dataset"
      ],
      "execution_count": 13,
      "outputs": [
        {
          "output_type": "execute_result",
          "data": {
            "text/plain": [
              "array([0.49118684, 0.49941246, 0.47708578, ..., 0.306698  , 0.2972973 ,\n",
              "       0.29847239])"
            ]
          },
          "metadata": {
            "tags": []
          },
          "execution_count": 13
        }
      ]
    },
    {
      "cell_type": "markdown",
      "metadata": {
        "id": "5EW7aFpBgpxM"
      },
      "source": [
        "## 훈련 데이터셋과 검증 데이터셋으로 데이터를 분할합니다."
      ]
    },
    {
      "cell_type": "code",
      "metadata": {
        "id": "VUqXWe4fXTtd"
      },
      "source": [
        "n_steps = 20\n",
        "future_target = 0\n",
        "\n",
        "X_train, y_train = split_data_input_label(dataset, 0,train_split, \n",
        "                                          n_steps, \n",
        "                                          future_target)\n",
        "X_valid, y_valid = split_data_input_label(dataset,train_split,test_split, \n",
        "                                          n_steps, \n",
        "                                          future_target)\n",
        "X_test, _ = split_data_input_label(dataset, test_split, test_split+1000, \n",
        "                                   n_steps, \n",
        "                                   future_target)"
      ],
      "execution_count": 14,
      "outputs": []
    },
    {
      "cell_type": "code",
      "metadata": {
        "id": "cJ25it-Jr0Ls",
        "outputId": "b482d1e4-bd68-40c1-9ced-6a0cad4b20cf",
        "colab": {
          "base_uri": "https://localhost:8080/",
          "height": 35
        }
      },
      "source": [
        "X_train.shape"
      ],
      "execution_count": 15,
      "outputs": [
        {
          "output_type": "execute_result",
          "data": {
            "text/plain": [
              "(70060, 20, 1)"
            ]
          },
          "metadata": {
            "tags": []
          },
          "execution_count": 15
        }
      ]
    },
    {
      "cell_type": "markdown",
      "metadata": {
        "id": "v6lsIm6hezKe"
      },
      "source": [
        "## 입력데이터, 타깃데이터, 예측데이터를 그래프로 출력하는 함수입니다."
      ]
    },
    {
      "cell_type": "code",
      "metadata": {
        "id": "RngUfpHRkiM9"
      },
      "source": [
        "def plot_series(series, y=None, y_pred=None, x_label=\"$t$\", y_label=\"$x(t)$\"):\n",
        "    plt.plot(series, \".-\")\n",
        "    if y is not None:\n",
        "        plt.plot(n_steps, y, \"bx\", markersize=10)\n",
        "    if y_pred is not None:\n",
        "        plt.plot(n_steps, y_pred, \"ro\")\n",
        "    plt.grid(True)\n",
        "    if x_label:\n",
        "        plt.xlabel(x_label, fontsize=16)\n",
        "    if y_label:\n",
        "        plt.ylabel(y_label, fontsize=16, rotation=0)"
      ],
      "execution_count": 16,
      "outputs": []
    },
    {
      "cell_type": "code",
      "metadata": {
        "id": "ifJyjNRnjO6B",
        "outputId": "ab897387-aade-40d4-bb79-4227e6c989b0",
        "colab": {
          "base_uri": "https://localhost:8080/",
          "height": 285
        }
      },
      "source": [
        "fig, axes = plt.subplots(nrows=1, ncols=3, sharey=True, figsize=(12, 4))\n",
        "for col in range(3):\n",
        "    plt.sca(axes[col])\n",
        "    plot_series(X_valid[col, :, 0], y_valid[col, 0],\n",
        "                y_label=(\"$x(t)$\" if col==0 else None))\n",
        "plt.show()"
      ],
      "execution_count": 17,
      "outputs": [
        {
          "output_type": "display_data",
          "data": {
            "image/png": "[encoded data removed]",
            "text/plain": [
              "<Figure size 864x288 with 3 Axes>"
            ]
          },
          "metadata": {
            "tags": [],
            "needs_background": "light"
          }
        }
      ]
    },
    {
      "cell_type": "markdown",
      "metadata": {
        "id": "akz9MbEhjm9x"
      },
      "source": [
        "## LSTM 모델 구성 "
      ]
    },
    {
      "cell_type": "code",
      "metadata": {
        "id": "XwyOUlSexc7h"
      },
      "source": [
        "np.random.seed(42)\n",
        "tf.random.set_seed(42)\n",
        "\n",
        "model = keras.models.Sequential([\n",
        "    keras.layers.LSTM(20, input_shape=[None, 1], return_sequences=True),\n",
        "    keras.layers.LSTM(20),\n",
        "    keras.layers.Dense(20, activation=\"relu\"),\n",
        "    keras.layers.Dense(1)\n",
        "])"
      ],
      "execution_count": 18,
      "outputs": []
    },
    {
      "cell_type": "markdown",
      "metadata": {
        "id": "_1ybPM1xtUTK"
      },
      "source": [
        "모델 구성 확인"
      ]
    },
    {
      "cell_type": "code",
      "metadata": {
        "id": "tHm6mlN6tOlc",
        "outputId": "d3c7ca07-9b61-4a27-e884-905de911d17d",
        "colab": {
          "base_uri": "https://localhost:8080/",
          "height": 305
        }
      },
      "source": [
        "model.summary()"
      ],
      "execution_count": 19,
      "outputs": [
        {
          "output_type": "stream",
          "text": [
            "Model: \"sequential\"\n",
            "_________________________________________________________________\n",
            "Layer (type)                 Output Shape              Param #   \n",
            "=================================================================\n",
            "lstm (LSTM)                  (None, None, 20)          1760      \n",
            "_________________________________________________________________\n",
            "lstm_1 (LSTM)                (None, 20)                3280      \n",
            "_________________________________________________________________\n",
            "dense (Dense)                (None, 20)                420       \n",
            "_________________________________________________________________\n",
            "dense_1 (Dense)              (None, 1)                 21        \n",
            "=================================================================\n",
            "Total params: 5,481\n",
            "Trainable params: 5,481\n",
            "Non-trainable params: 0\n",
            "_________________________________________________________________\n"
          ],
          "name": "stdout"
        }
      ]
    },
    {
      "cell_type": "markdown",
      "metadata": {
        "id": "_RHgmVGKtafp"
      },
      "source": [
        "초기 가중치 설정 확인"
      ]
    },
    {
      "cell_type": "code",
      "metadata": {
        "id": "Ti4QOSZOtPDa",
        "outputId": "675a074e-73ad-4282-9260-f177374abe82",
        "colab": {
          "base_uri": "https://localhost:8080/",
          "height": 647
        }
      },
      "source": [
        "hidden1 = model.layers[0]\n",
        "hidden1.get_weights()"
      ],
      "execution_count": 20,
      "outputs": [
        {
          "output_type": "execute_result",
          "data": {
            "text/plain": [
              "[array([[ 0.08957627, -0.03211184, -0.08008063, -0.01933324, -0.25384313,\n",
              "          0.10052291,  0.13070339,  0.20273313, -0.14896908, -0.15067255,\n",
              "         -0.10321166,  0.12102428, -0.19966762,  0.02616265,  0.04061189,\n",
              "          0.21756014, -0.26701418,  0.01155654,  0.07323673, -0.16366494,\n",
              "          0.12488177,  0.02494916, -0.21361428,  0.09618661,  0.08724338,\n",
              "         -0.08875296,  0.05520478, -0.15751538,  0.19200581, -0.03232144,\n",
              "          0.24414748, -0.14287278,  0.1697186 ,  0.01433736, -0.00309834,\n",
              "         -0.1545201 ,  0.18818596,  0.20242807, -0.10430135,  0.10168311,\n",
              "         -0.1428105 ,  0.15335047,  0.25427794, -0.2347691 ,  0.16261315,\n",
              "          0.08724928,  0.04743916, -0.18255943,  0.12960649, -0.09768543,\n",
              "          0.05845568, -0.01892379,  0.26020956,  0.12101269, -0.09609051,\n",
              "          0.17732856, -0.00125659, -0.16610985,  0.14091358, -0.08815746,\n",
              "         -0.11905575, -0.10062738,  0.05808514,  0.13600644,  0.00087392,\n",
              "         -0.17265004, -0.20042372,  0.07966897,  0.24818641,  0.09094328,\n",
              "         -0.10475361, -0.07134989, -0.02865414, -0.17222929,  0.01569062,\n",
              "          0.11173779,  0.21698833, -0.10132019,  0.06716096,  0.25483143]],\n",
              "       dtype=float32),\n",
              " array([[ 0.00848782,  0.13927703, -0.11777072, ...,  0.03308187,\n",
              "         -0.06876265,  0.01762041],\n",
              "        [-0.098917  ,  0.15542936, -0.07063237, ...,  0.09542653,\n",
              "         -0.09328922, -0.04777871],\n",
              "        [ 0.03961128, -0.04327876,  0.18251567, ..., -0.02855418,\n",
              "         -0.06920177,  0.01057689],\n",
              "        ...,\n",
              "        [ 0.05020273,  0.13064197,  0.12684484, ...,  0.14636594,\n",
              "          0.1160925 ,  0.18549342],\n",
              "        [-0.13476476,  0.11071863, -0.20266646, ...,  0.16447414,\n",
              "         -0.07730891, -0.14219268],\n",
              "        [ 0.11965366, -0.106866  ,  0.07288226, ..., -0.03473076,\n",
              "          0.10339686, -0.06805156]], dtype=float32),\n",
              " array([0., 0., 0., 0., 0., 0., 0., 0., 0., 0., 0., 0., 0., 0., 0., 0., 0.,\n",
              "        0., 0., 0., 1., 1., 1., 1., 1., 1., 1., 1., 1., 1., 1., 1., 1., 1.,\n",
              "        1., 1., 1., 1., 1., 1., 0., 0., 0., 0., 0., 0., 0., 0., 0., 0., 0.,\n",
              "        0., 0., 0., 0., 0., 0., 0., 0., 0., 0., 0., 0., 0., 0., 0., 0., 0.,\n",
              "        0., 0., 0., 0., 0., 0., 0., 0., 0., 0., 0., 0.], dtype=float32)]"
            ]
          },
          "metadata": {
            "tags": []
          },
          "execution_count": 20
        }
      ]
    },
    {
      "cell_type": "markdown",
      "metadata": {
        "id": "BbOipfup6dnW"
      },
      "source": [
        "모델 컴파일"
      ]
    },
    {
      "cell_type": "code",
      "metadata": {
        "id": "-WDHEk4b6NqA"
      },
      "source": [
        "model.compile(optimizer='adam', loss='mse')"
      ],
      "execution_count": 21,
      "outputs": []
    },
    {
      "cell_type": "markdown",
      "metadata": {
        "id": "unE_Cax_uVW4"
      },
      "source": [
        "모델 훈련 조기종료, 체크포인트 설정"
      ]
    },
    {
      "cell_type": "code",
      "metadata": {
        "id": "BHQWlXc9uFeu"
      },
      "source": [
        "early_stop = EarlyStopping(monitor='val_loss', mode='min', \n",
        "                    verbose=1, patience=5)\n",
        "check_point = ModelCheckpoint('best_model.h5', verbose=1,\n",
        "            monitor='val_loss', mode='min', save_best_only=True)"
      ],
      "execution_count": 22,
      "outputs": []
    },
    {
      "cell_type": "markdown",
      "metadata": {
        "id": "5TZOm46Rtl-o"
      },
      "source": [
        "모델 컴파일"
      ]
    },
    {
      "cell_type": "code",
      "metadata": {
        "id": "nreG6uV1tObt",
        "outputId": "b440bcab-64de-4829-a832-6d06a091976b",
        "colab": {
          "base_uri": "https://localhost:8080/",
          "height": 1000
        }
      },
      "source": [
        "history = model.fit(x=X_train, y=y_train, \n",
        "          epochs=30 , \n",
        "          batch_size=96,\n",
        "          verbose=1,                                     \n",
        "          validation_data=(X_valid, y_valid), \n",
        "          callbacks=[early_stop, check_point])"
      ],
      "execution_count": 23,
      "outputs": [
        {
          "output_type": "stream",
          "text": [
            "Epoch 1/30\n",
            "724/730 [============================>.] - ETA: 0s - loss: 0.0075\n",
            "Epoch 00001: val_loss improved from inf to 0.00161, saving model to best_model.h5\n",
            "730/730 [==============================] - 5s 7ms/step - loss: 0.0074 - val_loss: 0.0016\n",
            "Epoch 2/30\n",
            "723/730 [============================>.] - ETA: 0s - loss: 0.0014\n",
            "Epoch 00002: val_loss improved from 0.00161 to 0.00114, saving model to best_model.h5\n",
            "730/730 [==============================] - 5s 6ms/step - loss: 0.0014 - val_loss: 0.0011\n",
            "Epoch 3/30\n",
            "729/730 [============================>.] - ETA: 0s - loss: 0.0012\n",
            "Epoch 00003: val_loss improved from 0.00114 to 0.00093, saving model to best_model.h5\n",
            "730/730 [==============================] - 5s 6ms/step - loss: 0.0012 - val_loss: 9.2883e-04\n",
            "Epoch 4/30\n",
            "729/730 [============================>.] - ETA: 0s - loss: 0.0011\n",
            "Epoch 00004: val_loss improved from 0.00093 to 0.00082, saving model to best_model.h5\n",
            "730/730 [==============================] - 5s 6ms/step - loss: 0.0011 - val_loss: 8.1563e-04\n",
            "Epoch 5/30\n",
            "727/730 [============================>.] - ETA: 0s - loss: 9.5887e-04\n",
            "Epoch 00005: val_loss improved from 0.00082 to 0.00077, saving model to best_model.h5\n",
            "730/730 [==============================] - 5s 6ms/step - loss: 9.5790e-04 - val_loss: 7.7074e-04\n",
            "Epoch 6/30\n",
            "726/730 [============================>.] - ETA: 0s - loss: 9.1064e-04\n",
            "Epoch 00006: val_loss did not improve from 0.00077\n",
            "730/730 [==============================] - 5s 6ms/step - loss: 9.1070e-04 - val_loss: 9.3018e-04\n",
            "Epoch 7/30\n",
            "723/730 [============================>.] - ETA: 0s - loss: 8.8603e-04\n",
            "Epoch 00007: val_loss did not improve from 0.00077\n",
            "730/730 [==============================] - 5s 6ms/step - loss: 8.8586e-04 - val_loss: 7.7256e-04\n",
            "Epoch 8/30\n",
            "728/730 [============================>.] - ETA: 0s - loss: 8.9930e-04\n",
            "Epoch 00008: val_loss did not improve from 0.00077\n",
            "730/730 [==============================] - 5s 6ms/step - loss: 8.9937e-04 - val_loss: 7.7353e-04\n",
            "Epoch 9/30\n",
            "721/730 [============================>.] - ETA: 0s - loss: 8.7067e-04\n",
            "Epoch 00009: val_loss improved from 0.00077 to 0.00074, saving model to best_model.h5\n",
            "730/730 [==============================] - 5s 6ms/step - loss: 8.7079e-04 - val_loss: 7.3651e-04\n",
            "Epoch 10/30\n",
            "729/730 [============================>.] - ETA: 0s - loss: 8.6073e-04\n",
            "Epoch 00010: val_loss did not improve from 0.00074\n",
            "730/730 [==============================] - 5s 6ms/step - loss: 8.6072e-04 - val_loss: 7.8310e-04\n",
            "Epoch 11/30\n",
            "724/730 [============================>.] - ETA: 0s - loss: 8.4814e-04\n",
            "Epoch 00011: val_loss did not improve from 0.00074\n",
            "730/730 [==============================] - 5s 6ms/step - loss: 8.4783e-04 - val_loss: 7.8362e-04\n",
            "Epoch 12/30\n",
            "722/730 [============================>.] - ETA: 0s - loss: 8.6254e-04\n",
            "Epoch 00012: val_loss improved from 0.00074 to 0.00073, saving model to best_model.h5\n",
            "730/730 [==============================] - 5s 6ms/step - loss: 8.6156e-04 - val_loss: 7.2705e-04\n",
            "Epoch 13/30\n",
            "730/730 [==============================] - ETA: 0s - loss: 8.4061e-04\n",
            "Epoch 00013: val_loss did not improve from 0.00073\n",
            "730/730 [==============================] - 5s 6ms/step - loss: 8.4061e-04 - val_loss: 7.5877e-04\n",
            "Epoch 14/30\n",
            "724/730 [============================>.] - ETA: 0s - loss: 8.5371e-04\n",
            "Epoch 00014: val_loss improved from 0.00073 to 0.00072, saving model to best_model.h5\n",
            "730/730 [==============================] - 5s 6ms/step - loss: 8.5410e-04 - val_loss: 7.1999e-04\n",
            "Epoch 15/30\n",
            "725/730 [============================>.] - ETA: 0s - loss: 8.4110e-04\n",
            "Epoch 00015: val_loss did not improve from 0.00072\n",
            "730/730 [==============================] - 5s 6ms/step - loss: 8.4203e-04 - val_loss: 7.7674e-04\n",
            "Epoch 16/30\n",
            "721/730 [============================>.] - ETA: 0s - loss: 8.3979e-04\n",
            "Epoch 00016: val_loss did not improve from 0.00072\n",
            "730/730 [==============================] - 5s 6ms/step - loss: 8.3961e-04 - val_loss: 7.3610e-04\n",
            "Epoch 17/30\n",
            "730/730 [==============================] - ETA: 0s - loss: 8.3704e-04\n",
            "Epoch 00017: val_loss did not improve from 0.00072\n",
            "730/730 [==============================] - 5s 6ms/step - loss: 8.3704e-04 - val_loss: 7.3414e-04\n",
            "Epoch 18/30\n",
            "730/730 [==============================] - ETA: 0s - loss: 8.3086e-04\n",
            "Epoch 00018: val_loss did not improve from 0.00072\n",
            "730/730 [==============================] - 5s 6ms/step - loss: 8.3086e-04 - val_loss: 8.2424e-04\n",
            "Epoch 19/30\n",
            "730/730 [==============================] - ETA: 0s - loss: 8.2269e-04\n",
            "Epoch 00019: val_loss did not improve from 0.00072\n",
            "730/730 [==============================] - 5s 6ms/step - loss: 8.2269e-04 - val_loss: 7.4040e-04\n",
            "Epoch 00019: early stopping\n"
          ],
          "name": "stdout"
        }
      ]
    },
    {
      "cell_type": "markdown",
      "metadata": {
        "id": "955KwcDSkFiZ"
      },
      "source": [
        "신경망 모델의 학습상태를 출력하는 함수입니다."
      ]
    },
    {
      "cell_type": "code",
      "metadata": {
        "id": "tjpStVEhpt-I",
        "outputId": "7fc27275-1489-4d01-8292-62ddead9e1ae",
        "colab": {
          "base_uri": "https://localhost:8080/",
          "height": 283
        }
      },
      "source": [
        "def plot_learning_curves(loss, val_loss):\n",
        "    plt.plot(np.arange(len(loss)) + 0.5, loss, \"b.-\", label=\"Training loss\")\n",
        "    plt.plot(np.arange(len(val_loss)) + 1, val_loss, \"r.-\", label=\"Validation loss\")\n",
        "    plt.axis([1, 10, 0, 0.05])\n",
        "    plt.legend(fontsize=14)\n",
        "    plt.xlabel(\"Epochs\")\n",
        "    plt.ylabel(\"Loss\")\n",
        "    plt.grid(True)\n",
        "\n",
        "plot_learning_curves(history.history[\"loss\"], history.history[\"val_loss\"])\n",
        "plt.show()"
      ],
      "execution_count": 24,
      "outputs": [
        {
          "output_type": "display_data",
          "data": {
            "image/png": "[encoded data removed]",
            "text/plain": [
              "<Figure size 432x288 with 1 Axes>"
            ]
          },
          "metadata": {
            "tags": [],
            "needs_background": "light"
          }
        }
      ]
    },
    {
      "cell_type": "markdown",
      "metadata": {
        "id": "-ByU7qm9krul"
      },
      "source": [
        "## 검증 데이터셋으로 신경망 모델을 평가합니다."
      ]
    },
    {
      "cell_type": "code",
      "metadata": {
        "id": "igxMlk1Ept-0",
        "outputId": "f114a101-8f7e-4c6c-a457-b566f82f9f09",
        "colab": {
          "base_uri": "https://localhost:8080/",
          "height": 53
        }
      },
      "source": [
        "model.evaluate(X_valid, y_valid)"
      ],
      "execution_count": 25,
      "outputs": [
        {
          "output_type": "stream",
          "text": [
            "1095/1095 [==============================] - 3s 3ms/step - loss: 7.4040e-04\n"
          ],
          "name": "stdout"
        },
        {
          "output_type": "execute_result",
          "data": {
            "text/plain": [
              "0.0007404044736176729"
            ]
          },
          "metadata": {
            "tags": []
          },
          "execution_count": 25
        }
      ]
    },
    {
      "cell_type": "markdown",
      "metadata": {
        "id": "2dDO7Yo3mfgs"
      },
      "source": [
        "## 예측 결과를 확인합니다."
      ]
    },
    {
      "cell_type": "code",
      "metadata": {
        "id": "k7riqZKkaORa",
        "outputId": "3d6f1b54-3a01-4e3a-f4a0-7761b3daf785",
        "colab": {
          "base_uri": "https://localhost:8080/",
          "height": 393
        }
      },
      "source": [
        "time_step = 200\n",
        "n_step = 20\n",
        "y_pred = model.predict(X_valid[time_step].reshape(1, n_step, 1))\n",
        "\n",
        "\n",
        "fig, axes = plt.subplots(nrows=1, ncols=1, sharey=True, figsize=(12, 4))\n",
        "plot_series(X_valid[time_step, :, 0]*max + min, \n",
        "            y_valid[time_step, 0]*max + min, \n",
        "            y_pred[0, 0]*max + min)\n",
        "\n",
        "input_data = X_valid[time_step, :, 0]*max + min\n",
        "print(\"입력 데이터 : {}\".format(np.round(input_data,2)))\n",
        "predict_value = y_pred[0, 0]*max + min\n",
        "print(\"예측값 : {}\".format(round(predict_value, 2)))\n",
        "real_value = y_valid[time_step, 0]*max + min\n",
        "print(\"실제값 : {}\".format(round(real_value)))\n",
        "error = abs(predict_value-real_value)\n",
        "error_rate = error/real_value*100\n",
        "print(\"오차 : {}\".format(round(error, 2)))\n",
        "print(\"오차율 : {}%\".format(round(error_rate, 2)))"
      ],
      "execution_count": 27,
      "outputs": [
        {
          "output_type": "stream",
          "text": [
            "입력 데이터 : [102.54 104.79  96.34  90.7  100.28  99.72  97.46  99.15  99.72  98.03\n",
            " 108.17 108.73 135.21 170.14 166.2  152.68 161.69 167.89 162.82 161.69]\n",
            "예측값 : 165.45\n",
            "실제값 : 161.0\n",
            "오차 : 4.88\n",
            "오차율 : 3.04%\n"
          ],
          "name": "stdout"
        },
        {
          "output_type": "display_data",
          "data": {
            "image/png": "[encoded data removed]",
            "text/plain": [
              "<Figure size 864x288 with 1 Axes>"
            ]
          },
          "metadata": {
            "tags": [],
            "needs_background": "light"
          }
        }
      ]
    },
    {
      "cell_type": "markdown",
      "metadata": {
        "id": "JgOfPWLGlFv-"
      },
      "source": [
        "## 모델 저장"
      ]
    },
    {
      "cell_type": "code",
      "metadata": {
        "id": "h94CvnW5lYSq"
      },
      "source": [
        "model.save('my_model.h5')"
      ],
      "execution_count": 28,
      "outputs": []
    },
    {
      "cell_type": "markdown",
      "metadata": {
        "id": "1Li7wRZPla7D"
      },
      "source": [
        "## 저장한 모델 로드"
      ]
    },
    {
      "cell_type": "code",
      "metadata": {
        "id": "RVKXTmuSloz1"
      },
      "source": [
        "model = load_model('best_model.h5')\n",
        "# model = load_model('my_model.h5')"
      ],
      "execution_count": 29,
      "outputs": []
    },
    {
      "cell_type": "markdown",
      "metadata": {
        "id": "ApfDCSKJltFK"
      },
      "source": [
        "## 저장한 모델을 사용하여 예측"
      ]
    },
    {
      "cell_type": "code",
      "metadata": {
        "id": "ZhPArIawl02C",
        "outputId": "e3593fcd-f393-4c00-9cef-ccb4c04ce293",
        "colab": {
          "base_uri": "https://localhost:8080/",
          "height": 393
        }
      },
      "source": [
        "time_step = 200\n",
        "y_pred = model.predict(X_valid[time_step].reshape(1, n_steps, 1))\n",
        "\n",
        "fig, axes = plt.subplots(nrows=1, ncols=1, sharey=True, figsize=(12, 4))\n",
        "plot_series(X_valid[time_step, :, 0]*max + min, \n",
        "            y_valid[time_step, 0]*max + min, \n",
        "            y_pred[0, 0]*max + min)\n",
        "\n",
        "input_data = X_valid[time_step, :, 0]*max + min\n",
        "print(\"입력 데이터 : {}\".format(np.round(input_data,2)))\n",
        "predict_value = y_pred[0, 0]*max + min\n",
        "print(\"예측값 : {}\".format(round(predict_value, 2)))\n",
        "real_value = y_valid[time_step, 0]*max + min\n",
        "print(\"실제값 : {}\".format(round(real_value)))\n",
        "error = abs(predict_value-real_value)\n",
        "error_rate = error/real_value*100\n",
        "print(\"오차 : {}\".format(round(error, 2)))\n",
        "print(\"오차율 : {}%\".format(round(error_rate, 2)))"
      ],
      "execution_count": 30,
      "outputs": [
        {
          "output_type": "stream",
          "text": [
            "입력 데이터 : [102.54 104.79  96.34  90.7  100.28  99.72  97.46  99.15  99.72  98.03\n",
            " 108.17 108.73 135.21 170.14 166.2  152.68 161.69 167.89 162.82 161.69]\n",
            "예측값 : 162.04\n",
            "실제값 : 161.0\n",
            "오차 : 1.48\n",
            "오차율 : 0.92%\n"
          ],
          "name": "stdout"
        },
        {
          "output_type": "display_data",
          "data": {
            "image/png": "[encoded data removed]",
            "text/plain": [
              "<Figure size 864x288 with 1 Axes>"
            ]
          },
          "metadata": {
            "tags": [],
            "needs_background": "light"
          }
        }
      ]
    }
  ]
}