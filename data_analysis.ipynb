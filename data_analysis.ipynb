{
  "nbformat": 4,
  "nbformat_minor": 0,
  "metadata": {
    "colab": {
      "name": "data_analysis.ipynb",
      "provenance": [],
      "collapsed_sections": [],
      "authorship_tag": "ABX9TyPJPDwgunaL10R49o6YzjYM",
      "include_colab_link": true
    },
    "kernelspec": {
      "name": "python3",
      "display_name": "Python 3"
    }
  },
  "cells": [
    {
      "cell_type": "markdown",
      "metadata": {
        "id": "view-in-github",
        "colab_type": "text"
      },
      "source": [
        "<a href=\"https://colab.research.google.com/github/kgpark88/ems/blob/master/data_analysis.ipynb\" target=\"_parent\"><img src=\"https://colab.research.google.com/assets/colab-badge.svg\" alt=\"Open In Colab\"/></a>"
      ]
    },
    {
      "cell_type": "markdown",
      "metadata": {
        "id": "49sno4m8lpmx"
      },
      "source": [
        "# 에너지 데이터 분석"
      ]
    },
    {
      "cell_type": "markdown",
      "metadata": {
        "id": "c43cY1Mvl9if"
      },
      "source": [
        "## 넘파이(Numpy)\n",
        "NumPy(Numerical Python)는 데이터 분석을 포함해 수학과 과학연산을 위한 파이썬 기본 패키지로 고성능의 다차원 배열 객체와 다양한 객체에 대해 고속 연산을 가능하게 합니다.\n"
      ]
    },
    {
      "cell_type": "markdown",
      "metadata": {
        "id": "IYYl34Pomgfe"
      },
      "source": [
        "Numpy 라이브러리 임포트"
      ]
    },
    {
      "cell_type": "code",
      "metadata": {
        "id": "9Q3J7h6Iljbx"
      },
      "source": [
        "import numpy as np"
      ],
      "execution_count": null,
      "outputs": []
    },
    {
      "cell_type": "markdown",
      "metadata": {
        "id": "j4CalkxxmpEe"
      },
      "source": [
        "파이썬 리스트(list) 정의"
      ]
    },
    {
      "cell_type": "code",
      "metadata": {
        "id": "HhnUUYjqloxZ"
      },
      "source": [
        "lst = [2, 4, -1, 5.5, 3.5, -2, 5, 4, 6.5, 7.5]"
      ],
      "execution_count": null,
      "outputs": []
    },
    {
      "cell_type": "markdown",
      "metadata": {
        "id": "gIb1rhCnmvbN"
      },
      "source": [
        "리스트(list)를 Numpy array 로 변환"
      ]
    },
    {
      "cell_type": "code",
      "metadata": {
        "id": "UIwK9sOVlo05"
      },
      "source": [
        "ar = np.array(lst)"
      ],
      "execution_count": null,
      "outputs": []
    },
    {
      "cell_type": "markdown",
      "metadata": {
        "id": "MH_vs7j_nGlj"
      },
      "source": [
        "통계 계산 및 출력"
      ]
    },
    {
      "cell_type": "code",
      "metadata": {
        "id": "VrS5YPBInP5M",
        "outputId": "5e6d1a21-7429-4f70-c34a-229bf37b76f2",
        "colab": {
          "base_uri": "https://localhost:8080/",
          "height": 35
        }
      },
      "source": [
        "ar.mean()"
      ],
      "execution_count": null,
      "outputs": [
        {
          "output_type": "execute_result",
          "data": {
            "text/plain": [
              "3.5"
            ]
          },
          "metadata": {
            "tags": []
          },
          "execution_count": 16
        }
      ]
    },
    {
      "cell_type": "code",
      "metadata": {
        "id": "QBam-CXbniQz",
        "outputId": "f8e95531-ae35-43f0-926c-24253e7fb39c",
        "colab": {
          "base_uri": "https://localhost:8080/",
          "height": 35
        }
      },
      "source": [
        "np.median(ar)"
      ],
      "execution_count": null,
      "outputs": [
        {
          "output_type": "execute_result",
          "data": {
            "text/plain": [
              "4.0"
            ]
          },
          "metadata": {
            "tags": []
          },
          "execution_count": 17
        }
      ]
    },
    {
      "cell_type": "code",
      "metadata": {
        "id": "5KPWHWhflo32",
        "outputId": "33bde905-40eb-4ca7-c1b3-86f925d93809",
        "colab": {
          "base_uri": "https://localhost:8080/",
          "height": 126
        }
      },
      "source": [
        "print('Mean:', ar.mean())\n",
        "print('Median:', np.median(ar))\n",
        "print('Range (Max - min):', np.ptp(ar))\n",
        "print('Standard deviation:', ar.std())\n",
        "print('80th percentile:', np.percentile(ar, 80))\n",
        "print('0.2-quantile:', np.quantile(ar, 0.2))"
      ],
      "execution_count": null,
      "outputs": [
        {
          "output_type": "stream",
          "text": [
            "Mean: 3.5\n",
            "Median: 4.0\n",
            "Range (Max - min): 9.5\n",
            "Standard deviation: 2.9068883707497264\n",
            "80th percentile: 5.699999999999999\n",
            "0.2-quantile: 1.4000000000000001\n"
          ],
          "name": "stdout"
        }
      ]
    },
    {
      "cell_type": "code",
      "metadata": {
        "id": "VILvamkylo6_"
      },
      "source": [
        ""
      ],
      "execution_count": null,
      "outputs": []
    },
    {
      "cell_type": "code",
      "metadata": {
        "id": "y9W-W3UNlpA8"
      },
      "source": [
        ""
      ],
      "execution_count": null,
      "outputs": []
    },
    {
      "cell_type": "code",
      "metadata": {
        "id": "sRcEdFbDlpEP"
      },
      "source": [
        ""
      ],
      "execution_count": null,
      "outputs": []
    },
    {
      "cell_type": "code",
      "metadata": {
        "id": "Gm88fktLlpHL"
      },
      "source": [
        ""
      ],
      "execution_count": null,
      "outputs": []
    },
    {
      "cell_type": "code",
      "metadata": {
        "id": "Im9h8f-MlpKq"
      },
      "source": [
        ""
      ],
      "execution_count": null,
      "outputs": []
    }
  ]
}