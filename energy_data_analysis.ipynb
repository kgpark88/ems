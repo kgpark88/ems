{
  "nbformat": 4,
  "nbformat_minor": 0,
  "metadata": {
    "colab": {
      "name": "energy_data_analysis.ipynb",
      "provenance": [],
      "collapsed_sections": [],
      "toc_visible": true,
      "include_colab_link": true
    },
    "kernelspec": {
      "name": "python3",
      "display_name": "Python 3"
    }
  },
  "cells": [
    {
      "cell_type": "markdown",
      "metadata": {
        "id": "view-in-github",
        "colab_type": "text"
      },
      "source": [
        "<a href=\"https://colab.research.google.com/github/kgpark88/ems/blob/master/energy_data_analysis.ipynb\" target=\"_parent\"><img src=\"https://colab.research.google.com/assets/colab-badge.svg\" alt=\"Open In Colab\"/></a>"
      ]
    },
    {
      "cell_type": "markdown",
      "metadata": {
        "id": "49sno4m8lpmx"
      },
      "source": [
        "# 에너지 데이터 분석"
      ]
    },
    {
      "cell_type": "markdown",
      "metadata": {
        "id": "c43cY1Mvl9if"
      },
      "source": [
        "## 1. 넘파이(Numpy)\n",
        "NumPy(Numerical Python)는 데이터 분석을 포함해 수학과 과학연산을 위한 파이썬 기본 패키지로 고성능의 다차원 배열 객체와 다양한 객체에 대해 고속 연산을 가능하게 합니다.\n"
      ]
    },
    {
      "cell_type": "markdown",
      "metadata": {
        "id": "IYYl34Pomgfe"
      },
      "source": [
        "Numpy 라이브러리 임포트"
      ]
    },
    {
      "cell_type": "code",
      "metadata": {
        "id": "9Q3J7h6Iljbx"
      },
      "source": [
        "import numpy as np"
      ],
      "execution_count": 1,
      "outputs": []
    },
    {
      "cell_type": "markdown",
      "metadata": {
        "id": "j4CalkxxmpEe"
      },
      "source": [
        "파이썬 리스트(list) 정의"
      ]
    },
    {
      "cell_type": "code",
      "metadata": {
        "id": "HhnUUYjqloxZ"
      },
      "source": [
        "lst = [1, 2, 3, 4, 5, 6, 7, 8, 9, 10]"
      ],
      "execution_count": 2,
      "outputs": []
    },
    {
      "cell_type": "markdown",
      "metadata": {
        "id": "gIb1rhCnmvbN"
      },
      "source": [
        "리스트(list)를 Numpy array 로 변환"
      ]
    },
    {
      "cell_type": "code",
      "metadata": {
        "id": "SuXZQe3kOCCr",
        "outputId": "e5ffd490-1977-4ce7-b468-c21da0453401",
        "colab": {
          "base_uri": "https://localhost:8080/",
          "height": 36
        }
      },
      "source": [
        "arr = np.array(lst)\n",
        "arr"
      ],
      "execution_count": 3,
      "outputs": [
        {
          "output_type": "execute_result",
          "data": {
            "text/plain": [
              "array([ 1,  2,  3,  4,  5,  6,  7,  8,  9, 10])"
            ]
          },
          "metadata": {
            "tags": []
          },
          "execution_count": 3
        }
      ]
    },
    {
      "cell_type": "markdown",
      "metadata": {
        "id": "MH_vs7j_nGlj"
      },
      "source": [
        "통계 계산 및 출력"
      ]
    },
    {
      "cell_type": "code",
      "metadata": {
        "id": "QBam-CXbniQz",
        "outputId": "71051258-4444-4470-c390-7a4e067e8672",
        "colab": {
          "base_uri": "https://localhost:8080/",
          "height": 36
        }
      },
      "source": [
        "np.median(arr)"
      ],
      "execution_count": 4,
      "outputs": [
        {
          "output_type": "execute_result",
          "data": {
            "text/plain": [
              "5.5"
            ]
          },
          "metadata": {
            "tags": []
          },
          "execution_count": 4
        }
      ]
    },
    {
      "cell_type": "code",
      "metadata": {
        "id": "5KPWHWhflo32",
        "outputId": "e9cb96ee-164c-4e55-8252-23bfa3f65c7a",
        "colab": {
          "base_uri": "https://localhost:8080/",
          "height": 129
        }
      },
      "source": [
        "print('Mean:', arr.mean())\n",
        "print('Median:', np.median(arr))\n",
        "print('Range (Max - min):', np.ptp(arr))\n",
        "print('Standard deviation:', arr.std())\n",
        "print('80th percentile:', np.percentile(arr, 80))\n",
        "print('0.2-quantile:', np.quantile(arr, 0.2))"
      ],
      "execution_count": 5,
      "outputs": [
        {
          "output_type": "stream",
          "text": [
            "Mean: 5.5\n",
            "Median: 5.5\n",
            "Range (Max - min): 9\n",
            "Standard deviation: 2.8722813232690143\n",
            "80th percentile: 8.2\n",
            "0.2-quantile: 2.8000000000000003\n"
          ],
          "name": "stdout"
        }
      ]
    },
    {
      "cell_type": "markdown",
      "metadata": {
        "id": "n1qx_qQUTone"
      },
      "source": [
        "# 2. 판다스(Pandas)\n",
        "Pandas는 데이타 분석을 위해 널리 사용되는 파이썬 라이브러리 패키지입니다. \n",
        "데이터프레임 자료구조를 사용하여, 데이터 분석에 있어 높은 수준의 성능을 발휘합니다. \n"
      ]
    },
    {
      "cell_type": "code",
      "metadata": {
        "id": "VILvamkylo6_"
      },
      "source": [
        "import numpy as np\n",
        "import pandas as pd\n",
        "import matplotlib.pyplot as plt"
      ],
      "execution_count": 6,
      "outputs": []
    },
    {
      "cell_type": "markdown",
      "metadata": {
        "id": "e1-GzhCoUXo1"
      },
      "source": [
        "datetime 인덱스와 레이블이 있는 열을 가지고 있는 numpy 배열을 전달하여 데이터프레임을 만듭니다."
      ]
    },
    {
      "cell_type": "code",
      "metadata": {
        "id": "y9W-W3UNlpA8"
      },
      "source": [
        "dates = pd.date_range('20200101', periods=31)"
      ],
      "execution_count": 7,
      "outputs": []
    },
    {
      "cell_type": "code",
      "metadata": {
        "id": "sRcEdFbDlpEP",
        "outputId": "43b5c077-642b-4245-941f-406fc197ff95",
        "colab": {
          "base_uri": "https://localhost:8080/",
          "height": 185
        }
      },
      "source": [
        "dates"
      ],
      "execution_count": 8,
      "outputs": [
        {
          "output_type": "execute_result",
          "data": {
            "text/plain": [
              "DatetimeIndex(['2020-01-01', '2020-01-02', '2020-01-03', '2020-01-04',\n",
              "               '2020-01-05', '2020-01-06', '2020-01-07', '2020-01-08',\n",
              "               '2020-01-09', '2020-01-10', '2020-01-11', '2020-01-12',\n",
              "               '2020-01-13', '2020-01-14', '2020-01-15', '2020-01-16',\n",
              "               '2020-01-17', '2020-01-18', '2020-01-19', '2020-01-20',\n",
              "               '2020-01-21', '2020-01-22', '2020-01-23', '2020-01-24',\n",
              "               '2020-01-25', '2020-01-26', '2020-01-27', '2020-01-28',\n",
              "               '2020-01-29', '2020-01-30', '2020-01-31'],\n",
              "              dtype='datetime64[ns]', freq='D')"
            ]
          },
          "metadata": {
            "tags": []
          },
          "execution_count": 8
        }
      ]
    },
    {
      "cell_type": "code",
      "metadata": {
        "id": "o-fV-CZlbNGH"
      },
      "source": [
        "data = np.random.randint(0,100,(31, 3))"
      ],
      "execution_count": 9,
      "outputs": []
    },
    {
      "cell_type": "code",
      "metadata": {
        "id": "Gm88fktLlpHL"
      },
      "source": [
        "df = pd.DataFrame(data=data, index=dates, columns=['power_usage','gas_usage','water_usage'])"
      ],
      "execution_count": 10,
      "outputs": []
    },
    {
      "cell_type": "code",
      "metadata": {
        "id": "Im9h8f-MlpKq",
        "outputId": "9711fed2-e2aa-40ef-b22c-cac5226cae68",
        "colab": {
          "base_uri": "https://localhost:8080/",
          "height": 202
        }
      },
      "source": [
        "df.head()"
      ],
      "execution_count": 11,
      "outputs": [
        {
          "output_type": "execute_result",
          "data": {
            "text/html": [
              "<div>\n",
              "<style scoped>\n",
              "    .dataframe tbody tr th:only-of-type {\n",
              "        vertical-align: middle;\n",
              "    }\n",
              "\n",
              "    .dataframe tbody tr th {\n",
              "        vertical-align: top;\n",
              "    }\n",
              "\n",
              "    .dataframe thead th {\n",
              "        text-align: right;\n",
              "    }\n",
              "</style>\n",
              "<table border=\"1\" class=\"dataframe\">\n",
              "  <thead>\n",
              "    <tr style=\"text-align: right;\">\n",
              "      <th></th>\n",
              "      <th>power_usage</th>\n",
              "      <th>gas_usage</th>\n",
              "      <th>water_usage</th>\n",
              "    </tr>\n",
              "  </thead>\n",
              "  <tbody>\n",
              "    <tr>\n",
              "      <th>2020-01-01</th>\n",
              "      <td>43</td>\n",
              "      <td>94</td>\n",
              "      <td>39</td>\n",
              "    </tr>\n",
              "    <tr>\n",
              "      <th>2020-01-02</th>\n",
              "      <td>4</td>\n",
              "      <td>15</td>\n",
              "      <td>23</td>\n",
              "    </tr>\n",
              "    <tr>\n",
              "      <th>2020-01-03</th>\n",
              "      <td>19</td>\n",
              "      <td>54</td>\n",
              "      <td>2</td>\n",
              "    </tr>\n",
              "    <tr>\n",
              "      <th>2020-01-04</th>\n",
              "      <td>11</td>\n",
              "      <td>71</td>\n",
              "      <td>92</td>\n",
              "    </tr>\n",
              "    <tr>\n",
              "      <th>2020-01-05</th>\n",
              "      <td>93</td>\n",
              "      <td>95</td>\n",
              "      <td>87</td>\n",
              "    </tr>\n",
              "  </tbody>\n",
              "</table>\n",
              "</div>"
            ],
            "text/plain": [
              "            power_usage  gas_usage  water_usage\n",
              "2020-01-01           43         94           39\n",
              "2020-01-02            4         15           23\n",
              "2020-01-03           19         54            2\n",
              "2020-01-04           11         71           92\n",
              "2020-01-05           93         95           87"
            ]
          },
          "metadata": {
            "tags": []
          },
          "execution_count": 11
        }
      ]
    },
    {
      "cell_type": "code",
      "metadata": {
        "id": "RTkEPX81eTI7",
        "outputId": "228fc430-ba45-4fc9-895d-a8721f87eb92",
        "colab": {
          "base_uri": "https://localhost:8080/",
          "height": 202
        }
      },
      "source": [
        "df.tail()"
      ],
      "execution_count": 12,
      "outputs": [
        {
          "output_type": "execute_result",
          "data": {
            "text/html": [
              "<div>\n",
              "<style scoped>\n",
              "    .dataframe tbody tr th:only-of-type {\n",
              "        vertical-align: middle;\n",
              "    }\n",
              "\n",
              "    .dataframe tbody tr th {\n",
              "        vertical-align: top;\n",
              "    }\n",
              "\n",
              "    .dataframe thead th {\n",
              "        text-align: right;\n",
              "    }\n",
              "</style>\n",
              "<table border=\"1\" class=\"dataframe\">\n",
              "  <thead>\n",
              "    <tr style=\"text-align: right;\">\n",
              "      <th></th>\n",
              "      <th>power_usage</th>\n",
              "      <th>gas_usage</th>\n",
              "      <th>water_usage</th>\n",
              "    </tr>\n",
              "  </thead>\n",
              "  <tbody>\n",
              "    <tr>\n",
              "      <th>2020-01-27</th>\n",
              "      <td>50</td>\n",
              "      <td>64</td>\n",
              "      <td>65</td>\n",
              "    </tr>\n",
              "    <tr>\n",
              "      <th>2020-01-28</th>\n",
              "      <td>2</td>\n",
              "      <td>14</td>\n",
              "      <td>16</td>\n",
              "    </tr>\n",
              "    <tr>\n",
              "      <th>2020-01-29</th>\n",
              "      <td>8</td>\n",
              "      <td>45</td>\n",
              "      <td>2</td>\n",
              "    </tr>\n",
              "    <tr>\n",
              "      <th>2020-01-30</th>\n",
              "      <td>30</td>\n",
              "      <td>98</td>\n",
              "      <td>81</td>\n",
              "    </tr>\n",
              "    <tr>\n",
              "      <th>2020-01-31</th>\n",
              "      <td>45</td>\n",
              "      <td>18</td>\n",
              "      <td>83</td>\n",
              "    </tr>\n",
              "  </tbody>\n",
              "</table>\n",
              "</div>"
            ],
            "text/plain": [
              "            power_usage  gas_usage  water_usage\n",
              "2020-01-27           50         64           65\n",
              "2020-01-28            2         14           16\n",
              "2020-01-29            8         45            2\n",
              "2020-01-30           30         98           81\n",
              "2020-01-31           45         18           83"
            ]
          },
          "metadata": {
            "tags": []
          },
          "execution_count": 12
        }
      ]
    },
    {
      "cell_type": "code",
      "metadata": {
        "id": "k-Qlt7OakNFD",
        "outputId": "4546ad13-3116-4c3c-ab21-cbb83d543f9c",
        "colab": {
          "base_uri": "https://localhost:8080/",
          "height": 999
        }
      },
      "source": [
        "df"
      ],
      "execution_count": 13,
      "outputs": [
        {
          "output_type": "execute_result",
          "data": {
            "text/html": [
              "<div>\n",
              "<style scoped>\n",
              "    .dataframe tbody tr th:only-of-type {\n",
              "        vertical-align: middle;\n",
              "    }\n",
              "\n",
              "    .dataframe tbody tr th {\n",
              "        vertical-align: top;\n",
              "    }\n",
              "\n",
              "    .dataframe thead th {\n",
              "        text-align: right;\n",
              "    }\n",
              "</style>\n",
              "<table border=\"1\" class=\"dataframe\">\n",
              "  <thead>\n",
              "    <tr style=\"text-align: right;\">\n",
              "      <th></th>\n",
              "      <th>power_usage</th>\n",
              "      <th>gas_usage</th>\n",
              "      <th>water_usage</th>\n",
              "    </tr>\n",
              "  </thead>\n",
              "  <tbody>\n",
              "    <tr>\n",
              "      <th>2020-01-01</th>\n",
              "      <td>43</td>\n",
              "      <td>94</td>\n",
              "      <td>39</td>\n",
              "    </tr>\n",
              "    <tr>\n",
              "      <th>2020-01-02</th>\n",
              "      <td>4</td>\n",
              "      <td>15</td>\n",
              "      <td>23</td>\n",
              "    </tr>\n",
              "    <tr>\n",
              "      <th>2020-01-03</th>\n",
              "      <td>19</td>\n",
              "      <td>54</td>\n",
              "      <td>2</td>\n",
              "    </tr>\n",
              "    <tr>\n",
              "      <th>2020-01-04</th>\n",
              "      <td>11</td>\n",
              "      <td>71</td>\n",
              "      <td>92</td>\n",
              "    </tr>\n",
              "    <tr>\n",
              "      <th>2020-01-05</th>\n",
              "      <td>93</td>\n",
              "      <td>95</td>\n",
              "      <td>87</td>\n",
              "    </tr>\n",
              "    <tr>\n",
              "      <th>2020-01-06</th>\n",
              "      <td>12</td>\n",
              "      <td>5</td>\n",
              "      <td>72</td>\n",
              "    </tr>\n",
              "    <tr>\n",
              "      <th>2020-01-07</th>\n",
              "      <td>74</td>\n",
              "      <td>14</td>\n",
              "      <td>91</td>\n",
              "    </tr>\n",
              "    <tr>\n",
              "      <th>2020-01-08</th>\n",
              "      <td>66</td>\n",
              "      <td>12</td>\n",
              "      <td>39</td>\n",
              "    </tr>\n",
              "    <tr>\n",
              "      <th>2020-01-09</th>\n",
              "      <td>8</td>\n",
              "      <td>46</td>\n",
              "      <td>48</td>\n",
              "    </tr>\n",
              "    <tr>\n",
              "      <th>2020-01-10</th>\n",
              "      <td>35</td>\n",
              "      <td>1</td>\n",
              "      <td>26</td>\n",
              "    </tr>\n",
              "    <tr>\n",
              "      <th>2020-01-11</th>\n",
              "      <td>57</td>\n",
              "      <td>8</td>\n",
              "      <td>16</td>\n",
              "    </tr>\n",
              "    <tr>\n",
              "      <th>2020-01-12</th>\n",
              "      <td>2</td>\n",
              "      <td>31</td>\n",
              "      <td>11</td>\n",
              "    </tr>\n",
              "    <tr>\n",
              "      <th>2020-01-13</th>\n",
              "      <td>68</td>\n",
              "      <td>43</td>\n",
              "      <td>21</td>\n",
              "    </tr>\n",
              "    <tr>\n",
              "      <th>2020-01-14</th>\n",
              "      <td>76</td>\n",
              "      <td>43</td>\n",
              "      <td>19</td>\n",
              "    </tr>\n",
              "    <tr>\n",
              "      <th>2020-01-15</th>\n",
              "      <td>70</td>\n",
              "      <td>45</td>\n",
              "      <td>93</td>\n",
              "    </tr>\n",
              "    <tr>\n",
              "      <th>2020-01-16</th>\n",
              "      <td>70</td>\n",
              "      <td>24</td>\n",
              "      <td>39</td>\n",
              "    </tr>\n",
              "    <tr>\n",
              "      <th>2020-01-17</th>\n",
              "      <td>86</td>\n",
              "      <td>34</td>\n",
              "      <td>17</td>\n",
              "    </tr>\n",
              "    <tr>\n",
              "      <th>2020-01-18</th>\n",
              "      <td>72</td>\n",
              "      <td>45</td>\n",
              "      <td>91</td>\n",
              "    </tr>\n",
              "    <tr>\n",
              "      <th>2020-01-19</th>\n",
              "      <td>8</td>\n",
              "      <td>5</td>\n",
              "      <td>56</td>\n",
              "    </tr>\n",
              "    <tr>\n",
              "      <th>2020-01-20</th>\n",
              "      <td>97</td>\n",
              "      <td>44</td>\n",
              "      <td>9</td>\n",
              "    </tr>\n",
              "    <tr>\n",
              "      <th>2020-01-21</th>\n",
              "      <td>73</td>\n",
              "      <td>42</td>\n",
              "      <td>12</td>\n",
              "    </tr>\n",
              "    <tr>\n",
              "      <th>2020-01-22</th>\n",
              "      <td>27</td>\n",
              "      <td>92</td>\n",
              "      <td>65</td>\n",
              "    </tr>\n",
              "    <tr>\n",
              "      <th>2020-01-23</th>\n",
              "      <td>41</td>\n",
              "      <td>65</td>\n",
              "      <td>60</td>\n",
              "    </tr>\n",
              "    <tr>\n",
              "      <th>2020-01-24</th>\n",
              "      <td>2</td>\n",
              "      <td>41</td>\n",
              "      <td>33</td>\n",
              "    </tr>\n",
              "    <tr>\n",
              "      <th>2020-01-25</th>\n",
              "      <td>46</td>\n",
              "      <td>36</td>\n",
              "      <td>74</td>\n",
              "    </tr>\n",
              "    <tr>\n",
              "      <th>2020-01-26</th>\n",
              "      <td>90</td>\n",
              "      <td>31</td>\n",
              "      <td>90</td>\n",
              "    </tr>\n",
              "    <tr>\n",
              "      <th>2020-01-27</th>\n",
              "      <td>50</td>\n",
              "      <td>64</td>\n",
              "      <td>65</td>\n",
              "    </tr>\n",
              "    <tr>\n",
              "      <th>2020-01-28</th>\n",
              "      <td>2</td>\n",
              "      <td>14</td>\n",
              "      <td>16</td>\n",
              "    </tr>\n",
              "    <tr>\n",
              "      <th>2020-01-29</th>\n",
              "      <td>8</td>\n",
              "      <td>45</td>\n",
              "      <td>2</td>\n",
              "    </tr>\n",
              "    <tr>\n",
              "      <th>2020-01-30</th>\n",
              "      <td>30</td>\n",
              "      <td>98</td>\n",
              "      <td>81</td>\n",
              "    </tr>\n",
              "    <tr>\n",
              "      <th>2020-01-31</th>\n",
              "      <td>45</td>\n",
              "      <td>18</td>\n",
              "      <td>83</td>\n",
              "    </tr>\n",
              "  </tbody>\n",
              "</table>\n",
              "</div>"
            ],
            "text/plain": [
              "            power_usage  gas_usage  water_usage\n",
              "2020-01-01           43         94           39\n",
              "2020-01-02            4         15           23\n",
              "2020-01-03           19         54            2\n",
              "2020-01-04           11         71           92\n",
              "2020-01-05           93         95           87\n",
              "2020-01-06           12          5           72\n",
              "2020-01-07           74         14           91\n",
              "2020-01-08           66         12           39\n",
              "2020-01-09            8         46           48\n",
              "2020-01-10           35          1           26\n",
              "2020-01-11           57          8           16\n",
              "2020-01-12            2         31           11\n",
              "2020-01-13           68         43           21\n",
              "2020-01-14           76         43           19\n",
              "2020-01-15           70         45           93\n",
              "2020-01-16           70         24           39\n",
              "2020-01-17           86         34           17\n",
              "2020-01-18           72         45           91\n",
              "2020-01-19            8          5           56\n",
              "2020-01-20           97         44            9\n",
              "2020-01-21           73         42           12\n",
              "2020-01-22           27         92           65\n",
              "2020-01-23           41         65           60\n",
              "2020-01-24            2         41           33\n",
              "2020-01-25           46         36           74\n",
              "2020-01-26           90         31           90\n",
              "2020-01-27           50         64           65\n",
              "2020-01-28            2         14           16\n",
              "2020-01-29            8         45            2\n",
              "2020-01-30           30         98           81\n",
              "2020-01-31           45         18           83"
            ]
          },
          "metadata": {
            "tags": []
          },
          "execution_count": 13
        }
      ]
    },
    {
      "cell_type": "markdown",
      "metadata": {
        "id": "cAAb5VXhVRv_"
      },
      "source": [
        "인덱스 (index), 열 (column) 그리고 numpy 데이터에 대한 세부 정보를 봅니다."
      ]
    },
    {
      "cell_type": "code",
      "metadata": {
        "id": "z2kmyBlZVVIv",
        "outputId": "5a44538b-3f19-40ea-9827-ffaec56c2e7b",
        "colab": {
          "base_uri": "https://localhost:8080/",
          "height": 185
        }
      },
      "source": [
        "df.index"
      ],
      "execution_count": 14,
      "outputs": [
        {
          "output_type": "execute_result",
          "data": {
            "text/plain": [
              "DatetimeIndex(['2020-01-01', '2020-01-02', '2020-01-03', '2020-01-04',\n",
              "               '2020-01-05', '2020-01-06', '2020-01-07', '2020-01-08',\n",
              "               '2020-01-09', '2020-01-10', '2020-01-11', '2020-01-12',\n",
              "               '2020-01-13', '2020-01-14', '2020-01-15', '2020-01-16',\n",
              "               '2020-01-17', '2020-01-18', '2020-01-19', '2020-01-20',\n",
              "               '2020-01-21', '2020-01-22', '2020-01-23', '2020-01-24',\n",
              "               '2020-01-25', '2020-01-26', '2020-01-27', '2020-01-28',\n",
              "               '2020-01-29', '2020-01-30', '2020-01-31'],\n",
              "              dtype='datetime64[ns]', freq='D')"
            ]
          },
          "metadata": {
            "tags": []
          },
          "execution_count": 14
        }
      ]
    },
    {
      "cell_type": "code",
      "metadata": {
        "id": "1hxcdAkWVVOi",
        "outputId": "c2a21b85-366e-49b0-b183-45d584ed8b7c",
        "colab": {
          "base_uri": "https://localhost:8080/",
          "height": 36
        }
      },
      "source": [
        "df.columns"
      ],
      "execution_count": 15,
      "outputs": [
        {
          "output_type": "execute_result",
          "data": {
            "text/plain": [
              "Index(['power_usage', 'gas_usage', 'water_usage'], dtype='object')"
            ]
          },
          "metadata": {
            "tags": []
          },
          "execution_count": 15
        }
      ]
    },
    {
      "cell_type": "code",
      "metadata": {
        "id": "z_KrOy5CVVUn",
        "outputId": "804bb9b3-07e3-4413-fdd1-041c2f1106ec",
        "colab": {
          "base_uri": "https://localhost:8080/",
          "height": 596
        }
      },
      "source": [
        "df.values"
      ],
      "execution_count": 16,
      "outputs": [
        {
          "output_type": "execute_result",
          "data": {
            "text/plain": [
              "array([[43, 94, 39],\n",
              "       [ 4, 15, 23],\n",
              "       [19, 54,  2],\n",
              "       [11, 71, 92],\n",
              "       [93, 95, 87],\n",
              "       [12,  5, 72],\n",
              "       [74, 14, 91],\n",
              "       [66, 12, 39],\n",
              "       [ 8, 46, 48],\n",
              "       [35,  1, 26],\n",
              "       [57,  8, 16],\n",
              "       [ 2, 31, 11],\n",
              "       [68, 43, 21],\n",
              "       [76, 43, 19],\n",
              "       [70, 45, 93],\n",
              "       [70, 24, 39],\n",
              "       [86, 34, 17],\n",
              "       [72, 45, 91],\n",
              "       [ 8,  5, 56],\n",
              "       [97, 44,  9],\n",
              "       [73, 42, 12],\n",
              "       [27, 92, 65],\n",
              "       [41, 65, 60],\n",
              "       [ 2, 41, 33],\n",
              "       [46, 36, 74],\n",
              "       [90, 31, 90],\n",
              "       [50, 64, 65],\n",
              "       [ 2, 14, 16],\n",
              "       [ 8, 45,  2],\n",
              "       [30, 98, 81],\n",
              "       [45, 18, 83]])"
            ]
          },
          "metadata": {
            "tags": []
          },
          "execution_count": 16
        }
      ]
    },
    {
      "cell_type": "code",
      "metadata": {
        "id": "8V2yxOZVVVi1",
        "outputId": "3bba2aea-4de8-4161-ade8-a2d206da58d8",
        "colab": {
          "base_uri": "https://localhost:8080/",
          "height": 223
        }
      },
      "source": [
        "df.info()"
      ],
      "execution_count": 17,
      "outputs": [
        {
          "output_type": "stream",
          "text": [
            "<class 'pandas.core.frame.DataFrame'>\n",
            "DatetimeIndex: 31 entries, 2020-01-01 to 2020-01-31\n",
            "Freq: D\n",
            "Data columns (total 3 columns):\n",
            " #   Column       Non-Null Count  Dtype\n",
            "---  ------       --------------  -----\n",
            " 0   power_usage  31 non-null     int64\n",
            " 1   gas_usage    31 non-null     int64\n",
            " 2   water_usage  31 non-null     int64\n",
            "dtypes: int64(3)\n",
            "memory usage: 992.0 bytes\n"
          ],
          "name": "stdout"
        }
      ]
    },
    {
      "cell_type": "code",
      "metadata": {
        "id": "MroNIqRTaJed",
        "outputId": "1ed63f70-b864-4838-d562-07ea795957be",
        "colab": {
          "base_uri": "https://localhost:8080/",
          "height": 92
        }
      },
      "source": [
        "df.dtypes"
      ],
      "execution_count": 18,
      "outputs": [
        {
          "output_type": "execute_result",
          "data": {
            "text/plain": [
              "power_usage    int64\n",
              "gas_usage      int64\n",
              "water_usage    int64\n",
              "dtype: object"
            ]
          },
          "metadata": {
            "tags": []
          },
          "execution_count": 18
        }
      ]
    },
    {
      "cell_type": "markdown",
      "metadata": {
        "id": "CHVqTFiQerCx"
      },
      "source": [
        "Null 데이터 확인"
      ]
    },
    {
      "cell_type": "code",
      "metadata": {
        "id": "yn6z878HevIx",
        "outputId": "e8aef929-039b-4e24-d3ed-114bbbd3f9eb",
        "colab": {
          "base_uri": "https://localhost:8080/",
          "height": 92
        }
      },
      "source": [
        "df.isnull().sum()"
      ],
      "execution_count": 19,
      "outputs": [
        {
          "output_type": "execute_result",
          "data": {
            "text/plain": [
              "power_usage    0\n",
              "gas_usage      0\n",
              "water_usage    0\n",
              "dtype: int64"
            ]
          },
          "metadata": {
            "tags": []
          },
          "execution_count": 19
        }
      ]
    },
    {
      "cell_type": "code",
      "metadata": {
        "id": "GY4VKb_8VVb9",
        "outputId": "d7b28b5f-afb1-48b3-f861-ae10184da306",
        "colab": {
          "base_uri": "https://localhost:8080/",
          "height": 294
        }
      },
      "source": [
        "df.describe()"
      ],
      "execution_count": 20,
      "outputs": [
        {
          "output_type": "execute_result",
          "data": {
            "text/html": [
              "<div>\n",
              "<style scoped>\n",
              "    .dataframe tbody tr th:only-of-type {\n",
              "        vertical-align: middle;\n",
              "    }\n",
              "\n",
              "    .dataframe tbody tr th {\n",
              "        vertical-align: top;\n",
              "    }\n",
              "\n",
              "    .dataframe thead th {\n",
              "        text-align: right;\n",
              "    }\n",
              "</style>\n",
              "<table border=\"1\" class=\"dataframe\">\n",
              "  <thead>\n",
              "    <tr style=\"text-align: right;\">\n",
              "      <th></th>\n",
              "      <th>power_usage</th>\n",
              "      <th>gas_usage</th>\n",
              "      <th>water_usage</th>\n",
              "    </tr>\n",
              "  </thead>\n",
              "  <tbody>\n",
              "    <tr>\n",
              "      <th>count</th>\n",
              "      <td>31.000000</td>\n",
              "      <td>31.000000</td>\n",
              "      <td>31.000000</td>\n",
              "    </tr>\n",
              "    <tr>\n",
              "      <th>mean</th>\n",
              "      <td>44.677419</td>\n",
              "      <td>41.129032</td>\n",
              "      <td>47.483871</td>\n",
              "    </tr>\n",
              "    <tr>\n",
              "      <th>std</th>\n",
              "      <td>31.273404</td>\n",
              "      <td>27.801369</td>\n",
              "      <td>31.549824</td>\n",
              "    </tr>\n",
              "    <tr>\n",
              "      <th>min</th>\n",
              "      <td>2.000000</td>\n",
              "      <td>1.000000</td>\n",
              "      <td>2.000000</td>\n",
              "    </tr>\n",
              "    <tr>\n",
              "      <th>25%</th>\n",
              "      <td>11.500000</td>\n",
              "      <td>16.500000</td>\n",
              "      <td>18.000000</td>\n",
              "    </tr>\n",
              "    <tr>\n",
              "      <th>50%</th>\n",
              "      <td>45.000000</td>\n",
              "      <td>42.000000</td>\n",
              "      <td>39.000000</td>\n",
              "    </tr>\n",
              "    <tr>\n",
              "      <th>75%</th>\n",
              "      <td>71.000000</td>\n",
              "      <td>50.000000</td>\n",
              "      <td>77.500000</td>\n",
              "    </tr>\n",
              "    <tr>\n",
              "      <th>max</th>\n",
              "      <td>97.000000</td>\n",
              "      <td>98.000000</td>\n",
              "      <td>93.000000</td>\n",
              "    </tr>\n",
              "  </tbody>\n",
              "</table>\n",
              "</div>"
            ],
            "text/plain": [
              "       power_usage  gas_usage  water_usage\n",
              "count    31.000000  31.000000    31.000000\n",
              "mean     44.677419  41.129032    47.483871\n",
              "std      31.273404  27.801369    31.549824\n",
              "min       2.000000   1.000000     2.000000\n",
              "25%      11.500000  16.500000    18.000000\n",
              "50%      45.000000  42.000000    39.000000\n",
              "75%      71.000000  50.000000    77.500000\n",
              "max      97.000000  98.000000    93.000000"
            ]
          },
          "metadata": {
            "tags": []
          },
          "execution_count": 20
        }
      ]
    },
    {
      "cell_type": "code",
      "metadata": {
        "id": "Tk2Fnb_3VVpQ",
        "outputId": "481fa726-f76a-4a04-c292-573ec3080090",
        "colab": {
          "base_uri": "https://localhost:8080/",
          "height": 141
        }
      },
      "source": [
        "df.describe().transpose()"
      ],
      "execution_count": 21,
      "outputs": [
        {
          "output_type": "execute_result",
          "data": {
            "text/html": [
              "<div>\n",
              "<style scoped>\n",
              "    .dataframe tbody tr th:only-of-type {\n",
              "        vertical-align: middle;\n",
              "    }\n",
              "\n",
              "    .dataframe tbody tr th {\n",
              "        vertical-align: top;\n",
              "    }\n",
              "\n",
              "    .dataframe thead th {\n",
              "        text-align: right;\n",
              "    }\n",
              "</style>\n",
              "<table border=\"1\" class=\"dataframe\">\n",
              "  <thead>\n",
              "    <tr style=\"text-align: right;\">\n",
              "      <th></th>\n",
              "      <th>count</th>\n",
              "      <th>mean</th>\n",
              "      <th>std</th>\n",
              "      <th>min</th>\n",
              "      <th>25%</th>\n",
              "      <th>50%</th>\n",
              "      <th>75%</th>\n",
              "      <th>max</th>\n",
              "    </tr>\n",
              "  </thead>\n",
              "  <tbody>\n",
              "    <tr>\n",
              "      <th>power_usage</th>\n",
              "      <td>31.0</td>\n",
              "      <td>44.677419</td>\n",
              "      <td>31.273404</td>\n",
              "      <td>2.0</td>\n",
              "      <td>11.5</td>\n",
              "      <td>45.0</td>\n",
              "      <td>71.0</td>\n",
              "      <td>97.0</td>\n",
              "    </tr>\n",
              "    <tr>\n",
              "      <th>gas_usage</th>\n",
              "      <td>31.0</td>\n",
              "      <td>41.129032</td>\n",
              "      <td>27.801369</td>\n",
              "      <td>1.0</td>\n",
              "      <td>16.5</td>\n",
              "      <td>42.0</td>\n",
              "      <td>50.0</td>\n",
              "      <td>98.0</td>\n",
              "    </tr>\n",
              "    <tr>\n",
              "      <th>water_usage</th>\n",
              "      <td>31.0</td>\n",
              "      <td>47.483871</td>\n",
              "      <td>31.549824</td>\n",
              "      <td>2.0</td>\n",
              "      <td>18.0</td>\n",
              "      <td>39.0</td>\n",
              "      <td>77.5</td>\n",
              "      <td>93.0</td>\n",
              "    </tr>\n",
              "  </tbody>\n",
              "</table>\n",
              "</div>"
            ],
            "text/plain": [
              "             count       mean        std  min   25%   50%   75%   max\n",
              "power_usage   31.0  44.677419  31.273404  2.0  11.5  45.0  71.0  97.0\n",
              "gas_usage     31.0  41.129032  27.801369  1.0  16.5  42.0  50.0  98.0\n",
              "water_usage   31.0  47.483871  31.549824  2.0  18.0  39.0  77.5  93.0"
            ]
          },
          "metadata": {
            "tags": []
          },
          "execution_count": 21
        }
      ]
    },
    {
      "cell_type": "markdown",
      "metadata": {
        "id": "uaj_PRn4aRsZ"
      },
      "source": [
        "Column(열) 선택"
      ]
    },
    {
      "cell_type": "code",
      "metadata": {
        "id": "WimBdDbUVVsE",
        "outputId": "7aa56d47-121b-46f9-a7d0-77f6003758f3",
        "colab": {
          "base_uri": "https://localhost:8080/",
          "height": 615
        }
      },
      "source": [
        "df['power_usage']"
      ],
      "execution_count": 22,
      "outputs": [
        {
          "output_type": "execute_result",
          "data": {
            "text/plain": [
              "2020-01-01    43\n",
              "2020-01-02     4\n",
              "2020-01-03    19\n",
              "2020-01-04    11\n",
              "2020-01-05    93\n",
              "2020-01-06    12\n",
              "2020-01-07    74\n",
              "2020-01-08    66\n",
              "2020-01-09     8\n",
              "2020-01-10    35\n",
              "2020-01-11    57\n",
              "2020-01-12     2\n",
              "2020-01-13    68\n",
              "2020-01-14    76\n",
              "2020-01-15    70\n",
              "2020-01-16    70\n",
              "2020-01-17    86\n",
              "2020-01-18    72\n",
              "2020-01-19     8\n",
              "2020-01-20    97\n",
              "2020-01-21    73\n",
              "2020-01-22    27\n",
              "2020-01-23    41\n",
              "2020-01-24     2\n",
              "2020-01-25    46\n",
              "2020-01-26    90\n",
              "2020-01-27    50\n",
              "2020-01-28     2\n",
              "2020-01-29     8\n",
              "2020-01-30    30\n",
              "2020-01-31    45\n",
              "Freq: D, Name: power_usage, dtype: int64"
            ]
          },
          "metadata": {
            "tags": []
          },
          "execution_count": 22
        }
      ]
    },
    {
      "cell_type": "code",
      "metadata": {
        "id": "XR4UP1GSVVmR",
        "outputId": "4903ee0b-2e08-4ac6-f5fa-daecb8170f5a",
        "colab": {
          "base_uri": "https://localhost:8080/",
          "height": 999
        }
      },
      "source": [
        "df[['power_usage', 'gas_usage']]"
      ],
      "execution_count": 23,
      "outputs": [
        {
          "output_type": "execute_result",
          "data": {
            "text/html": [
              "<div>\n",
              "<style scoped>\n",
              "    .dataframe tbody tr th:only-of-type {\n",
              "        vertical-align: middle;\n",
              "    }\n",
              "\n",
              "    .dataframe tbody tr th {\n",
              "        vertical-align: top;\n",
              "    }\n",
              "\n",
              "    .dataframe thead th {\n",
              "        text-align: right;\n",
              "    }\n",
              "</style>\n",
              "<table border=\"1\" class=\"dataframe\">\n",
              "  <thead>\n",
              "    <tr style=\"text-align: right;\">\n",
              "      <th></th>\n",
              "      <th>power_usage</th>\n",
              "      <th>gas_usage</th>\n",
              "    </tr>\n",
              "  </thead>\n",
              "  <tbody>\n",
              "    <tr>\n",
              "      <th>2020-01-01</th>\n",
              "      <td>43</td>\n",
              "      <td>94</td>\n",
              "    </tr>\n",
              "    <tr>\n",
              "      <th>2020-01-02</th>\n",
              "      <td>4</td>\n",
              "      <td>15</td>\n",
              "    </tr>\n",
              "    <tr>\n",
              "      <th>2020-01-03</th>\n",
              "      <td>19</td>\n",
              "      <td>54</td>\n",
              "    </tr>\n",
              "    <tr>\n",
              "      <th>2020-01-04</th>\n",
              "      <td>11</td>\n",
              "      <td>71</td>\n",
              "    </tr>\n",
              "    <tr>\n",
              "      <th>2020-01-05</th>\n",
              "      <td>93</td>\n",
              "      <td>95</td>\n",
              "    </tr>\n",
              "    <tr>\n",
              "      <th>2020-01-06</th>\n",
              "      <td>12</td>\n",
              "      <td>5</td>\n",
              "    </tr>\n",
              "    <tr>\n",
              "      <th>2020-01-07</th>\n",
              "      <td>74</td>\n",
              "      <td>14</td>\n",
              "    </tr>\n",
              "    <tr>\n",
              "      <th>2020-01-08</th>\n",
              "      <td>66</td>\n",
              "      <td>12</td>\n",
              "    </tr>\n",
              "    <tr>\n",
              "      <th>2020-01-09</th>\n",
              "      <td>8</td>\n",
              "      <td>46</td>\n",
              "    </tr>\n",
              "    <tr>\n",
              "      <th>2020-01-10</th>\n",
              "      <td>35</td>\n",
              "      <td>1</td>\n",
              "    </tr>\n",
              "    <tr>\n",
              "      <th>2020-01-11</th>\n",
              "      <td>57</td>\n",
              "      <td>8</td>\n",
              "    </tr>\n",
              "    <tr>\n",
              "      <th>2020-01-12</th>\n",
              "      <td>2</td>\n",
              "      <td>31</td>\n",
              "    </tr>\n",
              "    <tr>\n",
              "      <th>2020-01-13</th>\n",
              "      <td>68</td>\n",
              "      <td>43</td>\n",
              "    </tr>\n",
              "    <tr>\n",
              "      <th>2020-01-14</th>\n",
              "      <td>76</td>\n",
              "      <td>43</td>\n",
              "    </tr>\n",
              "    <tr>\n",
              "      <th>2020-01-15</th>\n",
              "      <td>70</td>\n",
              "      <td>45</td>\n",
              "    </tr>\n",
              "    <tr>\n",
              "      <th>2020-01-16</th>\n",
              "      <td>70</td>\n",
              "      <td>24</td>\n",
              "    </tr>\n",
              "    <tr>\n",
              "      <th>2020-01-17</th>\n",
              "      <td>86</td>\n",
              "      <td>34</td>\n",
              "    </tr>\n",
              "    <tr>\n",
              "      <th>2020-01-18</th>\n",
              "      <td>72</td>\n",
              "      <td>45</td>\n",
              "    </tr>\n",
              "    <tr>\n",
              "      <th>2020-01-19</th>\n",
              "      <td>8</td>\n",
              "      <td>5</td>\n",
              "    </tr>\n",
              "    <tr>\n",
              "      <th>2020-01-20</th>\n",
              "      <td>97</td>\n",
              "      <td>44</td>\n",
              "    </tr>\n",
              "    <tr>\n",
              "      <th>2020-01-21</th>\n",
              "      <td>73</td>\n",
              "      <td>42</td>\n",
              "    </tr>\n",
              "    <tr>\n",
              "      <th>2020-01-22</th>\n",
              "      <td>27</td>\n",
              "      <td>92</td>\n",
              "    </tr>\n",
              "    <tr>\n",
              "      <th>2020-01-23</th>\n",
              "      <td>41</td>\n",
              "      <td>65</td>\n",
              "    </tr>\n",
              "    <tr>\n",
              "      <th>2020-01-24</th>\n",
              "      <td>2</td>\n",
              "      <td>41</td>\n",
              "    </tr>\n",
              "    <tr>\n",
              "      <th>2020-01-25</th>\n",
              "      <td>46</td>\n",
              "      <td>36</td>\n",
              "    </tr>\n",
              "    <tr>\n",
              "      <th>2020-01-26</th>\n",
              "      <td>90</td>\n",
              "      <td>31</td>\n",
              "    </tr>\n",
              "    <tr>\n",
              "      <th>2020-01-27</th>\n",
              "      <td>50</td>\n",
              "      <td>64</td>\n",
              "    </tr>\n",
              "    <tr>\n",
              "      <th>2020-01-28</th>\n",
              "      <td>2</td>\n",
              "      <td>14</td>\n",
              "    </tr>\n",
              "    <tr>\n",
              "      <th>2020-01-29</th>\n",
              "      <td>8</td>\n",
              "      <td>45</td>\n",
              "    </tr>\n",
              "    <tr>\n",
              "      <th>2020-01-30</th>\n",
              "      <td>30</td>\n",
              "      <td>98</td>\n",
              "    </tr>\n",
              "    <tr>\n",
              "      <th>2020-01-31</th>\n",
              "      <td>45</td>\n",
              "      <td>18</td>\n",
              "    </tr>\n",
              "  </tbody>\n",
              "</table>\n",
              "</div>"
            ],
            "text/plain": [
              "            power_usage  gas_usage\n",
              "2020-01-01           43         94\n",
              "2020-01-02            4         15\n",
              "2020-01-03           19         54\n",
              "2020-01-04           11         71\n",
              "2020-01-05           93         95\n",
              "2020-01-06           12          5\n",
              "2020-01-07           74         14\n",
              "2020-01-08           66         12\n",
              "2020-01-09            8         46\n",
              "2020-01-10           35          1\n",
              "2020-01-11           57          8\n",
              "2020-01-12            2         31\n",
              "2020-01-13           68         43\n",
              "2020-01-14           76         43\n",
              "2020-01-15           70         45\n",
              "2020-01-16           70         24\n",
              "2020-01-17           86         34\n",
              "2020-01-18           72         45\n",
              "2020-01-19            8          5\n",
              "2020-01-20           97         44\n",
              "2020-01-21           73         42\n",
              "2020-01-22           27         92\n",
              "2020-01-23           41         65\n",
              "2020-01-24            2         41\n",
              "2020-01-25           46         36\n",
              "2020-01-26           90         31\n",
              "2020-01-27           50         64\n",
              "2020-01-28            2         14\n",
              "2020-01-29            8         45\n",
              "2020-01-30           30         98\n",
              "2020-01-31           45         18"
            ]
          },
          "metadata": {
            "tags": []
          },
          "execution_count": 23
        }
      ]
    },
    {
      "cell_type": "code",
      "metadata": {
        "id": "xZ45AtfQnGzE",
        "outputId": "bc14fa8a-2bf6-4889-bede-d569942e7fb6",
        "colab": {
          "base_uri": "https://localhost:8080/",
          "height": 141
        }
      },
      "source": [
        "df.corr()"
      ],
      "execution_count": 24,
      "outputs": [
        {
          "output_type": "execute_result",
          "data": {
            "text/html": [
              "<div>\n",
              "<style scoped>\n",
              "    .dataframe tbody tr th:only-of-type {\n",
              "        vertical-align: middle;\n",
              "    }\n",
              "\n",
              "    .dataframe tbody tr th {\n",
              "        vertical-align: top;\n",
              "    }\n",
              "\n",
              "    .dataframe thead th {\n",
              "        text-align: right;\n",
              "    }\n",
              "</style>\n",
              "<table border=\"1\" class=\"dataframe\">\n",
              "  <thead>\n",
              "    <tr style=\"text-align: right;\">\n",
              "      <th></th>\n",
              "      <th>power_usage</th>\n",
              "      <th>gas_usage</th>\n",
              "      <th>water_usage</th>\n",
              "    </tr>\n",
              "  </thead>\n",
              "  <tbody>\n",
              "    <tr>\n",
              "      <th>power_usage</th>\n",
              "      <td>1.000000</td>\n",
              "      <td>0.082976</td>\n",
              "      <td>0.172832</td>\n",
              "    </tr>\n",
              "    <tr>\n",
              "      <th>gas_usage</th>\n",
              "      <td>0.082976</td>\n",
              "      <td>1.000000</td>\n",
              "      <td>0.245729</td>\n",
              "    </tr>\n",
              "    <tr>\n",
              "      <th>water_usage</th>\n",
              "      <td>0.172832</td>\n",
              "      <td>0.245729</td>\n",
              "      <td>1.000000</td>\n",
              "    </tr>\n",
              "  </tbody>\n",
              "</table>\n",
              "</div>"
            ],
            "text/plain": [
              "             power_usage  gas_usage  water_usage\n",
              "power_usage     1.000000   0.082976     0.172832\n",
              "gas_usage       0.082976   1.000000     0.245729\n",
              "water_usage     0.172832   0.245729     1.000000"
            ]
          },
          "metadata": {
            "tags": []
          },
          "execution_count": 24
        }
      ]
    },
    {
      "cell_type": "markdown",
      "metadata": {
        "id": "ld-LPX3haZZC"
      },
      "source": [
        "새 컬럼 생성하기"
      ]
    },
    {
      "cell_type": "code",
      "metadata": {
        "id": "SRuHvJ5AVVYN"
      },
      "source": [
        "df['energy_usage'] = df['power_usage'] + df['gas_usage']"
      ],
      "execution_count": 25,
      "outputs": []
    },
    {
      "cell_type": "code",
      "metadata": {
        "id": "Hc7TjJd4i0Vm"
      },
      "source": [
        "df['date'] = pd.to_datetime(df.index, format='%Y-%m-%d')"
      ],
      "execution_count": 26,
      "outputs": []
    },
    {
      "cell_type": "code",
      "metadata": {
        "id": "bjtKNrE4jJe9"
      },
      "source": [
        "df['day_of_week'] = df['date'].dt.day_name()"
      ],
      "execution_count": 27,
      "outputs": []
    },
    {
      "cell_type": "code",
      "metadata": {
        "id": "H6nasertVVRp",
        "outputId": "a880969a-3d96-4e41-8699-3f45ff06558d",
        "colab": {
          "base_uri": "https://localhost:8080/",
          "height": 652
        }
      },
      "source": [
        "print(df)"
      ],
      "execution_count": 28,
      "outputs": [
        {
          "output_type": "stream",
          "text": [
            "            power_usage  gas_usage  ...       date  day_of_week\n",
            "2020-01-01           43         94  ... 2020-01-01    Wednesday\n",
            "2020-01-02            4         15  ... 2020-01-02     Thursday\n",
            "2020-01-03           19         54  ... 2020-01-03       Friday\n",
            "2020-01-04           11         71  ... 2020-01-04     Saturday\n",
            "2020-01-05           93         95  ... 2020-01-05       Sunday\n",
            "2020-01-06           12          5  ... 2020-01-06       Monday\n",
            "2020-01-07           74         14  ... 2020-01-07      Tuesday\n",
            "2020-01-08           66         12  ... 2020-01-08    Wednesday\n",
            "2020-01-09            8         46  ... 2020-01-09     Thursday\n",
            "2020-01-10           35          1  ... 2020-01-10       Friday\n",
            "2020-01-11           57          8  ... 2020-01-11     Saturday\n",
            "2020-01-12            2         31  ... 2020-01-12       Sunday\n",
            "2020-01-13           68         43  ... 2020-01-13       Monday\n",
            "2020-01-14           76         43  ... 2020-01-14      Tuesday\n",
            "2020-01-15           70         45  ... 2020-01-15    Wednesday\n",
            "2020-01-16           70         24  ... 2020-01-16     Thursday\n",
            "2020-01-17           86         34  ... 2020-01-17       Friday\n",
            "2020-01-18           72         45  ... 2020-01-18     Saturday\n",
            "2020-01-19            8          5  ... 2020-01-19       Sunday\n",
            "2020-01-20           97         44  ... 2020-01-20       Monday\n",
            "2020-01-21           73         42  ... 2020-01-21      Tuesday\n",
            "2020-01-22           27         92  ... 2020-01-22    Wednesday\n",
            "2020-01-23           41         65  ... 2020-01-23     Thursday\n",
            "2020-01-24            2         41  ... 2020-01-24       Friday\n",
            "2020-01-25           46         36  ... 2020-01-25     Saturday\n",
            "2020-01-26           90         31  ... 2020-01-26       Sunday\n",
            "2020-01-27           50         64  ... 2020-01-27       Monday\n",
            "2020-01-28            2         14  ... 2020-01-28      Tuesday\n",
            "2020-01-29            8         45  ... 2020-01-29    Wednesday\n",
            "2020-01-30           30         98  ... 2020-01-30     Thursday\n",
            "2020-01-31           45         18  ... 2020-01-31       Friday\n",
            "\n",
            "[31 rows x 6 columns]\n"
          ],
          "name": "stdout"
        }
      ]
    },
    {
      "cell_type": "markdown",
      "metadata": {
        "id": "NiBruufFajw7"
      },
      "source": [
        "컬럼 삭제하기"
      ]
    },
    {
      "cell_type": "code",
      "metadata": {
        "id": "lsLxNqOHagdE"
      },
      "source": [
        "df = df.drop('energy_usage', axis=1)"
      ],
      "execution_count": 29,
      "outputs": []
    },
    {
      "cell_type": "markdown",
      "metadata": {
        "id": "qYO5ncvJdTm2"
      },
      "source": [
        "상관 관계 확인"
      ]
    },
    {
      "cell_type": "code",
      "metadata": {
        "id": "XwZ9LX1mdR2R",
        "outputId": "a9556261-6e60-4c3e-8e82-2891036c3cc4",
        "colab": {
          "base_uri": "https://localhost:8080/",
          "height": 141
        }
      },
      "source": [
        "df.corr()"
      ],
      "execution_count": 30,
      "outputs": [
        {
          "output_type": "execute_result",
          "data": {
            "text/html": [
              "<div>\n",
              "<style scoped>\n",
              "    .dataframe tbody tr th:only-of-type {\n",
              "        vertical-align: middle;\n",
              "    }\n",
              "\n",
              "    .dataframe tbody tr th {\n",
              "        vertical-align: top;\n",
              "    }\n",
              "\n",
              "    .dataframe thead th {\n",
              "        text-align: right;\n",
              "    }\n",
              "</style>\n",
              "<table border=\"1\" class=\"dataframe\">\n",
              "  <thead>\n",
              "    <tr style=\"text-align: right;\">\n",
              "      <th></th>\n",
              "      <th>power_usage</th>\n",
              "      <th>gas_usage</th>\n",
              "      <th>water_usage</th>\n",
              "    </tr>\n",
              "  </thead>\n",
              "  <tbody>\n",
              "    <tr>\n",
              "      <th>power_usage</th>\n",
              "      <td>1.000000</td>\n",
              "      <td>0.082976</td>\n",
              "      <td>0.172832</td>\n",
              "    </tr>\n",
              "    <tr>\n",
              "      <th>gas_usage</th>\n",
              "      <td>0.082976</td>\n",
              "      <td>1.000000</td>\n",
              "      <td>0.245729</td>\n",
              "    </tr>\n",
              "    <tr>\n",
              "      <th>water_usage</th>\n",
              "      <td>0.172832</td>\n",
              "      <td>0.245729</td>\n",
              "      <td>1.000000</td>\n",
              "    </tr>\n",
              "  </tbody>\n",
              "</table>\n",
              "</div>"
            ],
            "text/plain": [
              "             power_usage  gas_usage  water_usage\n",
              "power_usage     1.000000   0.082976     0.172832\n",
              "gas_usage       0.082976   1.000000     0.245729\n",
              "water_usage     0.172832   0.245729     1.000000"
            ]
          },
          "metadata": {
            "tags": []
          },
          "execution_count": 30
        }
      ]
    },
    {
      "cell_type": "markdown",
      "metadata": {
        "id": "MeO31qUxoWwG"
      },
      "source": [
        "파일에서 데이터 로드"
      ]
    },
    {
      "cell_type": "code",
      "metadata": {
        "id": "fS8E3SQ4odWa",
        "outputId": "a1c820ca-0548-4249-827c-5fadfe0a355c",
        "colab": {
          "base_uri": "https://localhost:8080/",
          "height": 227
        }
      },
      "source": [
        "df_energy = pd.read_csv(\n",
        "'https://raw.githubusercontent.com/kgpark88/ems/master/data.csv')\n",
        "df_energy.plot(title='POWER USAGE',  figsize=(10, 3), ylim=(0,2000) )\n",
        "plt.show()"
      ],
      "execution_count": 31,
      "outputs": [
        {
          "output_type": "display_data",
          "data": {
            "image/png": "[encoded data removed]",
            "text/plain": [
              "<Figure size 720x216 with 1 Axes>"
            ]
          },
          "metadata": {
            "tags": [],
            "needs_background": "light"
          }
        }
      ]
    },
    {
      "cell_type": "markdown",
      "metadata": {
        "id": "mqVz56k7fVUW"
      },
      "source": [
        "# 맷플롯립(Matplotlib)\n",
        "파이썬에서 데이터를 차트나 플롯(Plot)으로 그려주는 라이브러리 패키지로서   \n",
        "가장 많이 사용되는 데이타 시각화(Data Visualization) 패키지입니다."
      ]
    },
    {
      "cell_type": "code",
      "metadata": {
        "id": "k2FklGNXdSSc"
      },
      "source": [
        "import numpy as np\n",
        "import matplotlib.pyplot as plt"
      ],
      "execution_count": 32,
      "outputs": []
    },
    {
      "cell_type": "markdown",
      "metadata": {
        "id": "WXE_WzS7gycC"
      },
      "source": [
        "그래프 스타일"
      ]
    },
    {
      "cell_type": "code",
      "metadata": {
        "id": "T6VbBLMugvMm",
        "outputId": "64c6d9bf-9d7a-4292-bede-8a651f21bc16",
        "colab": {
          "base_uri": "https://localhost:8080/",
          "height": 269
        }
      },
      "source": [
        "plt.plot([1, 2, 3, 4], [1, 4, 9, 16], 'ro-')\n",
        "plt.axis([0, 6, 0, 20])\n",
        "plt.show()"
      ],
      "execution_count": 33,
      "outputs": [
        {
          "output_type": "display_data",
          "data": {
            "image/png": "[encoded data removed]",
            "text/plain": [
              "<Figure size 432x288 with 1 Axes>"
            ]
          },
          "metadata": {
            "tags": [],
            "needs_background": "light"
          }
        }
      ]
    },
    {
      "cell_type": "code",
      "metadata": {
        "id": "vnhe5uqwdSYj",
        "outputId": "ee430c6e-85e5-4ac2-cf40-bf988678dcbd",
        "colab": {
          "base_uri": "https://localhost:8080/",
          "height": 265
        }
      },
      "source": [
        "plt.plot(df['power_usage'], 'ro-', df['gas_usage'], 'gs--',  df['water_usage'], 'b^-')\n",
        "plt.show()"
      ],
      "execution_count": 34,
      "outputs": [
        {
          "output_type": "display_data",
          "data": {
            "image/png": "[encoded data removed]",
            "text/plain": [
              "<Figure size 432x288 with 1 Axes>"
            ]
          },
          "metadata": {
            "tags": [],
            "needs_background": "light"
          }
        }
      ]
    },
    {
      "cell_type": "markdown",
      "metadata": {
        "id": "0gCbOSAchWz5"
      },
      "source": [
        "스캐터 플롯"
      ]
    },
    {
      "cell_type": "code",
      "metadata": {
        "id": "_JsgW5A3dSey",
        "outputId": "90bc8300-ca3f-4a8b-fa42-0a2ed18f9587",
        "colab": {
          "base_uri": "https://localhost:8080/",
          "height": 279
        }
      },
      "source": [
        "data = {'a': np.arange(50),\n",
        "        'c': np.random.randint(0, 50, 50),\n",
        "        'd': np.random.randn(50)}\n",
        "data['b'] = data['a'] + 10 * np.random.randn(50)\n",
        "data['d'] = np.abs(data['d']) * 100\n",
        "\n",
        "plt.scatter('a', 'b', c='c', s='d', data=data)\n",
        "plt.xlabel('entry a')\n",
        "plt.ylabel('entry b')\n",
        "plt.show()\n"
      ],
      "execution_count": 35,
      "outputs": [
        {
          "output_type": "display_data",
          "data": {
            "image/png": "[encoded data removed]",
            "text/plain": [
              "<Figure size 432x288 with 1 Axes>"
            ]
          },
          "metadata": {
            "tags": [],
            "needs_background": "light"
          }
        }
      ]
    },
    {
      "cell_type": "markdown",
      "metadata": {
        "id": "3fmm6awrghqn"
      },
      "source": [
        "카테고리 플롯"
      ]
    },
    {
      "cell_type": "code",
      "metadata": {
        "id": "az_DljQ8dSlD",
        "outputId": "897a7d45-7312-408b-9a8a-a90530dce43a",
        "colab": {
          "base_uri": "https://localhost:8080/",
          "height": 233
        }
      },
      "source": [
        "names = ['group_a', 'group_b', 'group_c']\n",
        "values = [1, 10, 100]\n",
        "\n",
        "plt.figure(figsize=(9, 3))\n",
        "plt.subplot(131)\n",
        "plt.bar(names, values)\n",
        "plt.subplot(132)\n",
        "plt.scatter(names, values)\n",
        "plt.subplot(133)\n",
        "plt.plot(names, values)\n",
        "\n",
        "plt.suptitle('Categorical Plotting')\n",
        "plt.show()\n"
      ],
      "execution_count": 36,
      "outputs": [
        {
          "output_type": "display_data",
          "data": {
            "image/png": "[encoded data removed]",
            "text/plain": [
              "<Figure size 648x216 with 3 Axes>"
            ]
          },
          "metadata": {
            "tags": [],
            "needs_background": "light"
          }
        }
      ]
    },
    {
      "cell_type": "markdown",
      "metadata": {
        "id": "Jg6NIRIjjssQ"
      },
      "source": [
        "# 씨본(Seaborn) \n",
        "Matplotlib을 기반으로 다양한 색상 테마와  통계용 차트 등의 기능을 추가한 시각화 패키지입니다. \n"
      ]
    },
    {
      "cell_type": "code",
      "metadata": {
        "id": "bQs7gHBMvspX"
      },
      "source": [
        "import seaborn as sns"
      ],
      "execution_count": 37,
      "outputs": []
    },
    {
      "cell_type": "markdown",
      "metadata": {
        "id": "ea1uA8bDkNo1"
      },
      "source": [
        "카운트 플롯"
      ]
    },
    {
      "cell_type": "code",
      "metadata": {
        "id": "qxBlchmeVVF3",
        "outputId": "a891d654-8ce1-405b-d4b9-7c34a5797193",
        "colab": {
          "base_uri": "https://localhost:8080/",
          "height": 355
        }
      },
      "source": [
        "sns.distplot(df['power_usage'])"
      ],
      "execution_count": 38,
      "outputs": [
        {
          "output_type": "stream",
          "text": [
            "/usr/local/lib/python3.6/dist-packages/seaborn/distributions.py:2551: FutureWarning: `distplot` is a deprecated function and will be removed in a future version. Please adapt your code to use either `displot` (a figure-level function with similar flexibility) or `histplot` (an axes-level function for histograms).\n",
            "  warnings.warn(msg, FutureWarning)\n"
          ],
          "name": "stderr"
        },
        {
          "output_type": "execute_result",
          "data": {
            "text/plain": [
              "<matplotlib.axes._subplots.AxesSubplot at 0x7f510cca0da0>"
            ]
          },
          "metadata": {
            "tags": []
          },
          "execution_count": 38
        },
        {
          "output_type": "display_data",
          "data": {
            "image/png": "[encoded data removed]",
            "text/plain": [
              "<Figure size 432x288 with 1 Axes>"
            ]
          },
          "metadata": {
            "tags": [],
            "needs_background": "light"
          }
        }
      ]
    },
    {
      "cell_type": "code",
      "metadata": {
        "id": "SN6nOgEYdSrr"
      },
      "source": [
        "import seaborn as sns"
      ],
      "execution_count": 39,
      "outputs": []
    },
    {
      "cell_type": "code",
      "metadata": {
        "id": "_XZAur3NdSx3",
        "outputId": "a0c03dd0-4b8e-40d1-b424-ce9213736516",
        "colab": {
          "base_uri": "https://localhost:8080/",
          "height": 295
        }
      },
      "source": [
        "sns.heatmap(df.corr(), annot=True)"
      ],
      "execution_count": 40,
      "outputs": [
        {
          "output_type": "execute_result",
          "data": {
            "text/plain": [
              "<matplotlib.axes._subplots.AxesSubplot at 0x7f510ccc84a8>"
            ]
          },
          "metadata": {
            "tags": []
          },
          "execution_count": 40
        },
        {
          "output_type": "display_data",
          "data": {
            "image/png": "[encoded data removed]",
            "text/plain": [
              "<Figure size 432x288 with 2 Axes>"
            ]
          },
          "metadata": {
            "tags": [],
            "needs_background": "light"
          }
        }
      ]
    },
    {
      "cell_type": "markdown",
      "metadata": {
        "id": "cn0JpiKZdEvR"
      },
      "source": [
        "카운트 플롯"
      ]
    },
    {
      "cell_type": "code",
      "metadata": {
        "id": "nD3aIJ1Bp9oH",
        "outputId": "62a47ab6-b473-4937-dec3-cb7a9d27094d",
        "colab": {
          "base_uri": "https://localhost:8080/",
          "height": 299
        }
      },
      "source": [
        "sns.countplot(x='day_of_week', data=df)"
      ],
      "execution_count": 41,
      "outputs": [
        {
          "output_type": "execute_result",
          "data": {
            "text/plain": [
              "<matplotlib.axes._subplots.AxesSubplot at 0x7f510cc94400>"
            ]
          },
          "metadata": {
            "tags": []
          },
          "execution_count": 41
        },
        {
          "output_type": "display_data",
          "data": {
            "image/png": "[encoded data removed]",
            "text/plain": [
              "<Figure size 432x288 with 1 Axes>"
            ]
          },
          "metadata": {
            "tags": [],
            "needs_background": "light"
          }
        }
      ]
    },
    {
      "cell_type": "code",
      "metadata": {
        "id": "9BUjaZFAt9C6"
      },
      "source": [
        ""
      ],
      "execution_count": 41,
      "outputs": []
    },
    {
      "cell_type": "markdown",
      "metadata": {
        "id": "ekxNNugbqku2"
      },
      "source": [
        "박스 플롯"
      ]
    },
    {
      "cell_type": "code",
      "metadata": {
        "id": "g8urTaOIqjNt",
        "outputId": "3208fe52-cd96-4cdb-dc7a-8612c41b02d6",
        "colab": {
          "base_uri": "https://localhost:8080/",
          "height": 300
        }
      },
      "source": [
        "sns.boxplot(x='day_of_week', y='power_usage', data=df)"
      ],
      "execution_count": 42,
      "outputs": [
        {
          "output_type": "execute_result",
          "data": {
            "text/plain": [
              "<matplotlib.axes._subplots.AxesSubplot at 0x7f5100434d30>"
            ]
          },
          "metadata": {
            "tags": []
          },
          "execution_count": 42
        },
        {
          "output_type": "display_data",
          "data": {
            "image/png": "[encoded data removed]",
            "text/plain": [
              "<Figure size 432x288 with 1 Axes>"
            ]
          },
          "metadata": {
            "tags": [],
            "needs_background": "light"
          }
        }
      ]
    },
    {
      "cell_type": "markdown",
      "metadata": {
        "id": "fOyaM0o4Ur7a"
      },
      "source": [
        "# 5.전력사용량 분석"
      ]
    },
    {
      "cell_type": "code",
      "metadata": {
        "id": "eBJpzMQKnsH4",
        "outputId": "12394ba4-26ed-451b-cc1c-404e274a9994",
        "colab": {
          "base_uri": "https://localhost:8080/",
          "height": 227
        }
      },
      "source": [
        "import pandas as pd\n",
        "import matplotlib.pyplot as plt\n",
        "\n",
        "# df = pd.read_csv('data.csv')  \n",
        "df = pd.read_csv('https://raw.githubusercontent.com/kgpark88/ems/master/data.csv')\n",
        "df.plot(title='POWER USAGE',  figsize=(10, 3), ylim=(0,2000) )\n",
        "plt.show()"
      ],
      "execution_count": 43,
      "outputs": [
        {
          "output_type": "display_data",
          "data": {
            "image/png": "[encoded data removed]",
            "text/plain": [
              "<Figure size 720x216 with 1 Axes>"
            ]
          },
          "metadata": {
            "tags": [],
            "needs_background": "light"
          }
        }
      ]
    },
    {
      "cell_type": "markdown",
      "metadata": {
        "id": "IcEN1WyypN5O"
      },
      "source": [
        "# 6. 선형회귀  \n",
        "종속 변수 y와 한 개 이상의 독립 변수 X와의 선형 상관 관계를 모델링 하는 회귀분석 기법"
      ]
    },
    {
      "cell_type": "code",
      "metadata": {
        "id": "08um8dWdpTHK",
        "outputId": "ed87c389-8268-490a-ccfa-989436adcd79",
        "colab": {
          "base_uri": "https://localhost:8080/",
          "height": 373
        }
      },
      "source": [
        "import numpy as np\n",
        "from scipy import stats\n",
        "import matplotlib.pyplot as plt\n",
        "\n",
        "# 생산량\n",
        "output = [110, 125, 140, 145, 160, 166, 179, 190, 200, 215, 230, 250]\n",
        "# 전력사용량\n",
        "power_usage = [98, 115, 120, 136, 140, 156, 160, 177, 185, 195, 210, 225]\n",
        "# p-value   : 유의 확률, 일반적으로 0.05 미만일 때 유의미\n",
        "slope, intercept, r_value, p_value, stderr = stats.linregress(output, power_usage)\n",
        "\n",
        "# 생산량 134개일 때 전기사용량 예측\n",
        "product = 134\n",
        "print(\"기울기(slope) : \", slope)\n",
        "print(\"절편(intercept) : \", intercept)\n",
        "print(\"상관계수(r_value) : \", r_value)\n",
        "print(\"유의확률(p_value) : \", p_value )\n",
        "print(\"{}개 => 예측량 {}kWh\".format(\n",
        "    product, product*slope + intercept))\n",
        "\n",
        "plt.scatter(output, power_usage) \n",
        "x = np.arange(0, 300)\n",
        "y = [(slope*num + intercept) for num in x]\n",
        "plt.plot(x, y, 'b', lw=1) \n",
        "plt.xlabel(\"Output(EA)\")\n",
        "plt.ylabel(\"Power Usage(kWh)\")\n",
        "plt.show()"
      ],
      "execution_count": 44,
      "outputs": [
        {
          "output_type": "stream",
          "text": [
            "기울기(slope) :  0.9200457304535211\n",
            "절편(intercept) :  -2.024707604744151\n",
            "상관계수(r_value) :  0.9950415352828844\n",
            "유의확률(p_value) :  2.3409613797567155e-11\n",
            "134개 => 예측량 121.26142027602768kWh\n"
          ],
          "name": "stdout"
        },
        {
          "output_type": "display_data",
          "data": {
            "image/png": "[encoded data removed]",
            "text/plain": [
              "<Figure size 432x288 with 1 Axes>"
            ]
          },
          "metadata": {
            "tags": [],
            "needs_background": "light"
          }
        }
      ]
    },
    {
      "cell_type": "markdown",
      "metadata": {
        "id": "6IpzXD8BvhAu"
      },
      "source": [
        "# 7. 에너지 가격 분석 \n",
        "https://www.eia.gov/opendata/   \n",
        "① 라이브러리 설치 : !pip install EIA-python  \n",
        "② Email 주소를 입력하고 API 신청  \n",
        "③ Email로 받은 API키를 프로그램 소스코드에 추가  \n"
      ]
    },
    {
      "cell_type": "code",
      "metadata": {
        "id": "LgrnBWqtvswd",
        "outputId": "504c92ec-c3e5-4310-f665-e71cff15aeb3",
        "colab": {
          "base_uri": "https://localhost:8080/",
          "height": 56
        }
      },
      "source": [
        "!pip install EIA-python"
      ],
      "execution_count": 45,
      "outputs": [
        {
          "output_type": "stream",
          "text": [
            "Requirement already satisfied: EIA-python in /usr/local/lib/python3.6/dist-packages (1.22)\n"
          ],
          "name": "stdout"
        }
      ]
    },
    {
      "cell_type": "code",
      "metadata": {
        "id": "lIGNN5TZv7u0",
        "outputId": "c652a649-c805-4cca-ad21-84039c57ce8e",
        "colab": {
          "base_uri": "https://localhost:8080/",
          "height": 75
        }
      },
      "source": [
        "import eia\n",
        "import pandas as pd\n",
        "import matplotlib.pyplot as plt\n",
        "from statsmodels.tsa.seasonal import seasonal_decompose\n",
        "from matplotlib import pyplot\n",
        "from statsmodels.tsa.vector_ar.var_model import VAR\n",
        "from statsmodels.tsa.stattools import adfuller\n",
        "import numpy as np\n",
        "from sklearn.metrics import mean_squared_error, mean_absolute_error\n",
        "from math import sqrt"
      ],
      "execution_count": 46,
      "outputs": [
        {
          "output_type": "stream",
          "text": [
            "/usr/local/lib/python3.6/dist-packages/statsmodels/tools/_testing.py:19: FutureWarning: pandas.util.testing is deprecated. Use the functions in the public API at pandas.testing instead.\n",
            "  import pandas.util.testing as tm\n"
          ],
          "name": "stderr"
        }
      ]
    },
    {
      "cell_type": "code",
      "metadata": {
        "id": "kG8bq_Ivv-t4"
      },
      "source": [
        "def retrieve_time_series(api, series_ID):\n",
        "    \"\"\"\n",
        "    Return the time series dataframe, based on API and unique Series ID\n",
        "    api: API that we're connected to\n",
        "    series_ID: string. Name of the series that we want to pull from the EIA API\n",
        "    \"\"\"\n",
        "    #Retrieve Data By Series ID \n",
        "    series_search = api.data_by_series(series=series_ID)\n",
        "    ##Create a pandas dataframe from the retrieved time series\n",
        "    df = pd.DataFrame(series_search)\n",
        "    return df"
      ],
      "execution_count": 47,
      "outputs": []
    },
    {
      "cell_type": "code",
      "metadata": {
        "id": "7laAQuKbwAyZ"
      },
      "source": [
        "def decompose_time_series(series):\n",
        "    \"\"\"\n",
        "    Decompose a time series and plot it in the console\n",
        "    Arguments: \n",
        "        series: series. Time series that we want to decompose\n",
        "    Outputs: \n",
        "        Decomposition plot in the console\n",
        "    \"\"\"\n",
        "    result = seasonal_decompose(series, model='additive')\n",
        "    result.plot()\n",
        "    pyplot.show()"
      ],
      "execution_count": 48,
      "outputs": []
    },
    {
      "cell_type": "code",
      "metadata": {
        "id": "LqEPaMyxwDBs"
      },
      "source": [
        "def augmented_dickey_fuller_statistics(time_series):\n",
        "    \"\"\"\n",
        "    Run the augmented Dickey-Fuller test on a time series\n",
        "    to determine if it's stationary.\n",
        "    Arguments: \n",
        "        time_series: series. Time series that we want to test \n",
        "    Outputs: \n",
        "        Test statistics for the Augmented Dickey Fuller test in \n",
        "        the console \n",
        "    \"\"\"\n",
        "    result = adfuller(time_series.values)\n",
        "    print('ADF Statistic: %f' % result[0])\n",
        "    print('p-value: %f' % result[1])\n",
        "    print('Critical Values:')\n",
        "    for key, value in result[4].items():\n",
        "        print('\\t%s: %.3f' % (key, value)) "
      ],
      "execution_count": 49,
      "outputs": []
    },
    {
      "cell_type": "code",
      "metadata": {
        "id": "TnPIQC-OwFXm"
      },
      "source": [
        "def calculate_model_accuracy_metrics(actual, predicted):\n",
        "    \"\"\"\n",
        "    Output model accuracy metrics, comparing predicted values\n",
        "    to actual values.\n",
        "    Arguments:\n",
        "        actual: list. Time series of actual values.\n",
        "        predicted: list. Time series of predicted values\n",
        "    Outputs:\n",
        "        Forecast bias metrics, mean absolute error, mean squared error,\n",
        "        and root mean squared error in the console\n",
        "    \"\"\"\n",
        "    #Calculate forecast bias\n",
        "    forecast_errors = [actual[i]-predicted[i] for i in range(len(actual))]\n",
        "    bias = sum(forecast_errors) * 1.0/len(actual)\n",
        "    print('Bias: %f' % bias)\n",
        "    #Calculate mean absolute error\n",
        "    mae = mean_absolute_error(actual, predicted)\n",
        "    print('MAE: %f' % mae)\n",
        "    #Calculate mean squared error and root mean squared error\n",
        "    mse = mean_squared_error(actual, predicted)\n",
        "    print('MSE: %f' % mse)\n",
        "    rmse = sqrt(mse)\n",
        "    print('RMSE: %f' % rmse)\n"
      ],
      "execution_count": 50,
      "outputs": []
    },
    {
      "cell_type": "code",
      "metadata": {
        "id": "ie_aiSolwRM4",
        "outputId": "459db1f3-a5f9-4c92-db24-b0cd6436574d",
        "colab": {
          "base_uri": "https://localhost:8080/",
          "height": 1000
        }
      },
      "source": [
        "#Create EIA API using your specific API key\n",
        "# EIA 사이트 : https://www.eia.gov/opendata/register.php\n",
        "# api_key = \"EIA 사이트에서 발급받은 API KEY 입력\"\n",
        "\n",
        "api_key = \"02a398e7c828a016cabba6999838132d\"\n",
        "api = eia.API(api_key)\n",
        "\n",
        "#Pull the electricity price data\n",
        "series_ID='ELEC.PRICE.TX-ALL.M'\n",
        "electricity_df=retrieve_time_series(api, series_ID)\n",
        "electricity_df.reset_index(level=0, inplace=True)\n",
        "#Rename the columns for easer analysis\n",
        "electricity_df.rename(columns={'index':'Date',\n",
        "        electricity_df.columns[1]:'Electricity_Price'}, \n",
        "        inplace=True)\n",
        "#Convert the Date column into a date object\n",
        "electricity_df['Date']=pd.to_datetime(electricity_df['Date'])\n",
        "#Set Date as a Pandas DatetimeIndex\n",
        "electricity_df.index=pd.DatetimeIndex(electricity_df['Date'])\n",
        "#Decompose the time series into parts\n",
        "decompose_time_series(electricity_df['Electricity_Price'])\n",
        "\n",
        "#Pull in natural gas time series data\n",
        "series_ID='NG.N3035TX3.M'\n",
        "nat_gas_df=retrieve_time_series(api, series_ID)\n",
        "nat_gas_df.reset_index(level=0, inplace=True)\n",
        "#Rename the columns\n",
        "nat_gas_df.rename(columns={'index':'Date',\n",
        "        nat_gas_df.columns[1]:'Nat_Gas_Price_MCF'}, \n",
        "        inplace=True)\n",
        "#Convert the Date column into a date object\n",
        "nat_gas_df['Date']=pd.to_datetime(nat_gas_df['Date'])\n",
        "#Set Date as a Pandas DatetimeIndex\n",
        "nat_gas_df.index=pd.DatetimeIndex(nat_gas_df['Date'])\n",
        "#Decompose the time series into parts\n",
        "decompose_time_series(nat_gas_df['Nat_Gas_Price_MCF'])\n",
        "\n",
        "#Merge the two time series together based on Date Index\n",
        "master_df=pd.merge(electricity_df['Electricity_Price'], nat_gas_df['Nat_Gas_Price_MCF'], \n",
        "                   left_index=True, right_index=True)\n",
        "master_df.reset_index(level=0, inplace=True)\n",
        "\n",
        "#Plot the two variables in the same plot\n",
        "plt.plot(master_df['Date'], \n",
        "         master_df['Electricity_Price'], label=\"Electricity_Price\")\n",
        "plt.plot(master_df['Date'], \n",
        "         master_df['Nat_Gas_Price_MCF'], label=\"Nat_Gas_Price\")\n",
        "# Place a legend to the right of this smaller subplot.\n",
        "plt.legend(bbox_to_anchor=(1.05, 1), loc=2, borderaxespad=0.)\n",
        "plt.title('Natural Gas Price vs. TX Electricity Price over Time')\n",
        "plt.show()\n",
        "\n",
        "#Transform the columns using natural log\n",
        "master_df['Electricity_Price_Transformed']=np.log(master_df['Electricity_Price'])\n",
        "master_df['Nat_Gas_Price_MCF_Transformed']=np.log(master_df['Nat_Gas_Price_MCF'])\n",
        "\n",
        "#In order to make the time series stationary, difference the data by 1 month\n",
        "n=1\n",
        "master_df['Electricity_Price_Transformed_Differenced'] = master_df['Electricity_Price_Transformed'] - master_df['Electricity_Price_Transformed'].shift(n)\n",
        "master_df['Nat_Gas_Price_MCF_Transformed_Differenced'] = master_df['Nat_Gas_Price_MCF_Transformed'] - master_df['Nat_Gas_Price_MCF_Transformed'].shift(n)\n",
        "\n",
        "#Run each differenced time series thru the Augmented Dickey Fuller test\n",
        "print('Augmented Dickey-Fuller Test: Electricity Price Time Series')\n",
        "augmented_dickey_fuller_statistics(master_df['Electricity_Price_Transformed_Differenced'].dropna())\n",
        "print('Augmented Dickey-Fuller Test: Natural Gas Price Time Series')\n",
        "augmented_dickey_fuller_statistics(master_df['Nat_Gas_Price_MCF_Transformed_Differenced'].dropna())\n",
        "\n",
        "#Conver the dataframe to a numpy array\n",
        "master_array=np.array(master_df[['Electricity_Price_Transformed_Differenced', \n",
        "                                 'Nat_Gas_Price_MCF_Transformed_Differenced']].dropna())\n",
        "\n",
        "#Generate a training and test set for building the model: 95/5 split\n",
        "training_set = master_array[:int(0.95*(len(master_array)))]\n",
        "test_set = master_array[int(0.95*(len(master_array))):]\n",
        "\n",
        "#Fit to a VAR model\n",
        "model = VAR(endog=training_set)\n",
        "model_fit = model.fit()\n",
        "#Print a summary of the model results\n",
        "model_fit.summary()\n",
        "\n",
        "#Compare the forecasted results to the real data \n",
        "prediction = model_fit.forecast(model_fit.y, steps=len(test_set))\n",
        "\n",
        "#Merge the array data back into the master dataframe, and un-difference and back-transform\n",
        "data_with_predictions=pd.DataFrame(np.vstack((training_set, \n",
        "                                    prediction))).rename(columns={0:'Electricity_Price_Transformed_Differenced_PostProcess',\n",
        "                                                                  1:'Nat_Gas_Price_MCF_Transformed_Differenced_PostProcess'})\n",
        "#Define which data is predicted and which isn't in the 'Predicted' column\n",
        "data_with_predictions.loc[:,'Predicted']=1\n",
        "data_with_predictions.loc[(data_with_predictions.index>=0) & \n",
        "                                 (data_with_predictions.index<=(len(training_set)-1)),'Predicted']=0\n",
        "\n",
        "#Add a row of NaN at the begining of the df\n",
        "data_with_predictions.loc[-1] = [None, None, None]  # adding a row\n",
        "data_with_predictions.index = data_with_predictions.index + 1  # shifting index\n",
        "data_with_predictions.sort_index(inplace=True) \n",
        "#Add back into the original dataframe\n",
        "master_df.loc[:,'Electricity_Price_Transformed_Differenced_PostProcess'] = data_with_predictions['Electricity_Price_Transformed_Differenced_PostProcess']\n",
        "master_df.loc[:,'Predicted'] = data_with_predictions['Predicted']\n",
        "    \n",
        "#Un-difference the data\n",
        "for i in range(1,len(master_df.index)-1):\n",
        "    master_df.at[i,'Electricity_Price_Transformed']= master_df.at[i-1,'Electricity_Price_Transformed']+master_df.at[i,'Electricity_Price_Transformed_Differenced_PostProcess']\n",
        "\n",
        "#Back-transform the data\n",
        "master_df.loc[:,'Predicted_Electricity_Price']=np.exp(master_df['Electricity_Price_Transformed'])\n",
        "\n",
        "#Compare the forecasted data to the real data\n",
        "print(master_df[master_df['Predicted']==1][['Date','Electricity_Price', 'Predicted_Electricity_Price']])\n",
        "\n",
        "#Evaluate the accuracy of the results, pre un-differencing and back-transformation\n",
        "calculate_model_accuracy_metrics(list(master_df[master_df['Predicted']==1]['Electricity_Price']), \n",
        "                                list(master_df[master_df['Predicted']==1]['Predicted_Electricity_Price']))\n"
      ],
      "execution_count": 51,
      "outputs": [
        {
          "output_type": "display_data",
          "data": {
            "image/png": "[encoded data removed]",
            "text/plain": [
              "<Figure size 432x288 with 4 Axes>"
            ]
          },
          "metadata": {
            "tags": [],
            "needs_background": "light"
          }
        },
        {
          "output_type": "display_data",
          "data": {
            "image/png": "[encoded data removed]",
            "text/plain": [
              "<Figure size 432x288 with 4 Axes>"
            ]
          },
          "metadata": {
            "tags": [],
            "needs_background": "light"
          }
        },
        {
          "output_type": "display_data",
          "data": {
            "image/png": "[encoded data removed]",
            "text/plain": [
              "<Figure size 432x288 with 1 Axes>"
            ]
          },
          "metadata": {
            "tags": [],
            "needs_background": "light"
          }
        },
        {
          "output_type": "stream",
          "text": [
            "Augmented Dickey-Fuller Test: Electricity Price Time Series\n",
            "ADF Statistic: -4.369254\n",
            "p-value: 0.000336\n",
            "Critical Values:\n",
            "\t1%: -3.461\n",
            "\t5%: -2.875\n",
            "\t10%: -2.574\n",
            "Augmented Dickey-Fuller Test: Natural Gas Price Time Series\n",
            "ADF Statistic: -7.101385\n",
            "p-value: 0.000000\n",
            "Critical Values:\n",
            "\t1%: -3.460\n",
            "\t5%: -2.874\n",
            "\t10%: -2.574\n",
            "          Date  Electricity_Price  Predicted_Electricity_Price\n",
            "223 2019-08-01               9.67                     8.901670\n",
            "224 2019-09-01               9.37                     8.913260\n",
            "225 2019-10-01               8.88                     8.924307\n",
            "226 2019-11-01               8.54                     8.935338\n",
            "227 2019-12-01               8.48                     8.946381\n",
            "228 2020-01-01               8.39                     8.957438\n",
            "229 2020-02-01               8.57                     8.968509\n",
            "230 2020-03-01               8.41                     8.979593\n",
            "231 2020-04-01               8.47                     8.990691\n",
            "232 2020-05-01               8.42                     9.001803\n",
            "233 2020-06-01               8.79                     9.012928\n",
            "234 2020-07-01               8.82                     8.820000\n",
            "Bias: -0.211826\n",
            "MAE: 0.416005\n",
            "MSE: 0.219938\n",
            "RMSE: 0.468975\n"
          ],
          "name": "stdout"
        },
        {
          "output_type": "stream",
          "text": [
            "/usr/local/lib/python3.6/dist-packages/statsmodels/base/wrapper.py:35: FutureWarning: y is a deprecated alias for endog, will be removed in version 0.11.0\n",
            "  obj = getattr(results, attr)\n"
          ],
          "name": "stderr"
        }
      ]
    },
    {
      "cell_type": "code",
      "metadata": {
        "id": "i3LqNviSr41K"
      },
      "source": [
        ""
      ],
      "execution_count": 51,
      "outputs": []
    }
  ]
}