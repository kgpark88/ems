{
  "nbformat": 4,
  "nbformat_minor": 0,
  "metadata": {
    "colab": {
      "name": "energy_data_analysis.ipynb",
      "provenance": [],
      "collapsed_sections": [],
      "toc_visible": true,
      "include_colab_link": true
    },
    "kernelspec": {
      "name": "python3",
      "display_name": "Python 3"
    }
  },
  "cells": [
    {
      "cell_type": "markdown",
      "metadata": {
        "id": "view-in-github",
        "colab_type": "text"
      },
      "source": [
        "<a href=\"https://colab.research.google.com/github/kgpark88/ems/blob/master/energy_data_analysis.ipynb\" target=\"_parent\"><img src=\"https://colab.research.google.com/assets/colab-badge.svg\" alt=\"Open In Colab\"/></a>"
      ]
    },
    {
      "cell_type": "markdown",
      "metadata": {
        "id": "49sno4m8lpmx"
      },
      "source": [
        "# 에너지 데이터 분석"
      ]
    },
    {
      "cell_type": "markdown",
      "metadata": {
        "id": "c43cY1Mvl9if"
      },
      "source": [
        "## 1. 넘파이(Numpy)\n",
        "NumPy(Numerical Python)는 데이터 분석을 포함해 수학과 과학연산을 위한 파이썬 기본 패키지로 고성능의 다차원 배열 객체와 다양한 객체에 대해 고속 연산을 가능하게 합니다.\n"
      ]
    },
    {
      "cell_type": "markdown",
      "metadata": {
        "id": "IYYl34Pomgfe"
      },
      "source": [
        "Numpy 라이브러리 임포트"
      ]
    },
    {
      "cell_type": "code",
      "metadata": {
        "id": "9Q3J7h6Iljbx"
      },
      "source": [
        "import numpy as np"
      ],
      "execution_count": null,
      "outputs": []
    },
    {
      "cell_type": "markdown",
      "metadata": {
        "id": "j4CalkxxmpEe"
      },
      "source": [
        "파이썬 리스트(list) 정의"
      ]
    },
    {
      "cell_type": "code",
      "metadata": {
        "id": "HhnUUYjqloxZ"
      },
      "source": [
        "lst = [1, 2, 3, 4, 5, 6, 7, 8, 9, 10]"
      ],
      "execution_count": null,
      "outputs": []
    },
    {
      "cell_type": "markdown",
      "metadata": {
        "id": "gIb1rhCnmvbN"
      },
      "source": [
        "리스트(list)를 Numpy array 로 변환"
      ]
    },
    {
      "cell_type": "code",
      "metadata": {
        "id": "SuXZQe3kOCCr",
        "outputId": "ee411b18-0745-49c1-b2f4-32c75c18a8ee",
        "colab": {
          "base_uri": "https://localhost:8080/",
          "height": 35
        }
      },
      "source": [
        "arr = np.array(lst)\n",
        "arr"
      ],
      "execution_count": null,
      "outputs": [
        {
          "output_type": "execute_result",
          "data": {
            "text/plain": [
              "array([ 1,  2,  3,  4,  5,  6,  7,  8,  9, 10])"
            ]
          },
          "metadata": {
            "tags": []
          },
          "execution_count": 19
        }
      ]
    },
    {
      "cell_type": "markdown",
      "metadata": {
        "id": "MH_vs7j_nGlj"
      },
      "source": [
        "통계 계산 및 출력"
      ]
    },
    {
      "cell_type": "code",
      "metadata": {
        "id": "QBam-CXbniQz",
        "outputId": "eeae141c-161c-41b6-e231-287db7ca5c72",
        "colab": {
          "base_uri": "https://localhost:8080/",
          "height": 35
        }
      },
      "source": [
        "np.median(arr)"
      ],
      "execution_count": null,
      "outputs": [
        {
          "output_type": "execute_result",
          "data": {
            "text/plain": [
              "5.5"
            ]
          },
          "metadata": {
            "tags": []
          },
          "execution_count": 21
        }
      ]
    },
    {
      "cell_type": "code",
      "metadata": {
        "id": "5KPWHWhflo32",
        "outputId": "1adebccc-0f84-49ac-d4e6-0ef87f252434",
        "colab": {
          "base_uri": "https://localhost:8080/",
          "height": 126
        }
      },
      "source": [
        "print('Mean:', arr.mean())\n",
        "print('Median:', np.median(arr))\n",
        "print('Range (Max - min):', np.ptp(arr))\n",
        "print('Standard deviation:', arr.std())\n",
        "print('80th percentile:', np.percentile(arr, 80))\n",
        "print('0.2-quantile:', np.quantile(arr, 0.2))"
      ],
      "execution_count": null,
      "outputs": [
        {
          "output_type": "stream",
          "text": [
            "Mean: 5.5\n",
            "Median: 5.5\n",
            "Range (Max - min): 9\n",
            "Standard deviation: 2.8722813232690143\n",
            "80th percentile: 8.2\n",
            "0.2-quantile: 2.8000000000000003\n"
          ],
          "name": "stdout"
        }
      ]
    },
    {
      "cell_type": "markdown",
      "metadata": {
        "id": "n1qx_qQUTone"
      },
      "source": [
        "# 2. 판다스(Pandas)\n",
        "Pandas는 데이타 분석을 위해 널리 사용되는 파이썬 라이브러리 패키지입니다. \n",
        "데이터프레임 자료구조를 사용하여, 데이터 분석에 있어 높은 수준의 성능을 발휘합니다. \n"
      ]
    },
    {
      "cell_type": "code",
      "metadata": {
        "id": "VILvamkylo6_"
      },
      "source": [
        "import numpy as np\n",
        "import pandas as pd\n",
        "import matplotlib.pyplot as plt"
      ],
      "execution_count": null,
      "outputs": []
    },
    {
      "cell_type": "markdown",
      "metadata": {
        "id": "e1-GzhCoUXo1"
      },
      "source": [
        "datetime 인덱스와 레이블이 있는 열을 가지고 있는 numpy 배열을 전달하여 데이터프레임을 만듭니다."
      ]
    },
    {
      "cell_type": "code",
      "metadata": {
        "id": "y9W-W3UNlpA8"
      },
      "source": [
        "dates = pd.date_range('20200101', periods=12)"
      ],
      "execution_count": null,
      "outputs": []
    },
    {
      "cell_type": "code",
      "metadata": {
        "id": "sRcEdFbDlpEP",
        "outputId": "324ac42f-2add-4386-d2f9-1027299241c7",
        "colab": {
          "base_uri": "https://localhost:8080/",
          "height": 90
        }
      },
      "source": [
        "dates"
      ],
      "execution_count": null,
      "outputs": [
        {
          "output_type": "execute_result",
          "data": {
            "text/plain": [
              "DatetimeIndex(['2020-01-01', '2020-01-02', '2020-01-03', '2020-01-04',\n",
              "               '2020-01-05', '2020-01-06', '2020-01-07', '2020-01-08',\n",
              "               '2020-01-09', '2020-01-10', '2020-01-11', '2020-01-12'],\n",
              "              dtype='datetime64[ns]', freq='D')"
            ]
          },
          "metadata": {
            "tags": []
          },
          "execution_count": 70
        }
      ]
    },
    {
      "cell_type": "code",
      "metadata": {
        "id": "o-fV-CZlbNGH"
      },
      "source": [
        "data = np.random.randint(0,100,(12,3))"
      ],
      "execution_count": null,
      "outputs": []
    },
    {
      "cell_type": "code",
      "metadata": {
        "id": "Gm88fktLlpHL"
      },
      "source": [
        "df = pd.DataFrame(data=data, index=dates, columns=['power usage','gas usage','water usage'])"
      ],
      "execution_count": null,
      "outputs": []
    },
    {
      "cell_type": "code",
      "metadata": {
        "id": "Im9h8f-MlpKq",
        "outputId": "5444b8e8-2ae7-4bd0-b4cd-21aa648de17a",
        "colab": {
          "base_uri": "https://localhost:8080/",
          "height": 198
        }
      },
      "source": [
        "df.head()"
      ],
      "execution_count": null,
      "outputs": [
        {
          "output_type": "execute_result",
          "data": {
            "text/html": [
              "<div>\n",
              "<style scoped>\n",
              "    .dataframe tbody tr th:only-of-type {\n",
              "        vertical-align: middle;\n",
              "    }\n",
              "\n",
              "    .dataframe tbody tr th {\n",
              "        vertical-align: top;\n",
              "    }\n",
              "\n",
              "    .dataframe thead th {\n",
              "        text-align: right;\n",
              "    }\n",
              "</style>\n",
              "<table border=\"1\" class=\"dataframe\">\n",
              "  <thead>\n",
              "    <tr style=\"text-align: right;\">\n",
              "      <th></th>\n",
              "      <th>power usage</th>\n",
              "      <th>gas usage</th>\n",
              "      <th>water usage</th>\n",
              "    </tr>\n",
              "  </thead>\n",
              "  <tbody>\n",
              "    <tr>\n",
              "      <th>2020-01-01</th>\n",
              "      <td>35</td>\n",
              "      <td>74</td>\n",
              "      <td>86</td>\n",
              "    </tr>\n",
              "    <tr>\n",
              "      <th>2020-01-02</th>\n",
              "      <td>6</td>\n",
              "      <td>15</td>\n",
              "      <td>84</td>\n",
              "    </tr>\n",
              "    <tr>\n",
              "      <th>2020-01-03</th>\n",
              "      <td>27</td>\n",
              "      <td>1</td>\n",
              "      <td>82</td>\n",
              "    </tr>\n",
              "    <tr>\n",
              "      <th>2020-01-04</th>\n",
              "      <td>17</td>\n",
              "      <td>45</td>\n",
              "      <td>84</td>\n",
              "    </tr>\n",
              "    <tr>\n",
              "      <th>2020-01-05</th>\n",
              "      <td>6</td>\n",
              "      <td>60</td>\n",
              "      <td>44</td>\n",
              "    </tr>\n",
              "  </tbody>\n",
              "</table>\n",
              "</div>"
            ],
            "text/plain": [
              "            power usage  gas usage  water usage\n",
              "2020-01-01           35         74           86\n",
              "2020-01-02            6         15           84\n",
              "2020-01-03           27          1           82\n",
              "2020-01-04           17         45           84\n",
              "2020-01-05            6         60           44"
            ]
          },
          "metadata": {
            "tags": []
          },
          "execution_count": 104
        }
      ]
    },
    {
      "cell_type": "code",
      "metadata": {
        "id": "RTkEPX81eTI7",
        "outputId": "bccac4d2-7ebd-42c6-b72a-73cbb98cc498",
        "colab": {
          "base_uri": "https://localhost:8080/",
          "height": 198
        }
      },
      "source": [
        "df.tail()"
      ],
      "execution_count": null,
      "outputs": [
        {
          "output_type": "execute_result",
          "data": {
            "text/html": [
              "<div>\n",
              "<style scoped>\n",
              "    .dataframe tbody tr th:only-of-type {\n",
              "        vertical-align: middle;\n",
              "    }\n",
              "\n",
              "    .dataframe tbody tr th {\n",
              "        vertical-align: top;\n",
              "    }\n",
              "\n",
              "    .dataframe thead th {\n",
              "        text-align: right;\n",
              "    }\n",
              "</style>\n",
              "<table border=\"1\" class=\"dataframe\">\n",
              "  <thead>\n",
              "    <tr style=\"text-align: right;\">\n",
              "      <th></th>\n",
              "      <th>power usage</th>\n",
              "      <th>gas usage</th>\n",
              "      <th>water usage</th>\n",
              "    </tr>\n",
              "  </thead>\n",
              "  <tbody>\n",
              "    <tr>\n",
              "      <th>2020-01-08</th>\n",
              "      <td>77</td>\n",
              "      <td>90</td>\n",
              "      <td>44</td>\n",
              "    </tr>\n",
              "    <tr>\n",
              "      <th>2020-01-09</th>\n",
              "      <td>18</td>\n",
              "      <td>24</td>\n",
              "      <td>74</td>\n",
              "    </tr>\n",
              "    <tr>\n",
              "      <th>2020-01-10</th>\n",
              "      <td>13</td>\n",
              "      <td>70</td>\n",
              "      <td>15</td>\n",
              "    </tr>\n",
              "    <tr>\n",
              "      <th>2020-01-11</th>\n",
              "      <td>5</td>\n",
              "      <td>10</td>\n",
              "      <td>71</td>\n",
              "    </tr>\n",
              "    <tr>\n",
              "      <th>2020-01-12</th>\n",
              "      <td>21</td>\n",
              "      <td>57</td>\n",
              "      <td>41</td>\n",
              "    </tr>\n",
              "  </tbody>\n",
              "</table>\n",
              "</div>"
            ],
            "text/plain": [
              "            power usage  gas usage  water usage\n",
              "2020-01-08           77         90           44\n",
              "2020-01-09           18         24           74\n",
              "2020-01-10           13         70           15\n",
              "2020-01-11            5         10           71\n",
              "2020-01-12           21         57           41"
            ]
          },
          "metadata": {
            "tags": []
          },
          "execution_count": 105
        }
      ]
    },
    {
      "cell_type": "markdown",
      "metadata": {
        "id": "cAAb5VXhVRv_"
      },
      "source": [
        "인덱스 (index), 열 (column) 그리고 numpy 데이터에 대한 세부 정보를 봅니다."
      ]
    },
    {
      "cell_type": "code",
      "metadata": {
        "id": "z2kmyBlZVVIv",
        "outputId": "e54c7dcc-75a2-44c1-dd4f-2f8c6f587fcd",
        "colab": {
          "base_uri": "https://localhost:8080/",
          "height": 90
        }
      },
      "source": [
        "df.index"
      ],
      "execution_count": null,
      "outputs": [
        {
          "output_type": "execute_result",
          "data": {
            "text/plain": [
              "DatetimeIndex(['2020-01-01', '2020-01-02', '2020-01-03', '2020-01-04',\n",
              "               '2020-01-05', '2020-01-06', '2020-01-07', '2020-01-08',\n",
              "               '2020-01-09', '2020-01-10', '2020-01-11', '2020-01-12'],\n",
              "              dtype='datetime64[ns]', freq='D')"
            ]
          },
          "metadata": {
            "tags": []
          },
          "execution_count": 78
        }
      ]
    },
    {
      "cell_type": "code",
      "metadata": {
        "id": "1hxcdAkWVVOi",
        "outputId": "f0710118-384d-479a-f781-b240964486c5",
        "colab": {
          "base_uri": "https://localhost:8080/",
          "height": 35
        }
      },
      "source": [
        "df.columns"
      ],
      "execution_count": null,
      "outputs": [
        {
          "output_type": "execute_result",
          "data": {
            "text/plain": [
              "Index(['power usage', 'gas usage', 'water usage'], dtype='object')"
            ]
          },
          "metadata": {
            "tags": []
          },
          "execution_count": 79
        }
      ]
    },
    {
      "cell_type": "code",
      "metadata": {
        "id": "z_KrOy5CVVUn",
        "outputId": "7fdd8089-3fc8-46fd-b901-50a3e29b5e3d",
        "colab": {
          "base_uri": "https://localhost:8080/",
          "height": 235
        }
      },
      "source": [
        "df.values"
      ],
      "execution_count": null,
      "outputs": [
        {
          "output_type": "execute_result",
          "data": {
            "text/plain": [
              "array([[35, 74, 86],\n",
              "       [ 6, 15, 84],\n",
              "       [27,  1, 82],\n",
              "       [17, 45, 84],\n",
              "       [ 6, 60, 44],\n",
              "       [93, 69, 39],\n",
              "       [10, 92, 20],\n",
              "       [77, 90, 44],\n",
              "       [18, 24, 74],\n",
              "       [13, 70, 15],\n",
              "       [ 5, 10, 71],\n",
              "       [21, 57, 41]])"
            ]
          },
          "metadata": {
            "tags": []
          },
          "execution_count": 80
        }
      ]
    },
    {
      "cell_type": "code",
      "metadata": {
        "id": "8V2yxOZVVVi1",
        "outputId": "7adf0fd4-48f1-440b-b781-c8b44d1fdd0c",
        "colab": {
          "base_uri": "https://localhost:8080/",
          "height": 217
        }
      },
      "source": [
        "df.info()"
      ],
      "execution_count": null,
      "outputs": [
        {
          "output_type": "stream",
          "text": [
            "<class 'pandas.core.frame.DataFrame'>\n",
            "DatetimeIndex: 12 entries, 2020-01-01 to 2020-01-12\n",
            "Freq: D\n",
            "Data columns (total 3 columns):\n",
            " #   Column       Non-Null Count  Dtype\n",
            "---  ------       --------------  -----\n",
            " 0   power usage  12 non-null     int64\n",
            " 1   gas usage    12 non-null     int64\n",
            " 2   water usage  12 non-null     int64\n",
            "dtypes: int64(3)\n",
            "memory usage: 384.0 bytes\n"
          ],
          "name": "stdout"
        }
      ]
    },
    {
      "cell_type": "code",
      "metadata": {
        "id": "MroNIqRTaJed",
        "outputId": "b93468aa-f3d5-4bc1-d837-563093fb77db",
        "colab": {
          "base_uri": "https://localhost:8080/",
          "height": 90
        }
      },
      "source": [
        "df.dtypes"
      ],
      "execution_count": null,
      "outputs": [
        {
          "output_type": "execute_result",
          "data": {
            "text/plain": [
              "power usage    int64\n",
              "gas usage      int64\n",
              "water usage    int64\n",
              "dtype: object"
            ]
          },
          "metadata": {
            "tags": []
          },
          "execution_count": 82
        }
      ]
    },
    {
      "cell_type": "markdown",
      "metadata": {
        "id": "CHVqTFiQerCx"
      },
      "source": [
        "Null 데이터 확인"
      ]
    },
    {
      "cell_type": "code",
      "metadata": {
        "id": "yn6z878HevIx",
        "outputId": "c6c2102a-1a95-4fa0-f887-f3e2d1ae0201",
        "colab": {
          "base_uri": "https://localhost:8080/",
          "height": 90
        }
      },
      "source": [
        "df.isnull().sum()"
      ],
      "execution_count": null,
      "outputs": [
        {
          "output_type": "execute_result",
          "data": {
            "text/plain": [
              "power usage    0\n",
              "gas usage      0\n",
              "water usage    0\n",
              "dtype: int64"
            ]
          },
          "metadata": {
            "tags": []
          },
          "execution_count": 106
        }
      ]
    },
    {
      "cell_type": "code",
      "metadata": {
        "id": "GY4VKb_8VVb9",
        "outputId": "1e6b6579-8672-40c2-acf2-50a499257357",
        "colab": {
          "base_uri": "https://localhost:8080/",
          "height": 288
        }
      },
      "source": [
        "df.describe()"
      ],
      "execution_count": null,
      "outputs": [
        {
          "output_type": "execute_result",
          "data": {
            "text/html": [
              "<div>\n",
              "<style scoped>\n",
              "    .dataframe tbody tr th:only-of-type {\n",
              "        vertical-align: middle;\n",
              "    }\n",
              "\n",
              "    .dataframe tbody tr th {\n",
              "        vertical-align: top;\n",
              "    }\n",
              "\n",
              "    .dataframe thead th {\n",
              "        text-align: right;\n",
              "    }\n",
              "</style>\n",
              "<table border=\"1\" class=\"dataframe\">\n",
              "  <thead>\n",
              "    <tr style=\"text-align: right;\">\n",
              "      <th></th>\n",
              "      <th>power usage</th>\n",
              "      <th>gas usage</th>\n",
              "      <th>water usage</th>\n",
              "    </tr>\n",
              "  </thead>\n",
              "  <tbody>\n",
              "    <tr>\n",
              "      <th>count</th>\n",
              "      <td>12.000000</td>\n",
              "      <td>12.000000</td>\n",
              "      <td>12.000000</td>\n",
              "    </tr>\n",
              "    <tr>\n",
              "      <th>mean</th>\n",
              "      <td>27.333333</td>\n",
              "      <td>50.583333</td>\n",
              "      <td>57.000000</td>\n",
              "    </tr>\n",
              "    <tr>\n",
              "      <th>std</th>\n",
              "      <td>28.582682</td>\n",
              "      <td>31.294665</td>\n",
              "      <td>26.041924</td>\n",
              "    </tr>\n",
              "    <tr>\n",
              "      <th>min</th>\n",
              "      <td>5.000000</td>\n",
              "      <td>1.000000</td>\n",
              "      <td>15.000000</td>\n",
              "    </tr>\n",
              "    <tr>\n",
              "      <th>25%</th>\n",
              "      <td>9.000000</td>\n",
              "      <td>21.750000</td>\n",
              "      <td>40.500000</td>\n",
              "    </tr>\n",
              "    <tr>\n",
              "      <th>50%</th>\n",
              "      <td>17.500000</td>\n",
              "      <td>58.500000</td>\n",
              "      <td>57.500000</td>\n",
              "    </tr>\n",
              "    <tr>\n",
              "      <th>75%</th>\n",
              "      <td>29.000000</td>\n",
              "      <td>71.000000</td>\n",
              "      <td>82.500000</td>\n",
              "    </tr>\n",
              "    <tr>\n",
              "      <th>max</th>\n",
              "      <td>93.000000</td>\n",
              "      <td>92.000000</td>\n",
              "      <td>86.000000</td>\n",
              "    </tr>\n",
              "  </tbody>\n",
              "</table>\n",
              "</div>"
            ],
            "text/plain": [
              "       power usage  gas usage  water usage\n",
              "count    12.000000  12.000000    12.000000\n",
              "mean     27.333333  50.583333    57.000000\n",
              "std      28.582682  31.294665    26.041924\n",
              "min       5.000000   1.000000    15.000000\n",
              "25%       9.000000  21.750000    40.500000\n",
              "50%      17.500000  58.500000    57.500000\n",
              "75%      29.000000  71.000000    82.500000\n",
              "max      93.000000  92.000000    86.000000"
            ]
          },
          "metadata": {
            "tags": []
          },
          "execution_count": 83
        }
      ]
    },
    {
      "cell_type": "code",
      "metadata": {
        "id": "Tk2Fnb_3VVpQ",
        "outputId": "9aa9daf6-8e14-4d8e-9e95-cd03f7fdbacc",
        "colab": {
          "base_uri": "https://localhost:8080/",
          "height": 138
        }
      },
      "source": [
        "df.describe().transpose()"
      ],
      "execution_count": null,
      "outputs": [
        {
          "output_type": "execute_result",
          "data": {
            "text/html": [
              "<div>\n",
              "<style scoped>\n",
              "    .dataframe tbody tr th:only-of-type {\n",
              "        vertical-align: middle;\n",
              "    }\n",
              "\n",
              "    .dataframe tbody tr th {\n",
              "        vertical-align: top;\n",
              "    }\n",
              "\n",
              "    .dataframe thead th {\n",
              "        text-align: right;\n",
              "    }\n",
              "</style>\n",
              "<table border=\"1\" class=\"dataframe\">\n",
              "  <thead>\n",
              "    <tr style=\"text-align: right;\">\n",
              "      <th></th>\n",
              "      <th>count</th>\n",
              "      <th>mean</th>\n",
              "      <th>std</th>\n",
              "      <th>min</th>\n",
              "      <th>25%</th>\n",
              "      <th>50%</th>\n",
              "      <th>75%</th>\n",
              "      <th>max</th>\n",
              "    </tr>\n",
              "  </thead>\n",
              "  <tbody>\n",
              "    <tr>\n",
              "      <th>power usage</th>\n",
              "      <td>12.0</td>\n",
              "      <td>27.333333</td>\n",
              "      <td>28.582682</td>\n",
              "      <td>5.0</td>\n",
              "      <td>9.00</td>\n",
              "      <td>17.5</td>\n",
              "      <td>29.0</td>\n",
              "      <td>93.0</td>\n",
              "    </tr>\n",
              "    <tr>\n",
              "      <th>gas usage</th>\n",
              "      <td>12.0</td>\n",
              "      <td>50.583333</td>\n",
              "      <td>31.294665</td>\n",
              "      <td>1.0</td>\n",
              "      <td>21.75</td>\n",
              "      <td>58.5</td>\n",
              "      <td>71.0</td>\n",
              "      <td>92.0</td>\n",
              "    </tr>\n",
              "    <tr>\n",
              "      <th>water usage</th>\n",
              "      <td>12.0</td>\n",
              "      <td>57.000000</td>\n",
              "      <td>26.041924</td>\n",
              "      <td>15.0</td>\n",
              "      <td>40.50</td>\n",
              "      <td>57.5</td>\n",
              "      <td>82.5</td>\n",
              "      <td>86.0</td>\n",
              "    </tr>\n",
              "  </tbody>\n",
              "</table>\n",
              "</div>"
            ],
            "text/plain": [
              "             count       mean        std   min    25%   50%   75%   max\n",
              "power usage   12.0  27.333333  28.582682   5.0   9.00  17.5  29.0  93.0\n",
              "gas usage     12.0  50.583333  31.294665   1.0  21.75  58.5  71.0  92.0\n",
              "water usage   12.0  57.000000  26.041924  15.0  40.50  57.5  82.5  86.0"
            ]
          },
          "metadata": {
            "tags": []
          },
          "execution_count": 84
        }
      ]
    },
    {
      "cell_type": "markdown",
      "metadata": {
        "id": "uaj_PRn4aRsZ"
      },
      "source": [
        "Column(열) 선택"
      ]
    },
    {
      "cell_type": "code",
      "metadata": {
        "id": "WimBdDbUVVsE",
        "outputId": "4f6e87a6-478a-48a9-ccda-b0739ac79de0",
        "colab": {
          "base_uri": "https://localhost:8080/",
          "height": 254
        }
      },
      "source": [
        "df['power usage']"
      ],
      "execution_count": null,
      "outputs": [
        {
          "output_type": "execute_result",
          "data": {
            "text/plain": [
              "2020-01-01    35\n",
              "2020-01-02     6\n",
              "2020-01-03    27\n",
              "2020-01-04    17\n",
              "2020-01-05     6\n",
              "2020-01-06    93\n",
              "2020-01-07    10\n",
              "2020-01-08    77\n",
              "2020-01-09    18\n",
              "2020-01-10    13\n",
              "2020-01-11     5\n",
              "2020-01-12    21\n",
              "Freq: D, Name: power usage, dtype: int64"
            ]
          },
          "metadata": {
            "tags": []
          },
          "execution_count": 85
        }
      ]
    },
    {
      "cell_type": "code",
      "metadata": {
        "id": "XR4UP1GSVVmR",
        "outputId": "22f30b2c-93bd-4910-f689-f2a1bb160f36",
        "colab": {
          "base_uri": "https://localhost:8080/",
          "height": 408
        }
      },
      "source": [
        "df[['power usage', 'gas usage']]"
      ],
      "execution_count": null,
      "outputs": [
        {
          "output_type": "execute_result",
          "data": {
            "text/html": [
              "<div>\n",
              "<style scoped>\n",
              "    .dataframe tbody tr th:only-of-type {\n",
              "        vertical-align: middle;\n",
              "    }\n",
              "\n",
              "    .dataframe tbody tr th {\n",
              "        vertical-align: top;\n",
              "    }\n",
              "\n",
              "    .dataframe thead th {\n",
              "        text-align: right;\n",
              "    }\n",
              "</style>\n",
              "<table border=\"1\" class=\"dataframe\">\n",
              "  <thead>\n",
              "    <tr style=\"text-align: right;\">\n",
              "      <th></th>\n",
              "      <th>power usage</th>\n",
              "      <th>gas usage</th>\n",
              "    </tr>\n",
              "  </thead>\n",
              "  <tbody>\n",
              "    <tr>\n",
              "      <th>2020-01-01</th>\n",
              "      <td>35</td>\n",
              "      <td>74</td>\n",
              "    </tr>\n",
              "    <tr>\n",
              "      <th>2020-01-02</th>\n",
              "      <td>6</td>\n",
              "      <td>15</td>\n",
              "    </tr>\n",
              "    <tr>\n",
              "      <th>2020-01-03</th>\n",
              "      <td>27</td>\n",
              "      <td>1</td>\n",
              "    </tr>\n",
              "    <tr>\n",
              "      <th>2020-01-04</th>\n",
              "      <td>17</td>\n",
              "      <td>45</td>\n",
              "    </tr>\n",
              "    <tr>\n",
              "      <th>2020-01-05</th>\n",
              "      <td>6</td>\n",
              "      <td>60</td>\n",
              "    </tr>\n",
              "    <tr>\n",
              "      <th>2020-01-06</th>\n",
              "      <td>93</td>\n",
              "      <td>69</td>\n",
              "    </tr>\n",
              "    <tr>\n",
              "      <th>2020-01-07</th>\n",
              "      <td>10</td>\n",
              "      <td>92</td>\n",
              "    </tr>\n",
              "    <tr>\n",
              "      <th>2020-01-08</th>\n",
              "      <td>77</td>\n",
              "      <td>90</td>\n",
              "    </tr>\n",
              "    <tr>\n",
              "      <th>2020-01-09</th>\n",
              "      <td>18</td>\n",
              "      <td>24</td>\n",
              "    </tr>\n",
              "    <tr>\n",
              "      <th>2020-01-10</th>\n",
              "      <td>13</td>\n",
              "      <td>70</td>\n",
              "    </tr>\n",
              "    <tr>\n",
              "      <th>2020-01-11</th>\n",
              "      <td>5</td>\n",
              "      <td>10</td>\n",
              "    </tr>\n",
              "    <tr>\n",
              "      <th>2020-01-12</th>\n",
              "      <td>21</td>\n",
              "      <td>57</td>\n",
              "    </tr>\n",
              "  </tbody>\n",
              "</table>\n",
              "</div>"
            ],
            "text/plain": [
              "            power usage  gas usage\n",
              "2020-01-01           35         74\n",
              "2020-01-02            6         15\n",
              "2020-01-03           27          1\n",
              "2020-01-04           17         45\n",
              "2020-01-05            6         60\n",
              "2020-01-06           93         69\n",
              "2020-01-07           10         92\n",
              "2020-01-08           77         90\n",
              "2020-01-09           18         24\n",
              "2020-01-10           13         70\n",
              "2020-01-11            5         10\n",
              "2020-01-12           21         57"
            ]
          },
          "metadata": {
            "tags": []
          },
          "execution_count": 86
        }
      ]
    },
    {
      "cell_type": "markdown",
      "metadata": {
        "id": "ld-LPX3haZZC"
      },
      "source": [
        "새 컬럼 생성하기"
      ]
    },
    {
      "cell_type": "code",
      "metadata": {
        "id": "SRuHvJ5AVVYN"
      },
      "source": [
        "df['energy usage'] = df['power usage'] + df['power usage']"
      ],
      "execution_count": null,
      "outputs": []
    },
    {
      "cell_type": "code",
      "metadata": {
        "id": "H6nasertVVRp",
        "outputId": "edbbb05f-f979-44c1-8973-391c5987549b",
        "colab": {
          "base_uri": "https://localhost:8080/",
          "height": 408
        }
      },
      "source": [
        "df"
      ],
      "execution_count": null,
      "outputs": [
        {
          "output_type": "execute_result",
          "data": {
            "text/html": [
              "<div>\n",
              "<style scoped>\n",
              "    .dataframe tbody tr th:only-of-type {\n",
              "        vertical-align: middle;\n",
              "    }\n",
              "\n",
              "    .dataframe tbody tr th {\n",
              "        vertical-align: top;\n",
              "    }\n",
              "\n",
              "    .dataframe thead th {\n",
              "        text-align: right;\n",
              "    }\n",
              "</style>\n",
              "<table border=\"1\" class=\"dataframe\">\n",
              "  <thead>\n",
              "    <tr style=\"text-align: right;\">\n",
              "      <th></th>\n",
              "      <th>power usage</th>\n",
              "      <th>gas usage</th>\n",
              "      <th>water usage</th>\n",
              "      <th>energy usage</th>\n",
              "    </tr>\n",
              "  </thead>\n",
              "  <tbody>\n",
              "    <tr>\n",
              "      <th>2020-01-01</th>\n",
              "      <td>35</td>\n",
              "      <td>74</td>\n",
              "      <td>86</td>\n",
              "      <td>70</td>\n",
              "    </tr>\n",
              "    <tr>\n",
              "      <th>2020-01-02</th>\n",
              "      <td>6</td>\n",
              "      <td>15</td>\n",
              "      <td>84</td>\n",
              "      <td>12</td>\n",
              "    </tr>\n",
              "    <tr>\n",
              "      <th>2020-01-03</th>\n",
              "      <td>27</td>\n",
              "      <td>1</td>\n",
              "      <td>82</td>\n",
              "      <td>54</td>\n",
              "    </tr>\n",
              "    <tr>\n",
              "      <th>2020-01-04</th>\n",
              "      <td>17</td>\n",
              "      <td>45</td>\n",
              "      <td>84</td>\n",
              "      <td>34</td>\n",
              "    </tr>\n",
              "    <tr>\n",
              "      <th>2020-01-05</th>\n",
              "      <td>6</td>\n",
              "      <td>60</td>\n",
              "      <td>44</td>\n",
              "      <td>12</td>\n",
              "    </tr>\n",
              "    <tr>\n",
              "      <th>2020-01-06</th>\n",
              "      <td>93</td>\n",
              "      <td>69</td>\n",
              "      <td>39</td>\n",
              "      <td>186</td>\n",
              "    </tr>\n",
              "    <tr>\n",
              "      <th>2020-01-07</th>\n",
              "      <td>10</td>\n",
              "      <td>92</td>\n",
              "      <td>20</td>\n",
              "      <td>20</td>\n",
              "    </tr>\n",
              "    <tr>\n",
              "      <th>2020-01-08</th>\n",
              "      <td>77</td>\n",
              "      <td>90</td>\n",
              "      <td>44</td>\n",
              "      <td>154</td>\n",
              "    </tr>\n",
              "    <tr>\n",
              "      <th>2020-01-09</th>\n",
              "      <td>18</td>\n",
              "      <td>24</td>\n",
              "      <td>74</td>\n",
              "      <td>36</td>\n",
              "    </tr>\n",
              "    <tr>\n",
              "      <th>2020-01-10</th>\n",
              "      <td>13</td>\n",
              "      <td>70</td>\n",
              "      <td>15</td>\n",
              "      <td>26</td>\n",
              "    </tr>\n",
              "    <tr>\n",
              "      <th>2020-01-11</th>\n",
              "      <td>5</td>\n",
              "      <td>10</td>\n",
              "      <td>71</td>\n",
              "      <td>10</td>\n",
              "    </tr>\n",
              "    <tr>\n",
              "      <th>2020-01-12</th>\n",
              "      <td>21</td>\n",
              "      <td>57</td>\n",
              "      <td>41</td>\n",
              "      <td>42</td>\n",
              "    </tr>\n",
              "  </tbody>\n",
              "</table>\n",
              "</div>"
            ],
            "text/plain": [
              "            power usage  gas usage  water usage  energy usage\n",
              "2020-01-01           35         74           86            70\n",
              "2020-01-02            6         15           84            12\n",
              "2020-01-03           27          1           82            54\n",
              "2020-01-04           17         45           84            34\n",
              "2020-01-05            6         60           44            12\n",
              "2020-01-06           93         69           39           186\n",
              "2020-01-07           10         92           20            20\n",
              "2020-01-08           77         90           44           154\n",
              "2020-01-09           18         24           74            36\n",
              "2020-01-10           13         70           15            26\n",
              "2020-01-11            5         10           71            10\n",
              "2020-01-12           21         57           41            42"
            ]
          },
          "metadata": {
            "tags": []
          },
          "execution_count": 88
        }
      ]
    },
    {
      "cell_type": "markdown",
      "metadata": {
        "id": "NiBruufFajw7"
      },
      "source": [
        "컬럼 삭제하기"
      ]
    },
    {
      "cell_type": "code",
      "metadata": {
        "id": "lsLxNqOHagdE"
      },
      "source": [
        "df = df.drop('energy usage', axis=1)"
      ],
      "execution_count": null,
      "outputs": []
    },
    {
      "cell_type": "markdown",
      "metadata": {
        "id": "qYO5ncvJdTm2"
      },
      "source": [
        "상관 관계 확인"
      ]
    },
    {
      "cell_type": "code",
      "metadata": {
        "id": "XwZ9LX1mdR2R",
        "outputId": "38446285-4cef-49aa-87b0-b3baa67cf09f",
        "colab": {
          "base_uri": "https://localhost:8080/",
          "height": 138
        }
      },
      "source": [
        "df.corr()"
      ],
      "execution_count": null,
      "outputs": [
        {
          "output_type": "execute_result",
          "data": {
            "text/html": [
              "<div>\n",
              "<style scoped>\n",
              "    .dataframe tbody tr th:only-of-type {\n",
              "        vertical-align: middle;\n",
              "    }\n",
              "\n",
              "    .dataframe tbody tr th {\n",
              "        vertical-align: top;\n",
              "    }\n",
              "\n",
              "    .dataframe thead th {\n",
              "        text-align: right;\n",
              "    }\n",
              "</style>\n",
              "<table border=\"1\" class=\"dataframe\">\n",
              "  <thead>\n",
              "    <tr style=\"text-align: right;\">\n",
              "      <th></th>\n",
              "      <th>power usage</th>\n",
              "      <th>gas usage</th>\n",
              "      <th>water usage</th>\n",
              "    </tr>\n",
              "  </thead>\n",
              "  <tbody>\n",
              "    <tr>\n",
              "      <th>power usage</th>\n",
              "      <td>1.000000</td>\n",
              "      <td>0.416356</td>\n",
              "      <td>-0.160971</td>\n",
              "    </tr>\n",
              "    <tr>\n",
              "      <th>gas usage</th>\n",
              "      <td>0.416356</td>\n",
              "      <td>1.000000</td>\n",
              "      <td>-0.681450</td>\n",
              "    </tr>\n",
              "    <tr>\n",
              "      <th>water usage</th>\n",
              "      <td>-0.160971</td>\n",
              "      <td>-0.681450</td>\n",
              "      <td>1.000000</td>\n",
              "    </tr>\n",
              "  </tbody>\n",
              "</table>\n",
              "</div>"
            ],
            "text/plain": [
              "             power usage  gas usage  water usage\n",
              "power usage     1.000000   0.416356    -0.160971\n",
              "gas usage       0.416356   1.000000    -0.681450\n",
              "water usage    -0.160971  -0.681450     1.000000"
            ]
          },
          "metadata": {
            "tags": []
          },
          "execution_count": 103
        }
      ]
    },
    {
      "cell_type": "markdown",
      "metadata": {
        "id": "mqVz56k7fVUW"
      },
      "source": [
        "# 맷플롯립(Matplotlib)\n",
        "파이썬에서 데이터를 차트나 플롯(Plot)으로 그려주는 라이브러리 패키지로서   \n",
        "가장 많이 사용되는 데이타 시각화(Data Visualization) 패키지입니다."
      ]
    },
    {
      "cell_type": "code",
      "metadata": {
        "id": "k2FklGNXdSSc"
      },
      "source": [
        "import numpy as np\n",
        "import matplotlib.pyplot as plt"
      ],
      "execution_count": null,
      "outputs": []
    },
    {
      "cell_type": "markdown",
      "metadata": {
        "id": "WXE_WzS7gycC"
      },
      "source": [
        "그래프 스타일"
      ]
    },
    {
      "cell_type": "code",
      "metadata": {
        "id": "T6VbBLMugvMm",
        "outputId": "40cc5064-108b-4eda-a8b0-f21328265eec",
        "colab": {
          "base_uri": "https://localhost:8080/",
          "height": 269
        }
      },
      "source": [
        "plt.plot([1, 2, 3, 4], [1, 4, 9, 16], 'ro-')\n",
        "plt.axis([0, 6, 0, 20])\n",
        "plt.show()"
      ],
      "execution_count": null,
      "outputs": [
        {
          "output_type": "display_data",
          "data": {
            "image/png": "[encoded data removed]",
            "text/plain": [
              "<Figure size 432x288 with 1 Axes>"
            ]
          },
          "metadata": {
            "tags": [],
            "needs_background": "light"
          }
        }
      ]
    },
    {
      "cell_type": "code",
      "metadata": {
        "id": "vnhe5uqwdSYj",
        "outputId": "de10aa95-9477-4a30-a6ac-6135fe94c44d",
        "colab": {
          "base_uri": "https://localhost:8080/",
          "height": 265
        }
      },
      "source": [
        "plt.plot(df['power usage'], 'ro-', df['gas usage'], 'gs--',  df['water usage'], 'b^-')\n",
        "plt.show()"
      ],
      "execution_count": null,
      "outputs": [
        {
          "output_type": "display_data",
          "data": {
            "image/png": "[encoded data removed]",
            "text/plain": [
              "<Figure size 432x288 with 1 Axes>"
            ]
          },
          "metadata": {
            "tags": [],
            "needs_background": "light"
          }
        }
      ]
    },
    {
      "cell_type": "markdown",
      "metadata": {
        "id": "0gCbOSAchWz5"
      },
      "source": [
        "스캐터 플롯"
      ]
    },
    {
      "cell_type": "code",
      "metadata": {
        "id": "_JsgW5A3dSey",
        "outputId": "ec32b38b-5a88-4c17-cd3c-9400187c6652",
        "colab": {
          "base_uri": "https://localhost:8080/",
          "height": 279
        }
      },
      "source": [
        "data = {'a': np.arange(50),\n",
        "        'c': np.random.randint(0, 50, 50),\n",
        "        'd': np.random.randn(50)}\n",
        "data['b'] = data['a'] + 10 * np.random.randn(50)\n",
        "data['d'] = np.abs(data['d']) * 100\n",
        "\n",
        "plt.scatter('a', 'b', c='c', s='d', data=data)\n",
        "plt.xlabel('entry a')\n",
        "plt.ylabel('entry b')\n",
        "plt.show()\n"
      ],
      "execution_count": null,
      "outputs": [
        {
          "output_type": "display_data",
          "data": {
            "image/png": "[encoded data removed]",
            "text/plain": [
              "<Figure size 432x288 with 1 Axes>"
            ]
          },
          "metadata": {
            "tags": [],
            "needs_background": "light"
          }
        }
      ]
    },
    {
      "cell_type": "markdown",
      "metadata": {
        "id": "3fmm6awrghqn"
      },
      "source": [
        "카테고리 플롯"
      ]
    },
    {
      "cell_type": "code",
      "metadata": {
        "id": "az_DljQ8dSlD",
        "outputId": "c32e5d9b-a36b-489a-ee1e-03b0248ac4a9",
        "colab": {
          "base_uri": "https://localhost:8080/",
          "height": 233
        }
      },
      "source": [
        "|names = ['group_a', 'group_b', 'group_c']\n",
        "values = [1, 10, 100]\n",
        "\n",
        "plt.figure(figsize=(9, 3))\n",
        "plt.subplot(131)\n",
        "plt.bar(names, values)\n",
        "plt.subplot(132)\n",
        "plt.scatter(names, values)\n",
        "plt.subplot(133)\n",
        "plt.plot(names, values)\n",
        "\n",
        "plt.suptitle('Categorical Plotting')\n",
        "plt.show()\n"
      ],
      "execution_count": null,
      "outputs": [
        {
          "output_type": "display_data",
          "data": {
            "image/png": "[encoded data removed]",
            "text/plain": [
              "<Figure size 648x216 with 3 Axes>"
            ]
          },
          "metadata": {
            "tags": [],
            "needs_background": "light"
          }
        }
      ]
    },
    {
      "cell_type": "markdown",
      "metadata": {
        "id": "Jg6NIRIjjssQ"
      },
      "source": [
        "# 씨본(Seaborn) \n",
        "Matplotlib을 기반으로 다양한 색상 테마와  통계용 차트 등의 기능을 추가한 시각화 패키지입니다. \n"
      ]
    },
    {
      "cell_type": "code",
      "metadata": {
        "id": "SN6nOgEYdSrr"
      },
      "source": [
        "import seaborn as sns"
      ],
      "execution_count": null,
      "outputs": []
    },
    {
      "cell_type": "code",
      "metadata": {
        "id": "_XZAur3NdSx3",
        "outputId": "783f95d0-019d-4330-a09a-104ab3b25a35",
        "colab": {
          "base_uri": "https://localhost:8080/",
          "height": 292
        }
      },
      "source": [
        "sns.heatmap(df.corr(), annot=True)"
      ],
      "execution_count": null,
      "outputs": [
        {
          "output_type": "execute_result",
          "data": {
            "text/plain": [
              "<matplotlib.axes._subplots.AxesSubplot at 0x7fb884554470>"
            ]
          },
          "metadata": {
            "tags": []
          },
          "execution_count": 134
        },
        {
          "output_type": "display_data",
          "data": {
            "image/png": "[encoded data removed]",
            "text/plain": [
              "<Figure size 432x288 with 2 Axes>"
            ]
          },
          "metadata": {
            "tags": [],
            "needs_background": "light"
          }
        }
      ]
    },
    {
      "cell_type": "markdown",
      "metadata": {
        "id": "ea1uA8bDkNo1"
      },
      "source": [
        "카운트 플롯"
      ]
    },
    {
      "cell_type": "code",
      "metadata": {
        "id": "qxBlchmeVVF3",
        "outputId": "9ec8111c-2648-4706-ae75-4a6604eacf7d",
        "colab": {
          "base_uri": "https://localhost:8080/",
          "height": 354
        }
      },
      "source": [
        "sns.distplot(df['power usage'])"
      ],
      "execution_count": null,
      "outputs": [
        {
          "output_type": "stream",
          "text": [
            "/usr/local/lib/python3.6/dist-packages/seaborn/distributions.py:2551: FutureWarning: `distplot` is a deprecated function and will be removed in a future version. Please adapt your code to use either `displot` (a figure-level function with similar flexibility) or `histplot` (an axes-level function for histograms).\n",
            "  warnings.warn(msg, FutureWarning)\n"
          ],
          "name": "stderr"
        },
        {
          "output_type": "execute_result",
          "data": {
            "text/plain": [
              "<matplotlib.axes._subplots.AxesSubplot at 0x7fb884b663c8>"
            ]
          },
          "metadata": {
            "tags": []
          },
          "execution_count": 136
        },
        {
          "output_type": "display_data",
          "data": {
            "image/png": "[encoded data removed]",
            "text/plain": [
              "<Figure size 432x288 with 1 Axes>"
            ]
          },
          "metadata": {
            "tags": [],
            "needs_background": "light"
          }
        }
      ]
    },
    {
      "cell_type": "markdown",
      "metadata": {
        "id": "cn0JpiKZdEvR"
      },
      "source": [
        "Count Plot"
      ]
    },
    {
      "cell_type": "markdown",
      "metadata": {
        "id": "hK6gymNaawLL"
      },
      "source": [
        "상관관계 확인"
      ]
    },
    {
      "cell_type": "code",
      "metadata": {
        "id": "py2mnrr6VVLi",
        "outputId": "f5f24e34-34e3-48a9-9c8c-6b4f2f444feb",
        "colab": {
          "base_uri": "https://localhost:8080/",
          "height": 138
        }
      },
      "source": [
        "df.corr()"
      ],
      "execution_count": null,
      "outputs": [
        {
          "output_type": "execute_result",
          "data": {
            "text/html": [
              "<div>\n",
              "<style scoped>\n",
              "    .dataframe tbody tr th:only-of-type {\n",
              "        vertical-align: middle;\n",
              "    }\n",
              "\n",
              "    .dataframe tbody tr th {\n",
              "        vertical-align: top;\n",
              "    }\n",
              "\n",
              "    .dataframe thead th {\n",
              "        text-align: right;\n",
              "    }\n",
              "</style>\n",
              "<table border=\"1\" class=\"dataframe\">\n",
              "  <thead>\n",
              "    <tr style=\"text-align: right;\">\n",
              "      <th></th>\n",
              "      <th>power usage</th>\n",
              "      <th>gas usage</th>\n",
              "      <th>water usage</th>\n",
              "    </tr>\n",
              "  </thead>\n",
              "  <tbody>\n",
              "    <tr>\n",
              "      <th>power usage</th>\n",
              "      <td>1.000000</td>\n",
              "      <td>0.416356</td>\n",
              "      <td>-0.160971</td>\n",
              "    </tr>\n",
              "    <tr>\n",
              "      <th>gas usage</th>\n",
              "      <td>0.416356</td>\n",
              "      <td>1.000000</td>\n",
              "      <td>-0.681450</td>\n",
              "    </tr>\n",
              "    <tr>\n",
              "      <th>water usage</th>\n",
              "      <td>-0.160971</td>\n",
              "      <td>-0.681450</td>\n",
              "      <td>1.000000</td>\n",
              "    </tr>\n",
              "  </tbody>\n",
              "</table>\n",
              "</div>"
            ],
            "text/plain": [
              "             power usage  gas usage  water usage\n",
              "power usage     1.000000   0.416356    -0.160971\n",
              "gas usage       0.416356   1.000000    -0.681450\n",
              "water usage    -0.160971  -0.681450     1.000000"
            ]
          },
          "metadata": {
            "tags": []
          },
          "execution_count": 99
        }
      ]
    },
    {
      "cell_type": "code",
      "metadata": {
        "id": "PujtDPm9a2kh",
        "outputId": "e406d154-c825-4d2a-c7e9-ef5b4e804289",
        "colab": {
          "base_uri": "https://localhost:8080/",
          "height": 292
        }
      },
      "source": [
        "import seaborn as sns\n",
        "sns.heatmap(df.corr())"
      ],
      "execution_count": null,
      "outputs": [
        {
          "output_type": "execute_result",
          "data": {
            "text/plain": [
              "<matplotlib.axes._subplots.AxesSubplot at 0x7fb885043278>"
            ]
          },
          "metadata": {
            "tags": []
          },
          "execution_count": 100
        },
        {
          "output_type": "display_data",
          "data": {
            "image/png": "[encoded data removed]",
            "text/plain": [
              "<Figure size 432x288 with 2 Axes>"
            ]
          },
          "metadata": {
            "tags": [],
            "needs_background": "light"
          }
        }
      ]
    },
    {
      "cell_type": "markdown",
      "metadata": {
        "id": "fOyaM0o4Ur7a"
      },
      "source": [
        "# 5.전력사용량 분석"
      ]
    },
    {
      "cell_type": "code",
      "metadata": {
        "id": "eBJpzMQKnsH4",
        "outputId": "2d66aa4b-fbca-476b-bce6-08d3dd93a79b",
        "colab": {
          "base_uri": "https://localhost:8080/",
          "height": 227
        }
      },
      "source": [
        "import pandas as pd\n",
        "import matplotlib.pyplot as plt\n",
        "\n",
        "# df = pd.read_csv('data.csv')  \n",
        "df = pd.read_csv('https://raw.githubusercontent.com/kgpark88/ems/master/data.csv')\n",
        "df.plot(title='POWER USAGE',  figsize=(10, 3), ylim=(0,2000) )\n",
        "plt.show()"
      ],
      "execution_count": null,
      "outputs": [
        {
          "output_type": "display_data",
          "data": {
            "image/png": "[encoded data removed]",
            "text/plain": [
              "<Figure size 720x216 with 1 Axes>"
            ]
          },
          "metadata": {
            "tags": [],
            "needs_background": "light"
          }
        }
      ]
    },
    {
      "cell_type": "markdown",
      "metadata": {
        "id": "IcEN1WyypN5O"
      },
      "source": [
        "# 6. 선형회귀  \n",
        "종속 변수 y와 한 개 이상의 독립 변수 X와의 선형 상관 관계를 모델링 하는 회귀분석 기법"
      ]
    },
    {
      "cell_type": "code",
      "metadata": {
        "id": "08um8dWdpTHK",
        "outputId": "eadd890c-eaf8-44eb-de74-92dbf7f8d1c9",
        "colab": {
          "base_uri": "https://localhost:8080/",
          "height": 370
        }
      },
      "source": [
        "import numpy as np\n",
        "from scipy import stats\n",
        "import matplotlib.pyplot as plt\n",
        "\n",
        "# 생산량\n",
        "output = [110, 125, 140, 145, 160, 166, 179, 190, 200, 215, 230, 250]\n",
        "# 전력사용량\n",
        "power_usage = [98, 115, 120, 136, 140, 156, 160, 177, 185, 195, 210, 225]\n",
        "# p-value   : 유의 확률, 일반적으로 0.05 미만일 때 유의미\n",
        "slope, intercept, r_value, p_value, stderr = stats.linregress(output, power_usage)\n",
        "\n",
        "# 생산량 134개일 때 전기사용량 예측\n",
        "product = 134\n",
        "print(\"기울기(slope) : \", slope)\n",
        "print(\"절편(intercept) : \", intercept)\n",
        "print(\"상관계수(r_value) : \", r_value)\n",
        "print(\"유의확률(p_value) : \", p_value )\n",
        "print(\"{}개 => 예측량 {}kWh\".format(\n",
        "    product, product*slope + intercept))\n",
        "\n",
        "plt.scatter(output, power_usage) \n",
        "x = np.arange(0, 300)\n",
        "y = [(slope*num + intercept) for num in x]\n",
        "plt.plot(x, y, 'b', lw=1) \n",
        "plt.xlabel(\"Output(EA)\")\n",
        "plt.ylabel(\"Power Usage(kWh)\")\n",
        "plt.show()"
      ],
      "execution_count": null,
      "outputs": [
        {
          "output_type": "stream",
          "text": [
            "기울기(slope) :  0.9200457304535211\n",
            "절편(intercept) :  -2.024707604744151\n",
            "상관계수(r_value) :  0.9950415352828844\n",
            "유의확률(p_value) :  2.3409613797567155e-11\n",
            "134개 => 예측량 121.26142027602768kWh\n"
          ],
          "name": "stdout"
        },
        {
          "output_type": "display_data",
          "data": {
            "image/png": "[encoded data removed]",
            "text/plain": [
              "<Figure size 432x288 with 1 Axes>"
            ]
          },
          "metadata": {
            "tags": [],
            "needs_background": "light"
          }
        }
      ]
    },
    {
      "cell_type": "markdown",
      "metadata": {
        "id": "6IpzXD8BvhAu"
      },
      "source": [
        "# 7. 에너지 가격 분석 \n",
        "https://www.eia.gov/opendata/   \n",
        "① 라이브러리 설치 : !pip install EIA-python  \n",
        "② Email 주소를 입력하고 API 신청  \n",
        "③ Email로 받은 API키를 프로그램 소스코드에 추가  \n"
      ]
    },
    {
      "cell_type": "code",
      "metadata": {
        "id": "LgrnBWqtvswd",
        "outputId": "482ade5f-3c2a-431b-e9a9-286bd1864ec7",
        "colab": {
          "base_uri": "https://localhost:8080/",
          "height": 110
        }
      },
      "source": [
        "!pip install EIA-python"
      ],
      "execution_count": null,
      "outputs": [
        {
          "output_type": "stream",
          "text": [
            "Collecting EIA-python\n",
            "  Downloading https://files.pythonhosted.org/packages/74/c1/ba89314c91fc42126a30080c04b680ae7a5115b98729511d1807d9f0fb27/eia_python-1.22-py3-none-any.whl\n",
            "Installing collected packages: EIA-python\n",
            "Successfully installed EIA-python-1.22\n"
          ],
          "name": "stdout"
        }
      ]
    },
    {
      "cell_type": "code",
      "metadata": {
        "id": "lIGNN5TZv7u0",
        "outputId": "b626f0ac-bc47-456a-839e-7b8d83faff79",
        "colab": {
          "base_uri": "https://localhost:8080/",
          "height": 74
        }
      },
      "source": [
        "import eia\n",
        "import pandas as pd\n",
        "import matplotlib.pyplot as plt\n",
        "from statsmodels.tsa.seasonal import seasonal_decompose\n",
        "from matplotlib import pyplot\n",
        "from statsmodels.tsa.vector_ar.var_model import VAR\n",
        "from statsmodels.tsa.stattools import adfuller\n",
        "import numpy as np\n",
        "from sklearn.metrics import mean_squared_error, mean_absolute_error\n",
        "from math import sqrt"
      ],
      "execution_count": null,
      "outputs": [
        {
          "output_type": "stream",
          "text": [
            "/usr/local/lib/python3.6/dist-packages/statsmodels/tools/_testing.py:19: FutureWarning: pandas.util.testing is deprecated. Use the functions in the public API at pandas.testing instead.\n",
            "  import pandas.util.testing as tm\n"
          ],
          "name": "stderr"
        }
      ]
    },
    {
      "cell_type": "code",
      "metadata": {
        "id": "kG8bq_Ivv-t4"
      },
      "source": [
        "def retrieve_time_series(api, series_ID):\n",
        "    \"\"\"\n",
        "    Return the time series dataframe, based on API and unique Series ID\n",
        "    api: API that we're connected to\n",
        "    series_ID: string. Name of the series that we want to pull from the EIA API\n",
        "    \"\"\"\n",
        "    #Retrieve Data By Series ID \n",
        "    series_search = api.data_by_series(series=series_ID)\n",
        "    ##Create a pandas dataframe from the retrieved time series\n",
        "    df = pd.DataFrame(series_search)\n",
        "    return df"
      ],
      "execution_count": null,
      "outputs": []
    },
    {
      "cell_type": "code",
      "metadata": {
        "id": "7laAQuKbwAyZ"
      },
      "source": [
        "def decompose_time_series(series):\n",
        "    \"\"\"\n",
        "    Decompose a time series and plot it in the console\n",
        "    Arguments: \n",
        "        series: series. Time series that we want to decompose\n",
        "    Outputs: \n",
        "        Decomposition plot in the console\n",
        "    \"\"\"\n",
        "    result = seasonal_decompose(series, model='additive')\n",
        "    result.plot()\n",
        "    pyplot.show()"
      ],
      "execution_count": null,
      "outputs": []
    },
    {
      "cell_type": "code",
      "metadata": {
        "id": "LqEPaMyxwDBs"
      },
      "source": [
        "def augmented_dickey_fuller_statistics(time_series):\n",
        "    \"\"\"\n",
        "    Run the augmented Dickey-Fuller test on a time series\n",
        "    to determine if it's stationary.\n",
        "    Arguments: \n",
        "        time_series: series. Time series that we want to test \n",
        "    Outputs: \n",
        "        Test statistics for the Augmented Dickey Fuller test in \n",
        "        the console \n",
        "    \"\"\"\n",
        "    result = adfuller(time_series.values)\n",
        "    print('ADF Statistic: %f' % result[0])\n",
        "    print('p-value: %f' % result[1])\n",
        "    print('Critical Values:')\n",
        "    for key, value in result[4].items():\n",
        "        print('\\t%s: %.3f' % (key, value)) "
      ],
      "execution_count": null,
      "outputs": []
    },
    {
      "cell_type": "code",
      "metadata": {
        "id": "TnPIQC-OwFXm"
      },
      "source": [
        "def calculate_model_accuracy_metrics(actual, predicted):\n",
        "    \"\"\"\n",
        "    Output model accuracy metrics, comparing predicted values\n",
        "    to actual values.\n",
        "    Arguments:\n",
        "        actual: list. Time series of actual values.\n",
        "        predicted: list. Time series of predicted values\n",
        "    Outputs:\n",
        "        Forecast bias metrics, mean absolute error, mean squared error,\n",
        "        and root mean squared error in the console\n",
        "    \"\"\"\n",
        "    #Calculate forecast bias\n",
        "    forecast_errors = [actual[i]-predicted[i] for i in range(len(actual))]\n",
        "    bias = sum(forecast_errors) * 1.0/len(actual)\n",
        "    print('Bias: %f' % bias)\n",
        "    #Calculate mean absolute error\n",
        "    mae = mean_absolute_error(actual, predicted)\n",
        "    print('MAE: %f' % mae)\n",
        "    #Calculate mean squared error and root mean squared error\n",
        "    mse = mean_squared_error(actual, predicted)\n",
        "    print('MSE: %f' % mse)\n",
        "    rmse = sqrt(mse)\n",
        "    print('RMSE: %f' % rmse)\n"
      ],
      "execution_count": null,
      "outputs": []
    },
    {
      "cell_type": "code",
      "metadata": {
        "id": "ie_aiSolwRM4",
        "outputId": "044a7335-1f62-4724-fdb2-105bd769915c",
        "colab": {
          "base_uri": "https://localhost:8080/",
          "height": 1000
        }
      },
      "source": [
        "#Create EIA API using your specific API key\n",
        "# EIA 사이트 : https://www.eia.gov/opendata/register.php\n",
        "# api_key = \"EIA 사이트에서 발급받은 API KEY 입력\"\n",
        "\n",
        "api_key = \"02a398e7c828a016cabba6999838132d\"\n",
        "api = eia.API(api_key)\n",
        "\n",
        "#Pull the electricity price data\n",
        "series_ID='ELEC.PRICE.TX-ALL.M'\n",
        "electricity_df=retrieve_time_series(api, series_ID)\n",
        "electricity_df.reset_index(level=0, inplace=True)\n",
        "#Rename the columns for easer analysis\n",
        "electricity_df.rename(columns={'index':'Date',\n",
        "        electricity_df.columns[1]:'Electricity_Price'}, \n",
        "        inplace=True)\n",
        "#Convert the Date column into a date object\n",
        "electricity_df['Date']=pd.to_datetime(electricity_df['Date'])\n",
        "#Set Date as a Pandas DatetimeIndex\n",
        "electricity_df.index=pd.DatetimeIndex(electricity_df['Date'])\n",
        "#Decompose the time series into parts\n",
        "decompose_time_series(electricity_df['Electricity_Price'])\n",
        "\n",
        "#Pull in natural gas time series data\n",
        "series_ID='NG.N3035TX3.M'\n",
        "nat_gas_df=retrieve_time_series(api, series_ID)\n",
        "nat_gas_df.reset_index(level=0, inplace=True)\n",
        "#Rename the columns\n",
        "nat_gas_df.rename(columns={'index':'Date',\n",
        "        nat_gas_df.columns[1]:'Nat_Gas_Price_MCF'}, \n",
        "        inplace=True)\n",
        "#Convert the Date column into a date object\n",
        "nat_gas_df['Date']=pd.to_datetime(nat_gas_df['Date'])\n",
        "#Set Date as a Pandas DatetimeIndex\n",
        "nat_gas_df.index=pd.DatetimeIndex(nat_gas_df['Date'])\n",
        "#Decompose the time series into parts\n",
        "decompose_time_series(nat_gas_df['Nat_Gas_Price_MCF'])\n",
        "\n",
        "#Merge the two time series together based on Date Index\n",
        "master_df=pd.merge(electricity_df['Electricity_Price'], nat_gas_df['Nat_Gas_Price_MCF'], \n",
        "                   left_index=True, right_index=True)\n",
        "master_df.reset_index(level=0, inplace=True)\n",
        "\n",
        "#Plot the two variables in the same plot\n",
        "plt.plot(master_df['Date'], \n",
        "         master_df['Electricity_Price'], label=\"Electricity_Price\")\n",
        "plt.plot(master_df['Date'], \n",
        "         master_df['Nat_Gas_Price_MCF'], label=\"Nat_Gas_Price\")\n",
        "# Place a legend to the right of this smaller subplot.\n",
        "plt.legend(bbox_to_anchor=(1.05, 1), loc=2, borderaxespad=0.)\n",
        "plt.title('Natural Gas Price vs. TX Electricity Price over Time')\n",
        "plt.show()\n",
        "\n",
        "#Transform the columns using natural log\n",
        "master_df['Electricity_Price_Transformed']=np.log(master_df['Electricity_Price'])\n",
        "master_df['Nat_Gas_Price_MCF_Transformed']=np.log(master_df['Nat_Gas_Price_MCF'])\n",
        "\n",
        "#In order to make the time series stationary, difference the data by 1 month\n",
        "n=1\n",
        "master_df['Electricity_Price_Transformed_Differenced'] = master_df['Electricity_Price_Transformed'] - master_df['Electricity_Price_Transformed'].shift(n)\n",
        "master_df['Nat_Gas_Price_MCF_Transformed_Differenced'] = master_df['Nat_Gas_Price_MCF_Transformed'] - master_df['Nat_Gas_Price_MCF_Transformed'].shift(n)\n",
        "\n",
        "#Run each differenced time series thru the Augmented Dickey Fuller test\n",
        "print('Augmented Dickey-Fuller Test: Electricity Price Time Series')\n",
        "augmented_dickey_fuller_statistics(master_df['Electricity_Price_Transformed_Differenced'].dropna())\n",
        "print('Augmented Dickey-Fuller Test: Natural Gas Price Time Series')\n",
        "augmented_dickey_fuller_statistics(master_df['Nat_Gas_Price_MCF_Transformed_Differenced'].dropna())\n",
        "\n",
        "#Conver the dataframe to a numpy array\n",
        "master_array=np.array(master_df[['Electricity_Price_Transformed_Differenced', \n",
        "                                 'Nat_Gas_Price_MCF_Transformed_Differenced']].dropna())\n",
        "\n",
        "#Generate a training and test set for building the model: 95/5 split\n",
        "training_set = master_array[:int(0.95*(len(master_array)))]\n",
        "test_set = master_array[int(0.95*(len(master_array))):]\n",
        "\n",
        "#Fit to a VAR model\n",
        "model = VAR(endog=training_set)\n",
        "model_fit = model.fit()\n",
        "#Print a summary of the model results\n",
        "model_fit.summary()\n",
        "\n",
        "#Compare the forecasted results to the real data \n",
        "prediction = model_fit.forecast(model_fit.y, steps=len(test_set))\n",
        "\n",
        "#Merge the array data back into the master dataframe, and un-difference and back-transform\n",
        "data_with_predictions=pd.DataFrame(np.vstack((training_set, \n",
        "                                    prediction))).rename(columns={0:'Electricity_Price_Transformed_Differenced_PostProcess',\n",
        "                                                                  1:'Nat_Gas_Price_MCF_Transformed_Differenced_PostProcess'})\n",
        "#Define which data is predicted and which isn't in the 'Predicted' column\n",
        "data_with_predictions.loc[:,'Predicted']=1\n",
        "data_with_predictions.loc[(data_with_predictions.index>=0) & \n",
        "                                 (data_with_predictions.index<=(len(training_set)-1)),'Predicted']=0\n",
        "\n",
        "#Add a row of NaN at the begining of the df\n",
        "data_with_predictions.loc[-1] = [None, None, None]  # adding a row\n",
        "data_with_predictions.index = data_with_predictions.index + 1  # shifting index\n",
        "data_with_predictions.sort_index(inplace=True) \n",
        "#Add back into the original dataframe\n",
        "master_df.loc[:,'Electricity_Price_Transformed_Differenced_PostProcess'] = data_with_predictions['Electricity_Price_Transformed_Differenced_PostProcess']\n",
        "master_df.loc[:,'Predicted'] = data_with_predictions['Predicted']\n",
        "    \n",
        "#Un-difference the data\n",
        "for i in range(1,len(master_df.index)-1):\n",
        "    master_df.at[i,'Electricity_Price_Transformed']= master_df.at[i-1,'Electricity_Price_Transformed']+master_df.at[i,'Electricity_Price_Transformed_Differenced_PostProcess']\n",
        "\n",
        "#Back-transform the data\n",
        "master_df.loc[:,'Predicted_Electricity_Price']=np.exp(master_df['Electricity_Price_Transformed'])\n",
        "\n",
        "#Compare the forecasted data to the real data\n",
        "print(master_df[master_df['Predicted']==1][['Date','Electricity_Price', 'Predicted_Electricity_Price']])\n",
        "\n",
        "#Evaluate the accuracy of the results, pre un-differencing and back-transformation\n",
        "calculate_model_accuracy_metrics(list(master_df[master_df['Predicted']==1]['Electricity_Price']), \n",
        "                                list(master_df[master_df['Predicted']==1]['Predicted_Electricity_Price']))\n"
      ],
      "execution_count": null,
      "outputs": [
        {
          "output_type": "display_data",
          "data": {
            "image/png": "[encoded data removed]",
            "text/plain": [
              "<Figure size 432x288 with 4 Axes>"
            ]
          },
          "metadata": {
            "tags": [],
            "needs_background": "light"
          }
        },
        {
          "output_type": "display_data",
          "data": {
            "image/png": "[encoded data removed]",
            "text/plain": [
              "<Figure size 432x288 with 4 Axes>"
            ]
          },
          "metadata": {
            "tags": [],
            "needs_background": "light"
          }
        },
        {
          "output_type": "display_data",
          "data": {
            "image/png": "[encoded data removed]",
            "text/plain": [
              "<Figure size 432x288 with 1 Axes>"
            ]
          },
          "metadata": {
            "tags": [],
            "needs_background": "light"
          }
        },
        {
          "output_type": "stream",
          "text": [
            "Augmented Dickey-Fuller Test: Electricity Price Time Series\n",
            "ADF Statistic: -4.369254\n",
            "p-value: 0.000336\n",
            "Critical Values:\n",
            "\t1%: -3.461\n",
            "\t5%: -2.875\n",
            "\t10%: -2.574\n",
            "Augmented Dickey-Fuller Test: Natural Gas Price Time Series\n",
            "ADF Statistic: -7.101385\n",
            "p-value: 0.000000\n",
            "Critical Values:\n",
            "\t1%: -3.460\n",
            "\t5%: -2.874\n",
            "\t10%: -2.574\n",
            "          Date  Electricity_Price  Predicted_Electricity_Price\n",
            "223 2019-08-01               9.67                     8.901670\n",
            "224 2019-09-01               9.37                     8.913260\n",
            "225 2019-10-01               8.88                     8.924307\n",
            "226 2019-11-01               8.54                     8.935338\n",
            "227 2019-12-01               8.48                     8.946381\n",
            "228 2020-01-01               8.39                     8.957438\n",
            "229 2020-02-01               8.57                     8.968509\n",
            "230 2020-03-01               8.41                     8.979593\n",
            "231 2020-04-01               8.47                     8.990691\n",
            "232 2020-05-01               8.42                     9.001803\n",
            "233 2020-06-01               8.79                     9.012928\n",
            "234 2020-07-01               8.82                     8.820000\n",
            "Bias: -0.211826\n",
            "MAE: 0.416005\n",
            "MSE: 0.219938\n",
            "RMSE: 0.468975\n"
          ],
          "name": "stdout"
        },
        {
          "output_type": "stream",
          "text": [
            "/usr/local/lib/python3.6/dist-packages/statsmodels/base/wrapper.py:35: FutureWarning: y is a deprecated alias for endog, will be removed in version 0.11.0\n",
            "  obj = getattr(results, attr)\n"
          ],
          "name": "stderr"
        }
      ]
    }
  ]
}