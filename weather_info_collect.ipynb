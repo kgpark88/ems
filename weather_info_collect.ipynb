{
  "nbformat": 4,
  "nbformat_minor": 0,
  "metadata": {
    "colab": {
      "name": "weather_info_collect.ipynb",
      "provenance": [],
      "collapsed_sections": [],
      "toc_visible": true,
      "include_colab_link": true
    },
    "kernelspec": {
      "name": "python3",
      "display_name": "Python 3"
    }
  },
  "cells": [
    {
      "cell_type": "markdown",
      "metadata": {
        "id": "view-in-github",
        "colab_type": "text"
      },
      "source": [
        "<a href=\"https://colab.research.google.com/github/kgpark88/ems/blob/master/weather_info_collect.ipynb\" target=\"_parent\"><img src=\"https://colab.research.google.com/assets/colab-badge.svg\" alt=\"Open In Colab\"/></a>"
      ]
    },
    {
      "cell_type": "markdown",
      "metadata": {
        "id": "49sno4m8lpmx"
      },
      "source": [
        "# 기상예보 데이터 수집"
      ]
    },
    {
      "cell_type": "markdown",
      "metadata": {
        "id": "c43cY1Mvl9if"
      },
      "source": [
        "## 1. 동네예보 데이터 수집"
      ]
    },
    {
      "cell_type": "markdown",
      "metadata": {
        "id": "IYYl34Pomgfe"
      },
      "source": [
        "라이브러리 임포트"
      ]
    },
    {
      "cell_type": "code",
      "metadata": {
        "id": "9Q3J7h6Iljbx"
      },
      "source": [
        "from urllib.request import urlopen\n",
        "from bs4 import BeautifulSoup"
      ],
      "execution_count": 1,
      "outputs": []
    },
    {
      "cell_type": "markdown",
      "metadata": {
        "id": "j4CalkxxmpEe"
      },
      "source": [
        "동네 코드 정의"
      ]
    },
    {
      "cell_type": "code",
      "metadata": {
        "id": "HhnUUYjqloxZ",
        "outputId": "eb2092cc-c45c-4ffe-e8d5-7f8e37c47004",
        "colab": {
          "base_uri": "https://localhost:8080/",
          "height": 36
        }
      },
      "source": [
        "data_code = \"1171056100\"\n",
        "data_name = \"서울특별시 송파구 방이1동\"\n",
        "print(data_name)"
      ],
      "execution_count": 2,
      "outputs": [
        {
          "output_type": "stream",
          "text": [
            "서울특별시 송파구 방이1동\n"
          ],
          "name": "stdout"
        }
      ]
    },
    {
      "cell_type": "markdown",
      "metadata": {
        "id": "U2we7V8xFKcK"
      },
      "source": [
        "데이터 수집 소스"
      ]
    },
    {
      "cell_type": "code",
      "metadata": {
        "id": "SuXZQe3kOCCr",
        "outputId": "261eef19-f718-4351-8fe8-0bc2ae15aa38",
        "colab": {
          "base_uri": "https://localhost:8080/",
          "height": 36
        }
      },
      "source": [
        "japi = \"http://www.kma.go.kr/wid/queryDFSRSS.jsp?zone=\" + data_code\n",
        "print(\"데이터 소스 :\", japi)"
      ],
      "execution_count": 3,
      "outputs": [
        {
          "output_type": "stream",
          "text": [
            "데이터 소스 : http://www.kma.go.kr/wid/queryDFSRSS.jsp?zone=1171056100\n"
          ],
          "name": "stdout"
        }
      ]
    },
    {
      "cell_type": "code",
      "metadata": {
        "id": "9zB0wwOIRpfv"
      },
      "source": [
        "response = urlopen(japi)\n",
        "weather = BeautifulSoup(response, \"html.parser\")"
      ],
      "execution_count": 5,
      "outputs": []
    },
    {
      "cell_type": "markdown",
      "metadata": {
        "id": "MH_vs7j_nGlj"
      },
      "source": [
        "데이터 수집"
      ]
    },
    {
      "cell_type": "code",
      "metadata": {
        "id": "QBam-CXbniQz",
        "outputId": "93301ffd-0ea4-4c6e-e3ae-01a5a3e57b22",
        "colab": {
          "base_uri": "https://localhost:8080/",
          "height": 428
        }
      },
      "source": [
        "for data in weather.findAll('data'):\n",
        "    hour = data.hour.string\n",
        "    temp = data.temp.string\n",
        "    reh = data.reh.string\n",
        "    print(\"시간: %02s, 온도: %04s, 습도: %02s\" % (hour, temp, reh ))"
      ],
      "execution_count": 6,
      "outputs": [
        {
          "output_type": "stream",
          "text": [
            "시간:  9, 온도: 10.0, 습도: 45\n",
            "시간: 12, 온도: 14.0, 습도: 30\n",
            "시간: 15, 온도: 17.0, 습도: 25\n",
            "시간: 18, 온도: 16.0, 습도: 40\n",
            "시간: 21, 온도: 14.0, 습도: 50\n",
            "시간: 24, 온도: 12.0, 습도: 55\n",
            "시간:  3, 온도: 11.0, 습도: 70\n",
            "시간:  6, 온도: 10.0, 습도: 70\n",
            "시간:  9, 온도: 13.0, 습도: 60\n",
            "시간: 12, 온도: 17.0, 습도: 50\n",
            "시간: 15, 온도: 18.0, 습도: 50\n",
            "시간: 18, 온도: 16.0, 습도: 65\n",
            "시간: 21, 온도: 14.0, 습도: 75\n",
            "시간: 24, 온도: 13.0, 습도: 80\n",
            "시간:  3, 온도: 12.0, 습도: 85\n",
            "시간:  6, 온도: 11.0, 습도: 90\n",
            "시간:  9, 온도: 13.0, 습도: 75\n",
            "시간: 12, 온도: 17.0, 습도: 50\n",
            "시간: 15, 온도: 19.0, 습도: 35\n",
            "시간: 18, 온도: 17.0, 습도: 50\n",
            "시간: 21, 온도: 14.0, 습도: 65\n",
            "시간: 24, 온도: 12.0, 습도: 70\n"
          ],
          "name": "stdout"
        }
      ]
    },
    {
      "cell_type": "markdown",
      "metadata": {
        "id": "IcEN1WyypN5O"
      },
      "source": [
        "# 2. 동네예보 데이터 수집(오픈 API 사용)"
      ]
    },
    {
      "cell_type": "code",
      "metadata": {
        "id": "08um8dWdpTHK"
      },
      "source": [
        "import requests\n",
        "from datetime import date, datetime"
      ],
      "execution_count": 7,
      "outputs": []
    },
    {
      "cell_type": "code",
      "metadata": {
        "id": "Jm1LWiPaHHNV",
        "outputId": "b1d3d8d6-092a-4271-842f-671c0aec852f",
        "colab": {
          "base_uri": "https://localhost:8080/",
          "height": 36
        }
      },
      "source": [
        "sky_code = ['맑음', '구름조금', '구름많음', '흐림']\n",
        "today = date.today()\n",
        "today_str = today.strftime('%Y%m%d') \n",
        "print('오늘날짜: ', today_str)"
      ],
      "execution_count": 8,
      "outputs": [
        {
          "output_type": "stream",
          "text": [
            "오늘날짜:  20201014\n"
          ],
          "name": "stdout"
        }
      ]
    },
    {
      "cell_type": "markdown",
      "metadata": {
        "id": "At3-WCAyHPY_"
      },
      "source": [
        "- 동네예보 오픈 API 키 발급 : https://data.go.kr/data/15057682/openapi.do\n",
        "- 신규 발급 API키 승인에 1~2시간 소요\n",
        "- 발급받은 API키로 변경 입력"
      ]
    },
    {
      "cell_type": "code",
      "metadata": {
        "id": "IEw7Inl9HIL9"
      },
      "source": [
        "ServiceKey ='58T8D9mCbvCPR5BywDitFmM8LeQFpwX3jJEMyBOMIKRDAsA5Ck%2FtdKvkjySUwQhGnnCQyuiJiU9K6oImDKRuaA%3D%3D'"
      ],
      "execution_count": 9,
      "outputs": []
    },
    {
      "cell_type": "code",
      "metadata": {
        "id": "f3H2L8GrHCDN"
      },
      "source": [
        "pageNo =1\n",
        "numOfRows = 10\n",
        "dataType ='JSON'\n",
        "base_date = today_str # 발표일 : 20200609\n",
        "base_time ='0800' # 발표시간(1일 8회)\n",
        "nx = 37\n",
        "ny = 127\n",
        "\n",
        "url = 'http://apis.data.go.kr/1360000/VilageFcstInfoService'\n",
        "url += '/getVilageFcst?ServiceKey={}&pageNo={}&numOfRows={}&dataType={}&base_date={}&base_time={}&nx={}&ny={}'.format(ServiceKey, pageNo, numOfRows, dataType, base_date,base_time, nx, ny)\n",
        "\n",
        "resp = requests.get(url)"
      ],
      "execution_count": 10,
      "outputs": []
    },
    {
      "cell_type": "code",
      "metadata": {
        "id": "lmnh3JlzKUfz",
        "outputId": "d1c7823b-2455-4871-f24e-8a453f21f74a",
        "colab": {
          "base_uri": "https://localhost:8080/",
          "height": 36
        }
      },
      "source": [
        "print(resp)"
      ],
      "execution_count": 11,
      "outputs": [
        {
          "output_type": "stream",
          "text": [
            "<Response [200]>\n"
          ],
          "name": "stdout"
        }
      ]
    },
    {
      "cell_type": "code",
      "metadata": {
        "id": "gDws42kuKbl5",
        "outputId": "41d447ff-1f35-4de8-b173-07f4da3a15d0",
        "colab": {
          "base_uri": "https://localhost:8080/",
          "height": 56
        }
      },
      "source": [
        "print(resp.text)"
      ],
      "execution_count": 12,
      "outputs": [
        {
          "output_type": "stream",
          "text": [
            "{\"response\":{\"header\":{\"resultCode\":\"00\",\"resultMsg\":\"NORMAL_SERVICE\"},\"body\":{\"dataType\":\"JSON\",\"items\":{\"item\":[{\"baseDate\":\"20201014\",\"baseTime\":\"0800\",\"category\":\"POP\",\"fcstDate\":\"20201014\",\"fcstTime\":\"1200\",\"fcstValue\":\"20\",\"nx\":37,\"ny\":127},{\"baseDate\":\"20201014\",\"baseTime\":\"0800\",\"category\":\"PTY\",\"fcstDate\":\"20201014\",\"fcstTime\":\"1200\",\"fcstValue\":\"0\",\"nx\":37,\"ny\":127},{\"baseDate\":\"20201014\",\"baseTime\":\"0800\",\"category\":\"R06\",\"fcstDate\":\"20201014\",\"fcstTime\":\"1200\",\"fcstValue\":\"0\",\"nx\":37,\"ny\":127},{\"baseDate\":\"20201014\",\"baseTime\":\"0800\",\"category\":\"REH\",\"fcstDate\":\"20201014\",\"fcstTime\":\"1200\",\"fcstValue\":\"40\",\"nx\":37,\"ny\":127},{\"baseDate\":\"20201014\",\"baseTime\":\"0800\",\"category\":\"S06\",\"fcstDate\":\"20201014\",\"fcstTime\":\"1200\",\"fcstValue\":\"0\",\"nx\":37,\"ny\":127},{\"baseDate\":\"20201014\",\"baseTime\":\"0800\",\"category\":\"SKY\",\"fcstDate\":\"20201014\",\"fcstTime\":\"1200\",\"fcstValue\":\"3\",\"nx\":37,\"ny\":127},{\"baseDate\":\"20201014\",\"baseTime\":\"0800\",\"category\":\"T3H\",\"fcstDate\":\"20201014\",\"fcstTime\":\"1200\",\"fcstValue\":\"13\",\"nx\":37,\"ny\":127},{\"baseDate\":\"20201014\",\"baseTime\":\"0800\",\"category\":\"UUU\",\"fcstDate\":\"20201014\",\"fcstTime\":\"1200\",\"fcstValue\":\"2.7\",\"nx\":37,\"ny\":127},{\"baseDate\":\"20201014\",\"baseTime\":\"0800\",\"category\":\"VEC\",\"fcstDate\":\"20201014\",\"fcstTime\":\"1200\",\"fcstValue\":\"341\",\"nx\":37,\"ny\":127},{\"baseDate\":\"20201014\",\"baseTime\":\"0800\",\"category\":\"VVV\",\"fcstDate\":\"20201014\",\"fcstTime\":\"1200\",\"fcstValue\":\"-7.7\",\"nx\":37,\"ny\":127}]},\"pageNo\":1,\"numOfRows\":10,\"totalCount\":237}}}\n"
          ],
          "name": "stdout"
        }
      ]
    },
    {
      "cell_type": "code",
      "metadata": {
        "id": "i2FIXZThHCTO",
        "outputId": "fbcc1fb4-2fc7-4673-c2a7-2066881642cf",
        "colab": {
          "base_uri": "https://localhost:8080/",
          "height": 36
        }
      },
      "source": [
        "if resp.status_code == 200:\n",
        "    resp_json = resp.json()\n",
        "    response = resp_json['response']\n",
        "    result_msg = response['header']['resultMsg']\n",
        "\n",
        "    if result_msg == 'NORMAL_SERVICE':\n",
        "        body_data = response['body']\n",
        "        for w in body_data['items']['item']:\n",
        "            category = w['category']\n",
        "            if category == 'SKY':\n",
        "                sky = int(w['fcstValue'])\n",
        "            elif category == 'T3H':\n",
        "                temperature = float(w['fcstValue'])\n",
        "            elif category == 'REH':\n",
        "                humidity = float(w['fcstValue'])                \n",
        "        print(\"하늘 : {}, 온도 : {}, 습도 : {}\".format(sky_code[sky-1], temperature, humidity))\n",
        "    else:\n",
        "        print(result_msg)"
      ],
      "execution_count": 13,
      "outputs": [
        {
          "output_type": "stream",
          "text": [
            "하늘 : 구름많음, 온도 : 13.0, 습도 : 40.0\n"
          ],
          "name": "stdout"
        }
      ]
    }
  ]
}