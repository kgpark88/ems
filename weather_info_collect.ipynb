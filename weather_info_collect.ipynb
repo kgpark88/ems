{
  "nbformat": 4,
  "nbformat_minor": 0,
  "metadata": {
    "colab": {
      "name": "weather_info_collect.ipynb",
      "provenance": [],
      "collapsed_sections": [],
      "toc_visible": true
    },
    "kernelspec": {
      "name": "python3",
      "display_name": "Python 3"
    }
  },
  "cells": [
    {
      "cell_type": "markdown",
      "metadata": {
        "id": "49sno4m8lpmx"
      },
      "source": [
        "# 기상예보 데이터 수집"
      ]
    },
    {
      "cell_type": "markdown",
      "metadata": {
        "id": "c43cY1Mvl9if"
      },
      "source": [
        "## 1. 동네예보 데이터 수집"
      ]
    },
    {
      "cell_type": "markdown",
      "metadata": {
        "id": "IYYl34Pomgfe"
      },
      "source": [
        "라이브러리 임포트"
      ]
    },
    {
      "cell_type": "code",
      "metadata": {
        "id": "9Q3J7h6Iljbx"
      },
      "source": [
        "from urllib.request import urlopen\n",
        "from bs4 import BeautifulSoup"
      ],
      "execution_count": 30,
      "outputs": []
    },
    {
      "cell_type": "markdown",
      "metadata": {
        "id": "j4CalkxxmpEe"
      },
      "source": [
        "동네 코드 정의"
      ]
    },
    {
      "cell_type": "code",
      "metadata": {
        "id": "HhnUUYjqloxZ",
        "outputId": "ca430698-984c-4383-8381-a39c34677d46",
        "colab": {
          "base_uri": "https://localhost:8080/",
          "height": 35
        }
      },
      "source": [
        "data_code = \"1171056100\"\n",
        "data_name = \"서울특별시 송파구 방이1동\"\n",
        "print(data_name)"
      ],
      "execution_count": 31,
      "outputs": [
        {
          "output_type": "stream",
          "text": [
            "서울특별시 송파구 방이1동\n"
          ],
          "name": "stdout"
        }
      ]
    },
    {
      "cell_type": "markdown",
      "metadata": {
        "id": "U2we7V8xFKcK"
      },
      "source": [
        "데이터 수집 소스"
      ]
    },
    {
      "cell_type": "code",
      "metadata": {
        "id": "SuXZQe3kOCCr",
        "outputId": "2d5e96e9-c098-4e65-c6de-e9f0b748a420",
        "colab": {
          "base_uri": "https://localhost:8080/",
          "height": 53
        }
      },
      "source": [
        "japi = \"http://www.kma.go.kr/wid/queryDFSRSS.jsp?zone=\" + data_code\n",
        "print(\"데이터 소스 :\", japi)"
      ],
      "execution_count": null,
      "outputs": [
        {
          "output_type": "stream",
          "text": [
            "서울특별시 송파구 방이1동  동네 예보\n",
            "데이터 소스 : http://www.kma.go.kr/wid/queryDFSRSS.jsp?zone=1171056100\n"
          ],
          "name": "stdout"
        }
      ]
    },
    {
      "cell_type": "markdown",
      "metadata": {
        "id": "MH_vs7j_nGlj"
      },
      "source": [
        "데이터 수집"
      ]
    },
    {
      "cell_type": "code",
      "metadata": {
        "id": "QBam-CXbniQz",
        "outputId": "2a9e0c21-2535-44c6-bf21-dc3906be2304",
        "colab": {
          "base_uri": "https://localhost:8080/",
          "height": 359
        }
      },
      "source": [
        "for data in weather.findAll('data'):\n",
        "    hour = data.hour.string\n",
        "    temp = data.temp.string\n",
        "    reh = data.reh.string\n",
        "    print(\"시간: %02s, 온도: %04s, 습도: %02s\" % (hour, temp, reh ))"
      ],
      "execution_count": null,
      "outputs": [
        {
          "output_type": "stream",
          "text": [
            "시간: 18, 온도: 20.0, 습도: 45\n",
            "시간: 21, 온도: 17.0, 습도: 60\n",
            "시간: 24, 온도: 15.0, 습도: 70\n",
            "시간:  3, 온도: 14.0, 습도: 75\n",
            "시간:  6, 온도: 14.0, 습도: 80\n",
            "시간:  9, 온도: 16.0, 습도: 60\n",
            "시간: 12, 온도: 21.0, 습도: 40\n",
            "시간: 15, 온도: 23.0, 습도: 35\n",
            "시간: 18, 온도: 21.0, 습도: 45\n",
            "시간: 21, 온도: 18.0, 습도: 55\n",
            "시간: 24, 온도: 16.0, 습도: 65\n",
            "시간:  3, 온도: 14.0, 습도: 75\n",
            "시간:  6, 온도: 13.0, 습도: 80\n",
            "시간:  9, 온도: 16.0, 습도: 60\n",
            "시간: 12, 온도: 21.0, 습도: 40\n",
            "시간: 15, 온도: 23.0, 습도: 35\n",
            "시간: 18, 온도: 21.0, 습도: 45\n",
            "시간: 21, 온도: 18.0, 습도: 60\n",
            "시간: 24, 온도: 16.0, 습도: 70\n"
          ],
          "name": "stdout"
        }
      ]
    },
    {
      "cell_type": "markdown",
      "metadata": {
        "id": "IcEN1WyypN5O"
      },
      "source": [
        "# 2. 동네예보 데이터 수집(오픈 API 사용)"
      ]
    },
    {
      "cell_type": "code",
      "metadata": {
        "id": "08um8dWdpTHK"
      },
      "source": [
        "import requests\n",
        "from datetime import date, datetime"
      ],
      "execution_count": 32,
      "outputs": []
    },
    {
      "cell_type": "code",
      "metadata": {
        "id": "Jm1LWiPaHHNV",
        "outputId": "60a9eb18-09b5-4d15-ea83-54ad6aa54f9e",
        "colab": {
          "base_uri": "https://localhost:8080/",
          "height": 35
        }
      },
      "source": [
        "sky_code = ['맑음', '구름조금', '구름많음', '흐림']\n",
        "today = date.today()\n",
        "today_str = today.strftime('%Y%m%d') \n",
        "print('오늘날짜: ', today_str)"
      ],
      "execution_count": 33,
      "outputs": [
        {
          "output_type": "stream",
          "text": [
            "오늘날짜:  20201009\n"
          ],
          "name": "stdout"
        }
      ]
    },
    {
      "cell_type": "markdown",
      "metadata": {
        "id": "At3-WCAyHPY_"
      },
      "source": [
        "- 동네예보 오픈 API 키 발급 : https://data.go.kr/data/15057682/openapi.do\n",
        "- 신규 발급 API키 승인에 1~2시간 소요\n",
        "- 발급받은 API키로 변경 입력"
      ]
    },
    {
      "cell_type": "code",
      "metadata": {
        "id": "IEw7Inl9HIL9"
      },
      "source": [
        "ServiceKey ='58T8D9mCbvCPR5BywDitFmM8LeQFpwX3jJEMyBOMIKRDAsA5Ck%2FtdKvkjySUwQhGnnCQyuiJiU9K6oImDKRuaA%3D%3D'"
      ],
      "execution_count": 34,
      "outputs": []
    },
    {
      "cell_type": "code",
      "metadata": {
        "id": "f3H2L8GrHCDN"
      },
      "source": [
        "pageNo =1\n",
        "numOfRows = 10\n",
        "dataType ='JSON'\n",
        "base_date = today_str # 발표일 : 20200609\n",
        "base_time ='0800' # 발표시간(1일 8회)\n",
        "nx = 37\n",
        "ny = 127\n",
        "\n",
        "url = 'http://apis.data.go.kr/1360000/VilageFcstInfoService'\n",
        "url += '/getVilageFcst?ServiceKey={}&pageNo={}&numOfRows={}&dataType={}&base_date={}&base_time={}&nx={}&ny={}'.format(ServiceKey, pageNo, numOfRows, dataType, base_date,base_time, nx, ny)\n",
        "\n",
        "resp = requests.get(url)"
      ],
      "execution_count": 35,
      "outputs": []
    },
    {
      "cell_type": "code",
      "metadata": {
        "id": "lmnh3JlzKUfz",
        "outputId": "78691fd1-9b90-4436-8de1-dd0905acd1b1",
        "colab": {
          "base_uri": "https://localhost:8080/",
          "height": 35
        }
      },
      "source": [
        "print(resp)"
      ],
      "execution_count": 36,
      "outputs": [
        {
          "output_type": "stream",
          "text": [
            "<Response [200]>\n"
          ],
          "name": "stdout"
        }
      ]
    },
    {
      "cell_type": "code",
      "metadata": {
        "id": "gDws42kuKbl5",
        "outputId": "aae17fdb-fd94-4a1b-b4bb-d22c37aedf8b",
        "colab": {
          "base_uri": "https://localhost:8080/",
          "height": 55
        }
      },
      "source": [
        "print(resp.text)"
      ],
      "execution_count": 37,
      "outputs": [
        {
          "output_type": "stream",
          "text": [
            "{\"response\":{\"header\":{\"resultCode\":\"00\",\"resultMsg\":\"NORMAL_SERVICE\"},\"body\":{\"dataType\":\"JSON\",\"items\":{\"item\":[{\"baseDate\":\"20201009\",\"baseTime\":\"0800\",\"category\":\"POP\",\"fcstDate\":\"20201009\",\"fcstTime\":\"1200\",\"fcstValue\":\"20\",\"nx\":37,\"ny\":127},{\"baseDate\":\"20201009\",\"baseTime\":\"0800\",\"category\":\"PTY\",\"fcstDate\":\"20201009\",\"fcstTime\":\"1200\",\"fcstValue\":\"0\",\"nx\":37,\"ny\":127},{\"baseDate\":\"20201009\",\"baseTime\":\"0800\",\"category\":\"R06\",\"fcstDate\":\"20201009\",\"fcstTime\":\"1200\",\"fcstValue\":\"0\",\"nx\":37,\"ny\":127},{\"baseDate\":\"20201009\",\"baseTime\":\"0800\",\"category\":\"REH\",\"fcstDate\":\"20201009\",\"fcstTime\":\"1200\",\"fcstValue\":\"65\",\"nx\":37,\"ny\":127},{\"baseDate\":\"20201009\",\"baseTime\":\"0800\",\"category\":\"S06\",\"fcstDate\":\"20201009\",\"fcstTime\":\"1200\",\"fcstValue\":\"0\",\"nx\":37,\"ny\":127},{\"baseDate\":\"20201009\",\"baseTime\":\"0800\",\"category\":\"SKY\",\"fcstDate\":\"20201009\",\"fcstTime\":\"1200\",\"fcstValue\":\"3\",\"nx\":37,\"ny\":127},{\"baseDate\":\"20201009\",\"baseTime\":\"0800\",\"category\":\"T3H\",\"fcstDate\":\"20201009\",\"fcstTime\":\"1200\",\"fcstValue\":\"17\",\"nx\":37,\"ny\":127},{\"baseDate\":\"20201009\",\"baseTime\":\"0800\",\"category\":\"UUU\",\"fcstDate\":\"20201009\",\"fcstTime\":\"1200\",\"fcstValue\":\"-5.9\",\"nx\":37,\"ny\":127},{\"baseDate\":\"20201009\",\"baseTime\":\"0800\",\"category\":\"VEC\",\"fcstDate\":\"20201009\",\"fcstTime\":\"1200\",\"fcstValue\":\"84\",\"nx\":37,\"ny\":127},{\"baseDate\":\"20201009\",\"baseTime\":\"0800\",\"category\":\"VVV\",\"fcstDate\":\"20201009\",\"fcstTime\":\"1200\",\"fcstValue\":\"-0.6\",\"nx\":37,\"ny\":127}]},\"pageNo\":1,\"numOfRows\":10,\"totalCount\":237}}}\n"
          ],
          "name": "stdout"
        }
      ]
    },
    {
      "cell_type": "code",
      "metadata": {
        "id": "i2FIXZThHCTO",
        "outputId": "07a9fb3b-a061-4e16-92c9-65f1cf2c0271",
        "colab": {
          "base_uri": "https://localhost:8080/",
          "height": 35
        }
      },
      "source": [
        "if resp.status_code == 200:\n",
        "    resp_json = resp.json()\n",
        "    response = resp_json['response']\n",
        "    result_msg = response['header']['resultMsg']\n",
        "\n",
        "    if result_msg == 'NORMAL_SERVICE':\n",
        "        body_data = response['body']\n",
        "        for w in body_data['items']['item']:\n",
        "            category = w['category']\n",
        "            if category == 'SKY':\n",
        "                sky = int(w['fcstValue'])\n",
        "            elif category == 'T3H':\n",
        "                temperature = float(w['fcstValue'])\n",
        "            elif category == 'REH':\n",
        "                humidity = float(w['fcstValue'])                \n",
        "        print(\"하늘 : {}, 온도 : {}, 습도 : {}\".format(sky_code[sky-1], temperature, humidity))\n",
        "    else:\n",
        "        print(result_msg)"
      ],
      "execution_count": 38,
      "outputs": [
        {
          "output_type": "stream",
          "text": [
            "하늘 : 구름많음, 온도 : 17.0, 습도 : 65.0\n"
          ],
          "name": "stdout"
        }
      ]
    }
  ]
}