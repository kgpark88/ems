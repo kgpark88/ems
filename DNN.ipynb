{
  "nbformat": 4,
  "nbformat_minor": 0,
  "metadata": {
    "kernelspec": {
      "display_name": "Python 3",
      "language": "python",
      "name": "python3"
    },
    "language_info": {
      "codemirror_mode": {
        "name": "ipython",
        "version": 3
      },
      "file_extension": ".py",
      "mimetype": "text/x-python",
      "name": "python",
      "nbconvert_exporter": "python",
      "pygments_lexer": "ipython3",
      "version": "3.7.9"
    },
    "colab": {
      "name": "DNN.ipynb",
      "provenance": [],
      "collapsed_sections": [],
      "include_colab_link": true
    },
    "accelerator": "GPU"
  },
  "cells": [
    {
      "cell_type": "markdown",
      "metadata": {
        "id": "view-in-github",
        "colab_type": "text"
      },
      "source": [
        "<a href=\"https://colab.research.google.com/github/kgpark88/ems/blob/master/DNN.ipynb\" target=\"_parent\"><img src=\"https://colab.research.google.com/assets/colab-badge.svg\" alt=\"Open In Colab\"/></a>"
      ]
    },
    {
      "cell_type": "markdown",
      "metadata": {
        "id": "n6HzfxEgN0Qx"
      },
      "source": [
        "# 딥러닝 심층신경망(DNN, Deep Neural Network)\n",
        "① 라이브러리 임포트(import)  \n",
        "② 데이터 가져오기(Loading the data)  \n",
        "③ 탐색적 데이터 분석(Exploratory Data Analysis)  \n",
        "④ 데이터 전처리(Data PreProcessing) : 데이터타입 변환, Null 데이터 처리, 누락데이터 처리, \n",
        "카테고리 데이터, 더미특성 생성, 특성 추출 (feature engineering) 등  \n",
        "⑤ Train, Test  데이터셋 분할  \n",
        "⑥ 데이터 정규화(Normalizing the Data)  \n",
        "⑦ 모델 개발(Creating the Model)  \n",
        "⑧ 모델 성능 평가"
      ]
    },
    {
      "cell_type": "markdown",
      "metadata": {
        "id": "KCzL17JwN0Qy"
      },
      "source": [
        "### ① 라이브러리 임포트"
      ]
    },
    {
      "cell_type": "code",
      "metadata": {
        "id": "5vvaFmiUN0Qy"
      },
      "source": [
        "import pandas as pd\n",
        "import seaborn as sns\n",
        "import matplotlib.pyplot as plt\n",
        "\n",
        "import tensorflow as tf\n",
        "from tensorflow.keras.models import Sequential\n",
        "from tensorflow.keras.layers import Dense, Activation, Dropout"
      ],
      "execution_count": 3,
      "outputs": []
    },
    {
      "cell_type": "markdown",
      "metadata": {
        "id": "D4C-llxFN0Q1"
      },
      "source": [
        "### ② 데이터 로드\n",
        "###  데이터 설명 : 해외 통신사 고객이탈정보 데이터셋\n",
        "- customerID: 고객ID\n",
        "- gender: 고객 성별\n",
        "- SeniorCitizen: 고객이 노약자인가 아닌가\n",
        "- Partner: 고객에게 파트너가 있는지 여부(결혼 여부)\n",
        "- Dependents: 고객의 부양 가족 여부\n",
        "- tenure: 고객이 회사에 머물렀던 개월 수\n",
        "- PhoneService: 고객에게 전화 서비스가 있는지 여부\n",
        "- MultipleLines: 고객이 여러 회선을 사용하는지 여부\n",
        "- InternetService: 고객의 인터넷 서비스 제공업체\n",
        "- OnlineSecurity: 고객의 온라인 보안 여부\n",
        "- OnlineBackup: 고객이 온라인 백업을 했는지 여부"
      ]
    },
    {
      "cell_type": "code",
      "metadata": {
        "id": "CsOL254lN0Q1"
      },
      "source": [
        "df = pd.read_csv('telco_churn_data.csv')"
      ],
      "execution_count": 4,
      "outputs": []
    },
    {
      "cell_type": "markdown",
      "metadata": {
        "id": "k8t4hFw1N0Q3"
      },
      "source": [
        "### ③ 데이터 분석"
      ]
    },
    {
      "cell_type": "code",
      "metadata": {
        "id": "e5c268E5N0Q4",
        "outputId": "d45d71ed-eecb-454c-c638-abd08fa27a00",
        "colab": {
          "base_uri": "https://localhost:8080/",
          "height": 525
        }
      },
      "source": [
        "df.info()"
      ],
      "execution_count": 5,
      "outputs": [
        {
          "output_type": "stream",
          "text": [
            "<class 'pandas.core.frame.DataFrame'>\n",
            "RangeIndex: 7043 entries, 0 to 7042\n",
            "Data columns (total 21 columns):\n",
            " #   Column            Non-Null Count  Dtype  \n",
            "---  ------            --------------  -----  \n",
            " 0   customerID        7043 non-null   object \n",
            " 1   gender            7043 non-null   object \n",
            " 2   SeniorCitizen     7043 non-null   int64  \n",
            " 3   Partner           7043 non-null   object \n",
            " 4   Dependents        7043 non-null   object \n",
            " 5   tenure            7043 non-null   int64  \n",
            " 6   PhoneService      7043 non-null   object \n",
            " 7   MultipleLines     7043 non-null   object \n",
            " 8   InternetService   7043 non-null   object \n",
            " 9   OnlineSecurity    7043 non-null   object \n",
            " 10  OnlineBackup      7043 non-null   object \n",
            " 11  DeviceProtection  7043 non-null   object \n",
            " 12  TechSupport       7043 non-null   object \n",
            " 13  StreamingTV       7043 non-null   object \n",
            " 14  StreamingMovies   7043 non-null   object \n",
            " 15  Contract          7043 non-null   object \n",
            " 16  PaperlessBilling  7043 non-null   object \n",
            " 17  PaymentMethod     7043 non-null   object \n",
            " 18  MonthlyCharges    7043 non-null   float64\n",
            " 19  TotalCharges      7043 non-null   object \n",
            " 20  Churn             7043 non-null   object \n",
            "dtypes: float64(1), int64(2), object(18)\n",
            "memory usage: 1.1+ MB\n"
          ],
          "name": "stdout"
        }
      ]
    },
    {
      "cell_type": "code",
      "metadata": {
        "id": "A9GD2Fb3N0Q6",
        "outputId": "06288cb5-9470-484f-c3b0-227800dd4c79",
        "colab": {
          "base_uri": "https://localhost:8080/",
          "height": 416
        }
      },
      "source": [
        "df.isnull().sum()"
      ],
      "execution_count": 6,
      "outputs": [
        {
          "output_type": "execute_result",
          "data": {
            "text/plain": [
              "customerID          0\n",
              "gender              0\n",
              "SeniorCitizen       0\n",
              "Partner             0\n",
              "Dependents          0\n",
              "tenure              0\n",
              "PhoneService        0\n",
              "MultipleLines       0\n",
              "InternetService     0\n",
              "OnlineSecurity      0\n",
              "OnlineBackup        0\n",
              "DeviceProtection    0\n",
              "TechSupport         0\n",
              "StreamingTV         0\n",
              "StreamingMovies     0\n",
              "Contract            0\n",
              "PaperlessBilling    0\n",
              "PaymentMethod       0\n",
              "MonthlyCharges      0\n",
              "TotalCharges        0\n",
              "Churn               0\n",
              "dtype: int64"
            ]
          },
          "metadata": {
            "tags": []
          },
          "execution_count": 6
        }
      ]
    },
    {
      "cell_type": "code",
      "metadata": {
        "id": "GEt_2HfmN0Q8",
        "outputId": "9aa986ed-dcfa-4015-9cc6-5c5c2f26a4f2",
        "colab": {
          "base_uri": "https://localhost:8080/",
          "height": 141
        }
      },
      "source": [
        "df.describe().transpose()"
      ],
      "execution_count": 7,
      "outputs": [
        {
          "output_type": "execute_result",
          "data": {
            "text/html": [
              "<div>\n",
              "<style scoped>\n",
              "    .dataframe tbody tr th:only-of-type {\n",
              "        vertical-align: middle;\n",
              "    }\n",
              "\n",
              "    .dataframe tbody tr th {\n",
              "        vertical-align: top;\n",
              "    }\n",
              "\n",
              "    .dataframe thead th {\n",
              "        text-align: right;\n",
              "    }\n",
              "</style>\n",
              "<table border=\"1\" class=\"dataframe\">\n",
              "  <thead>\n",
              "    <tr style=\"text-align: right;\">\n",
              "      <th></th>\n",
              "      <th>count</th>\n",
              "      <th>mean</th>\n",
              "      <th>std</th>\n",
              "      <th>min</th>\n",
              "      <th>25%</th>\n",
              "      <th>50%</th>\n",
              "      <th>75%</th>\n",
              "      <th>max</th>\n",
              "    </tr>\n",
              "  </thead>\n",
              "  <tbody>\n",
              "    <tr>\n",
              "      <th>SeniorCitizen</th>\n",
              "      <td>7043.0</td>\n",
              "      <td>0.162147</td>\n",
              "      <td>0.368612</td>\n",
              "      <td>0.00</td>\n",
              "      <td>0.0</td>\n",
              "      <td>0.00</td>\n",
              "      <td>0.00</td>\n",
              "      <td>1.00</td>\n",
              "    </tr>\n",
              "    <tr>\n",
              "      <th>tenure</th>\n",
              "      <td>7043.0</td>\n",
              "      <td>32.371149</td>\n",
              "      <td>24.559481</td>\n",
              "      <td>0.00</td>\n",
              "      <td>9.0</td>\n",
              "      <td>29.00</td>\n",
              "      <td>55.00</td>\n",
              "      <td>72.00</td>\n",
              "    </tr>\n",
              "    <tr>\n",
              "      <th>MonthlyCharges</th>\n",
              "      <td>7043.0</td>\n",
              "      <td>64.761692</td>\n",
              "      <td>30.090047</td>\n",
              "      <td>18.25</td>\n",
              "      <td>35.5</td>\n",
              "      <td>70.35</td>\n",
              "      <td>89.85</td>\n",
              "      <td>118.75</td>\n",
              "    </tr>\n",
              "  </tbody>\n",
              "</table>\n",
              "</div>"
            ],
            "text/plain": [
              "                 count       mean        std    min   25%    50%    75%     max\n",
              "SeniorCitizen   7043.0   0.162147   0.368612   0.00   0.0   0.00   0.00    1.00\n",
              "tenure          7043.0  32.371149  24.559481   0.00   9.0  29.00  55.00   72.00\n",
              "MonthlyCharges  7043.0  64.761692  30.090047  18.25  35.5  70.35  89.85  118.75"
            ]
          },
          "metadata": {
            "tags": []
          },
          "execution_count": 7
        }
      ]
    },
    {
      "cell_type": "code",
      "metadata": {
        "id": "q2GrZ4seN0Q-",
        "outputId": "ad3b8a3c-096c-4875-9b2f-ad8781d2242e",
        "colab": {
          "base_uri": "https://localhost:8080/",
          "height": 339
        }
      },
      "source": [
        "df.corr()['MonthlyCharges'][:-1].sort_values().plot(kind='bar')"
      ],
      "execution_count": 8,
      "outputs": [
        {
          "output_type": "execute_result",
          "data": {
            "text/plain": [
              "<matplotlib.axes._subplots.AxesSubplot at 0x7f8c5cce5eb8>"
            ]
          },
          "metadata": {
            "tags": []
          },
          "execution_count": 8
        },
        {
          "output_type": "display_data",
          "data": {
            "image/png": "[encoded data removed]",
            "text/plain": [
              "<Figure size 432x288 with 1 Axes>"
            ]
          },
          "metadata": {
            "tags": [],
            "needs_background": "light"
          }
        }
      ]
    },
    {
      "cell_type": "markdown",
      "metadata": {
        "id": "VX4ryIIbN0RB"
      },
      "source": [
        "### ④ 데이터 전처리"
      ]
    },
    {
      "cell_type": "code",
      "metadata": {
        "id": "fCzm3xM_N0RB"
      },
      "source": [
        "df.drop('customerID', axis=1, inplace=True)"
      ],
      "execution_count": 9,
      "outputs": []
    },
    {
      "cell_type": "code",
      "metadata": {
        "id": "dyv8UlIoN0RD"
      },
      "source": [
        "df['TotalCharges'].replace([' '], ['0'], inplace=True)"
      ],
      "execution_count": 10,
      "outputs": []
    },
    {
      "cell_type": "code",
      "metadata": {
        "id": "-bTsbGvrN0RF"
      },
      "source": [
        "df['TotalCharges'] = df['TotalCharges'].astype(float)"
      ],
      "execution_count": 11,
      "outputs": []
    },
    {
      "cell_type": "code",
      "metadata": {
        "id": "jzKmsyC3N0RJ"
      },
      "source": [
        "df['Churn'].replace(['Yes', 'No'], [1, 0], inplace=True)"
      ],
      "execution_count": 12,
      "outputs": []
    },
    {
      "cell_type": "markdown",
      "metadata": {
        "id": "CH8yRgRJN0RL"
      },
      "source": [
        "### 더미 특성 생성"
      ]
    },
    {
      "cell_type": "code",
      "metadata": {
        "id": "pBscxsmxN0RL"
      },
      "source": [
        "cols = ['gender', 'Partner', 'Dependents', 'PhoneService', 'MultipleLines', \n",
        "        'InternetService', 'OnlineSecurity', 'OnlineBackup', 'DeviceProtection', \n",
        "        'TechSupport', 'StreamingTV', 'StreamingMovies', 'Contract', \n",
        "        'PaperlessBilling', 'PaymentMethod']"
      ],
      "execution_count": 13,
      "outputs": []
    },
    {
      "cell_type": "code",
      "metadata": {
        "id": "Ptua1SohN0RN"
      },
      "source": [
        "dummies = pd.get_dummies(df[cols], drop_first=True)"
      ],
      "execution_count": 14,
      "outputs": []
    },
    {
      "cell_type": "code",
      "metadata": {
        "id": "1UiwFJqtN0RP"
      },
      "source": [
        "df = df.drop(cols, axis=1)"
      ],
      "execution_count": 15,
      "outputs": []
    },
    {
      "cell_type": "code",
      "metadata": {
        "id": "RPoReDtZN0RR"
      },
      "source": [
        "df = pd.concat([df, dummies], axis=1)"
      ],
      "execution_count": 16,
      "outputs": []
    },
    {
      "cell_type": "code",
      "metadata": {
        "id": "MM8dT2HCN0RT"
      },
      "source": [
        "# df = pd.get_dummies(df)\n",
        "# cols = list(df.select_dtypes('object').columns)"
      ],
      "execution_count": 17,
      "outputs": []
    },
    {
      "cell_type": "markdown",
      "metadata": {
        "id": "iQVGSPo3N0RU"
      },
      "source": [
        "### ⑤ Train, Test  데이터셋 분할"
      ]
    },
    {
      "cell_type": "code",
      "metadata": {
        "id": "jTAkuI56N0RV"
      },
      "source": [
        "from sklearn.model_selection import train_test_split"
      ],
      "execution_count": 18,
      "outputs": []
    },
    {
      "cell_type": "code",
      "metadata": {
        "id": "cZqvLi-LN0RX"
      },
      "source": [
        "X = df.drop('Churn', axis=1).values\n",
        "y = df['Churn'].values"
      ],
      "execution_count": 19,
      "outputs": []
    },
    {
      "cell_type": "code",
      "metadata": {
        "id": "doPPbBCxN0RZ"
      },
      "source": [
        "X_train, X_test, y_train, y_test = train_test_split(X, y, \n",
        "                                                    test_size=0.3, \n",
        "                                                    random_state=42)"
      ],
      "execution_count": 20,
      "outputs": []
    },
    {
      "cell_type": "code",
      "metadata": {
        "id": "x_8r0YJ5N0Ra",
        "outputId": "d791556d-1ef0-4abe-f886-ec2a3a11aa31",
        "colab": {
          "base_uri": "https://localhost:8080/",
          "height": 35
        }
      },
      "source": [
        "X_train.shape"
      ],
      "execution_count": 21,
      "outputs": [
        {
          "output_type": "execute_result",
          "data": {
            "text/plain": [
              "(4930, 30)"
            ]
          },
          "metadata": {
            "tags": []
          },
          "execution_count": 21
        }
      ]
    },
    {
      "cell_type": "code",
      "metadata": {
        "id": "x2xCBSXjN0Rc",
        "outputId": "8bc44d95-597a-4580-db9d-6e4492b1fc7f",
        "colab": {
          "base_uri": "https://localhost:8080/",
          "height": 35
        }
      },
      "source": [
        "y_train.shape"
      ],
      "execution_count": 22,
      "outputs": [
        {
          "output_type": "execute_result",
          "data": {
            "text/plain": [
              "(4930,)"
            ]
          },
          "metadata": {
            "tags": []
          },
          "execution_count": 22
        }
      ]
    },
    {
      "cell_type": "markdown",
      "metadata": {
        "id": "dT0CC90BN0Re"
      },
      "source": [
        "### 데이터 정규화/스케일링(Normalizing/Scaling)"
      ]
    },
    {
      "cell_type": "code",
      "metadata": {
        "id": "Q33McwdxN0Rf"
      },
      "source": [
        "from sklearn.preprocessing import MinMaxScaler"
      ],
      "execution_count": 23,
      "outputs": []
    },
    {
      "cell_type": "code",
      "metadata": {
        "id": "EJZ_FGh0N0Ri"
      },
      "source": [
        "scaler = MinMaxScaler()\n",
        "scaler.fit(X_train)\n",
        "X_train = scaler.transform(X_train)\n",
        "X_test = scaler.transform(X_test)"
      ],
      "execution_count": 24,
      "outputs": []
    },
    {
      "cell_type": "markdown",
      "metadata": {
        "id": "-URhNqAON0Rk"
      },
      "source": [
        "### 모델 입력갯수, 출력갯수 확인"
      ]
    },
    {
      "cell_type": "code",
      "metadata": {
        "id": "D_PSMSSAN0Rk",
        "outputId": "0833e2ee-4249-4069-c05d-bc9e70bdb5be",
        "colab": {
          "base_uri": "https://localhost:8080/",
          "height": 35
        }
      },
      "source": [
        "X_train.shape"
      ],
      "execution_count": 25,
      "outputs": [
        {
          "output_type": "execute_result",
          "data": {
            "text/plain": [
              "(4930, 30)"
            ]
          },
          "metadata": {
            "tags": []
          },
          "execution_count": 25
        }
      ]
    },
    {
      "cell_type": "code",
      "metadata": {
        "id": "s5do7xS4N0Rn",
        "outputId": "ea18425f-6e77-4112-aec3-480947dd81b5",
        "colab": {
          "base_uri": "https://localhost:8080/",
          "height": 35
        }
      },
      "source": [
        "y_train.shape"
      ],
      "execution_count": 26,
      "outputs": [
        {
          "output_type": "execute_result",
          "data": {
            "text/plain": [
              "(4930,)"
            ]
          },
          "metadata": {
            "tags": []
          },
          "execution_count": 26
        }
      ]
    },
    {
      "cell_type": "markdown",
      "metadata": {
        "id": "QKTvnXENN0Ro"
      },
      "source": [
        "### ⑦ 모델 개발"
      ]
    },
    {
      "cell_type": "code",
      "metadata": {
        "id": "RzUCIdxEN0Rp"
      },
      "source": [
        "model = Sequential()\n",
        "\n",
        "# input layer\n",
        "model.add(Dense(64, activation='relu', input_shape=(30,)))\n",
        "\n",
        "# hidden layer\n",
        "model.add(Dense(64, activation='relu'))\n",
        "\n",
        "# hidden layer\n",
        "model.add(Dense(32, activation='relu'))\n",
        "\n",
        "# output layer\n",
        "model.add(Dense(1, activation='sigmoid'))"
      ],
      "execution_count": 27,
      "outputs": []
    },
    {
      "cell_type": "markdown",
      "metadata": {
        "id": "Ds9ucCYRN0Rq"
      },
      "source": [
        "### 모델 구성 -  과적합 방지"
      ]
    },
    {
      "cell_type": "code",
      "metadata": {
        "id": "1B1HZmsEN0Rr"
      },
      "source": [
        "model = Sequential()\n",
        "model.add(Dense(128, activation='relu', input_shape=(30,)))\n",
        "model.add(Dropout(0.5))\n",
        "model.add(Dense(64, activation='relu'))\n",
        "model.add(Dropout(0.5))\n",
        "model.add(Dense(64, activation='relu'))\n",
        "model.add(Dropout(0.5))\n",
        "model.add(Dense(32, activation='relu'))\n",
        "model.add(Dropout(0.5))\n",
        "\n",
        "model.add(Dense(1, activation='sigmoid'))"
      ],
      "execution_count": 28,
      "outputs": []
    },
    {
      "cell_type": "markdown",
      "metadata": {
        "id": "aIQ7Q-4lN0Rs"
      },
      "source": [
        "### 모델 확인"
      ]
    },
    {
      "cell_type": "code",
      "metadata": {
        "id": "zJsWyDzLN0Rt",
        "outputId": "01fb926a-49a3-47e5-8e89-eaa37e6ac2b8",
        "colab": {
          "base_uri": "https://localhost:8080/",
          "height": 488
        }
      },
      "source": [
        "model.summary()"
      ],
      "execution_count": 29,
      "outputs": [
        {
          "output_type": "stream",
          "text": [
            "Model: \"sequential_1\"\n",
            "_________________________________________________________________\n",
            "Layer (type)                 Output Shape              Param #   \n",
            "=================================================================\n",
            "dense_4 (Dense)              (None, 128)               3968      \n",
            "_________________________________________________________________\n",
            "dropout (Dropout)            (None, 128)               0         \n",
            "_________________________________________________________________\n",
            "dense_5 (Dense)              (None, 64)                8256      \n",
            "_________________________________________________________________\n",
            "dropout_1 (Dropout)          (None, 64)                0         \n",
            "_________________________________________________________________\n",
            "dense_6 (Dense)              (None, 64)                4160      \n",
            "_________________________________________________________________\n",
            "dropout_2 (Dropout)          (None, 64)                0         \n",
            "_________________________________________________________________\n",
            "dense_7 (Dense)              (None, 32)                2080      \n",
            "_________________________________________________________________\n",
            "dropout_3 (Dropout)          (None, 32)                0         \n",
            "_________________________________________________________________\n",
            "dense_8 (Dense)              (None, 1)                 33        \n",
            "=================================================================\n",
            "Total params: 18,497\n",
            "Trainable params: 18,497\n",
            "Non-trainable params: 0\n",
            "_________________________________________________________________\n"
          ],
          "name": "stdout"
        }
      ]
    },
    {
      "cell_type": "code",
      "metadata": {
        "id": "V91IB3QXN0Ru"
      },
      "source": [
        "hidden1 = model.layers[0]"
      ],
      "execution_count": 30,
      "outputs": []
    },
    {
      "cell_type": "code",
      "metadata": {
        "id": "DCGSF9xGN0Rw"
      },
      "source": [
        "weights, biases = hidden1.get_weights()"
      ],
      "execution_count": 31,
      "outputs": []
    },
    {
      "cell_type": "code",
      "metadata": {
        "id": "x2TV9WTgN0Ry",
        "outputId": "5b379c7e-3b54-4c8c-8b08-2b68a8218068",
        "colab": {
          "base_uri": "https://localhost:8080/",
          "height": 253
        }
      },
      "source": [
        "print(weights)"
      ],
      "execution_count": 32,
      "outputs": [
        {
          "output_type": "stream",
          "text": [
            "[[ 0.16910802  0.05256371  0.07545669 ...  0.03192014  0.1820784\n",
            "   0.0621831 ]\n",
            " [-0.02444942  0.14528094  0.02709848 ... -0.01324511 -0.1416045\n",
            "   0.11566113]\n",
            " [-0.0682876   0.17980088 -0.00387047 ...  0.04659373  0.08483385\n",
            "  -0.06540814]\n",
            " ...\n",
            " [-0.00100175  0.14916815  0.10626151 ... -0.13543259 -0.19177237\n",
            "   0.02081874]\n",
            " [-0.19100673 -0.1345967   0.17874093 ... -0.02533686 -0.05749062\n",
            "  -0.16764845]\n",
            " [ 0.11740695  0.15464364 -0.03235297 ...  0.03747731 -0.10142018\n",
            "  -0.15114416]]\n"
          ],
          "name": "stdout"
        }
      ]
    },
    {
      "cell_type": "code",
      "metadata": {
        "id": "SLIjkJMMN0Rz",
        "outputId": "faac2a65-3a0d-4c3a-86ab-e3ba0ac2054c",
        "colab": {
          "base_uri": "https://localhost:8080/",
          "height": 126
        }
      },
      "source": [
        "print(biases)"
      ],
      "execution_count": 33,
      "outputs": [
        {
          "output_type": "stream",
          "text": [
            "[0. 0. 0. 0. 0. 0. 0. 0. 0. 0. 0. 0. 0. 0. 0. 0. 0. 0. 0. 0. 0. 0. 0. 0.\n",
            " 0. 0. 0. 0. 0. 0. 0. 0. 0. 0. 0. 0. 0. 0. 0. 0. 0. 0. 0. 0. 0. 0. 0. 0.\n",
            " 0. 0. 0. 0. 0. 0. 0. 0. 0. 0. 0. 0. 0. 0. 0. 0. 0. 0. 0. 0. 0. 0. 0. 0.\n",
            " 0. 0. 0. 0. 0. 0. 0. 0. 0. 0. 0. 0. 0. 0. 0. 0. 0. 0. 0. 0. 0. 0. 0. 0.\n",
            " 0. 0. 0. 0. 0. 0. 0. 0. 0. 0. 0. 0. 0. 0. 0. 0. 0. 0. 0. 0. 0. 0. 0. 0.\n",
            " 0. 0. 0. 0. 0. 0. 0. 0.]\n"
          ],
          "name": "stdout"
        }
      ]
    },
    {
      "cell_type": "markdown",
      "metadata": {
        "id": "9G_LYFVGN0R1"
      },
      "source": [
        "#### 모델 컴파일 – 이진 분류 모델"
      ]
    },
    {
      "cell_type": "code",
      "metadata": {
        "id": "pd-QUI7oN0R1"
      },
      "source": [
        "model.compile(optimizer='adam', \n",
        "              loss='binary_crossentropy', \n",
        "              metrics=['acc']) "
      ],
      "execution_count": 34,
      "outputs": []
    },
    {
      "cell_type": "markdown",
      "metadata": {
        "id": "5i19MOqMN0R3"
      },
      "source": [
        "- 모델 컴파일 – 다중 분류 모델  \n",
        "model.compile(optimizer='adam', \n",
        "              loss='categorical_crossentropy', \n",
        "              metrics=['accuracy']) \n"
      ]
    },
    {
      "cell_type": "markdown",
      "metadata": {
        "id": "RvdaIM43N0R4"
      },
      "source": [
        "- 모델 컴파일 – 예측 모델\n",
        "model.compile(optimizer='adam', loss='mse')"
      ]
    },
    {
      "cell_type": "markdown",
      "metadata": {
        "id": "H2nosCESN0R4"
      },
      "source": [
        "### 모델 훈련(학습) 하기"
      ]
    },
    {
      "cell_type": "code",
      "metadata": {
        "id": "MMOkRIMjN0R4",
        "outputId": "814dd3a3-bd40-4b57-f248-97dfdf59f40e",
        "colab": {
          "base_uri": "https://localhost:8080/",
          "height": 780
        }
      },
      "source": [
        "model.fit(X_train, y_train, \n",
        "          validation_data=(X_test, y_test),\n",
        "          epochs=20, \n",
        "          batch_size=10)"
      ],
      "execution_count": 35,
      "outputs": [
        {
          "output_type": "stream",
          "text": [
            "Epoch 1/20\n",
            "493/493 [==============================] - 2s 3ms/step - loss: 0.5224 - acc: 0.7320 - val_loss: 0.4501 - val_acc: 0.7785\n",
            "Epoch 2/20\n",
            "493/493 [==============================] - 1s 3ms/step - loss: 0.4818 - acc: 0.7598 - val_loss: 0.4470 - val_acc: 0.7937\n",
            "Epoch 3/20\n",
            "493/493 [==============================] - 1s 3ms/step - loss: 0.4787 - acc: 0.7655 - val_loss: 0.4756 - val_acc: 0.7818\n",
            "Epoch 4/20\n",
            "493/493 [==============================] - 1s 3ms/step - loss: 0.4637 - acc: 0.7838 - val_loss: 0.4622 - val_acc: 0.7979\n",
            "Epoch 5/20\n",
            "493/493 [==============================] - 1s 3ms/step - loss: 0.4547 - acc: 0.7803 - val_loss: 0.4378 - val_acc: 0.7946\n",
            "Epoch 6/20\n",
            "493/493 [==============================] - 1s 3ms/step - loss: 0.4591 - acc: 0.7880 - val_loss: 0.4485 - val_acc: 0.7979\n",
            "Epoch 7/20\n",
            "493/493 [==============================] - 1s 3ms/step - loss: 0.4520 - acc: 0.7892 - val_loss: 0.4335 - val_acc: 0.7989\n",
            "Epoch 8/20\n",
            "493/493 [==============================] - 1s 3ms/step - loss: 0.4489 - acc: 0.7866 - val_loss: 0.4497 - val_acc: 0.7993\n",
            "Epoch 9/20\n",
            "493/493 [==============================] - 1s 3ms/step - loss: 0.4460 - acc: 0.7929 - val_loss: 0.4273 - val_acc: 0.8055\n",
            "Epoch 10/20\n",
            "493/493 [==============================] - 1s 3ms/step - loss: 0.4482 - acc: 0.7974 - val_loss: 0.4246 - val_acc: 0.8003\n",
            "Epoch 11/20\n",
            "493/493 [==============================] - 1s 3ms/step - loss: 0.4469 - acc: 0.7996 - val_loss: 0.4328 - val_acc: 0.7984\n",
            "Epoch 12/20\n",
            "493/493 [==============================] - 1s 3ms/step - loss: 0.4394 - acc: 0.7978 - val_loss: 0.4286 - val_acc: 0.7989\n",
            "Epoch 13/20\n",
            "493/493 [==============================] - 1s 3ms/step - loss: 0.4416 - acc: 0.7976 - val_loss: 0.4268 - val_acc: 0.8012\n",
            "Epoch 14/20\n",
            "493/493 [==============================] - 1s 3ms/step - loss: 0.4349 - acc: 0.7984 - val_loss: 0.4210 - val_acc: 0.7998\n",
            "Epoch 15/20\n",
            "493/493 [==============================] - 1s 3ms/step - loss: 0.4356 - acc: 0.8037 - val_loss: 0.4200 - val_acc: 0.8017\n",
            "Epoch 16/20\n",
            "493/493 [==============================] - 1s 3ms/step - loss: 0.4384 - acc: 0.7980 - val_loss: 0.4285 - val_acc: 0.7984\n",
            "Epoch 17/20\n",
            "493/493 [==============================] - 1s 3ms/step - loss: 0.4385 - acc: 0.7986 - val_loss: 0.4244 - val_acc: 0.8031\n",
            "Epoch 18/20\n",
            "493/493 [==============================] - 1s 3ms/step - loss: 0.4343 - acc: 0.8006 - val_loss: 0.4214 - val_acc: 0.7974\n",
            "Epoch 19/20\n",
            "493/493 [==============================] - 1s 3ms/step - loss: 0.4361 - acc: 0.7986 - val_loss: 0.4391 - val_acc: 0.7970\n",
            "Epoch 20/20\n",
            "493/493 [==============================] - 1s 3ms/step - loss: 0.4274 - acc: 0.8026 - val_loss: 0.4331 - val_acc: 0.7998\n"
          ],
          "name": "stdout"
        },
        {
          "output_type": "execute_result",
          "data": {
            "text/plain": [
              "<tensorflow.python.keras.callbacks.History at 0x7f8c50040668>"
            ]
          },
          "metadata": {
            "tags": []
          },
          "execution_count": 35
        }
      ]
    },
    {
      "cell_type": "markdown",
      "metadata": {
        "id": "rDPeB-g9N0R6"
      },
      "source": [
        "### 모델 훈련(학습) - 조기종료"
      ]
    },
    {
      "cell_type": "code",
      "metadata": {
        "id": "4dBvzqrWN0R7"
      },
      "source": [
        "from tensorflow.keras.callbacks import EarlyStopping, ModelCheckpoint"
      ],
      "execution_count": 36,
      "outputs": []
    },
    {
      "cell_type": "code",
      "metadata": {
        "id": "BPYXJgvUN0R8"
      },
      "source": [
        "early_stop = EarlyStopping(monitor='val_loss', mode='min', \n",
        "                           verbose=1, patience=25)"
      ],
      "execution_count": 37,
      "outputs": []
    },
    {
      "cell_type": "code",
      "metadata": {
        "id": "bAe5GPGuN0R-"
      },
      "source": [
        "check_point = ModelCheckpoint('best_model.h5', verbose=1,\n",
        "                              monitor='val_loss', mode='min', \n",
        "                              save_best_only=True)"
      ],
      "execution_count": 38,
      "outputs": []
    },
    {
      "cell_type": "code",
      "metadata": {
        "id": "DcmKrkt4N0SA",
        "outputId": "99a7bdb9-8948-4270-fbb9-3cf85b33a70f",
        "colab": {
          "base_uri": "https://localhost:8080/",
          "height": 1000
        }
      },
      "source": [
        "history = model.fit(x=X_train, y=y_train, \n",
        "          epochs=50 , batch_size=20,\n",
        "          validation_data=(X_test, y_test), \n",
        "          verbose=1,\n",
        "          callbacks=[early_stop, check_point])"
      ],
      "execution_count": 39,
      "outputs": [
        {
          "output_type": "stream",
          "text": [
            "Epoch 1/50\n",
            "243/247 [============================>.] - ETA: 0s - loss: 0.4295 - acc: 0.8058\n",
            "Epoch 00001: val_loss improved from inf to 0.42715, saving model to best_model.h5\n",
            "247/247 [==============================] - 1s 4ms/step - loss: 0.4294 - acc: 0.8059 - val_loss: 0.4272 - val_acc: 0.7989\n",
            "Epoch 2/50\n",
            "247/247 [==============================] - ETA: 0s - loss: 0.4268 - acc: 0.8037\n",
            "Epoch 00002: val_loss improved from 0.42715 to 0.42337, saving model to best_model.h5\n",
            "247/247 [==============================] - 1s 4ms/step - loss: 0.4268 - acc: 0.8037 - val_loss: 0.4234 - val_acc: 0.8022\n",
            "Epoch 3/50\n",
            "235/247 [===========================>..] - ETA: 0s - loss: 0.4289 - acc: 0.8026\n",
            "Epoch 00003: val_loss did not improve from 0.42337\n",
            "247/247 [==============================] - 1s 4ms/step - loss: 0.4264 - acc: 0.8037 - val_loss: 0.4271 - val_acc: 0.8036\n",
            "Epoch 4/50\n",
            "237/247 [===========================>..] - ETA: 0s - loss: 0.4220 - acc: 0.8074\n",
            "Epoch 00004: val_loss did not improve from 0.42337\n",
            "247/247 [==============================] - 1s 4ms/step - loss: 0.4228 - acc: 0.8071 - val_loss: 0.4257 - val_acc: 0.8027\n",
            "Epoch 5/50\n",
            "237/247 [===========================>..] - ETA: 0s - loss: 0.4235 - acc: 0.8065\n",
            "Epoch 00005: val_loss did not improve from 0.42337\n",
            "247/247 [==============================] - 1s 4ms/step - loss: 0.4211 - acc: 0.8081 - val_loss: 0.4309 - val_acc: 0.8012\n",
            "Epoch 6/50\n",
            "239/247 [============================>.] - ETA: 0s - loss: 0.4179 - acc: 0.8082\n",
            "Epoch 00006: val_loss did not improve from 0.42337\n",
            "247/247 [==============================] - 1s 4ms/step - loss: 0.4201 - acc: 0.8067 - val_loss: 0.4239 - val_acc: 0.8064\n",
            "Epoch 7/50\n",
            "241/247 [============================>.] - ETA: 0s - loss: 0.4255 - acc: 0.7996\n",
            "Epoch 00007: val_loss did not improve from 0.42337\n",
            "247/247 [==============================] - 1s 3ms/step - loss: 0.4257 - acc: 0.8002 - val_loss: 0.4271 - val_acc: 0.8017\n",
            "Epoch 8/50\n",
            "240/247 [============================>.] - ETA: 0s - loss: 0.4234 - acc: 0.8033\n",
            "Epoch 00008: val_loss did not improve from 0.42337\n",
            "247/247 [==============================] - 1s 3ms/step - loss: 0.4219 - acc: 0.8049 - val_loss: 0.4280 - val_acc: 0.8012\n",
            "Epoch 9/50\n",
            "236/247 [===========================>..] - ETA: 0s - loss: 0.4191 - acc: 0.8038\n",
            "Epoch 00009: val_loss did not improve from 0.42337\n",
            "247/247 [==============================] - 1s 3ms/step - loss: 0.4178 - acc: 0.8055 - val_loss: 0.4262 - val_acc: 0.8055\n",
            "Epoch 10/50\n",
            "241/247 [============================>.] - ETA: 0s - loss: 0.4176 - acc: 0.8089\n",
            "Epoch 00010: val_loss did not improve from 0.42337\n",
            "247/247 [==============================] - 1s 3ms/step - loss: 0.4191 - acc: 0.8075 - val_loss: 0.4267 - val_acc: 0.8017\n",
            "Epoch 11/50\n",
            "234/247 [===========================>..] - ETA: 0s - loss: 0.4177 - acc: 0.8045\n",
            "Epoch 00011: val_loss did not improve from 0.42337\n",
            "247/247 [==============================] - 1s 4ms/step - loss: 0.4179 - acc: 0.8045 - val_loss: 0.4300 - val_acc: 0.8022\n",
            "Epoch 12/50\n",
            "235/247 [===========================>..] - ETA: 0s - loss: 0.4168 - acc: 0.8066\n",
            "Epoch 00012: val_loss did not improve from 0.42337\n",
            "247/247 [==============================] - 1s 4ms/step - loss: 0.4187 - acc: 0.8057 - val_loss: 0.4244 - val_acc: 0.8008\n",
            "Epoch 13/50\n",
            "241/247 [============================>.] - ETA: 0s - loss: 0.4222 - acc: 0.8100\n",
            "Epoch 00013: val_loss did not improve from 0.42337\n",
            "247/247 [==============================] - 1s 3ms/step - loss: 0.4220 - acc: 0.8099 - val_loss: 0.4305 - val_acc: 0.7979\n",
            "Epoch 14/50\n",
            "237/247 [===========================>..] - ETA: 0s - loss: 0.4140 - acc: 0.8072\n",
            "Epoch 00014: val_loss did not improve from 0.42337\n",
            "247/247 [==============================] - 1s 3ms/step - loss: 0.4151 - acc: 0.8051 - val_loss: 0.4255 - val_acc: 0.8045\n",
            "Epoch 15/50\n",
            "240/247 [============================>.] - ETA: 0s - loss: 0.4207 - acc: 0.8065\n",
            "Epoch 00015: val_loss did not improve from 0.42337\n",
            "247/247 [==============================] - 1s 3ms/step - loss: 0.4205 - acc: 0.8057 - val_loss: 0.4276 - val_acc: 0.7993\n",
            "Epoch 16/50\n",
            "239/247 [============================>.] - ETA: 0s - loss: 0.4099 - acc: 0.8140\n",
            "Epoch 00016: val_loss did not improve from 0.42337\n",
            "247/247 [==============================] - 1s 3ms/step - loss: 0.4109 - acc: 0.8136 - val_loss: 0.4328 - val_acc: 0.7965\n",
            "Epoch 17/50\n",
            "240/247 [============================>.] - ETA: 0s - loss: 0.4108 - acc: 0.8108\n",
            "Epoch 00017: val_loss did not improve from 0.42337\n",
            "247/247 [==============================] - 1s 3ms/step - loss: 0.4107 - acc: 0.8112 - val_loss: 0.4344 - val_acc: 0.7989\n",
            "Epoch 18/50\n",
            "239/247 [============================>.] - ETA: 0s - loss: 0.4112 - acc: 0.8082\n",
            "Epoch 00018: val_loss did not improve from 0.42337\n",
            "247/247 [==============================] - 1s 3ms/step - loss: 0.4116 - acc: 0.8077 - val_loss: 0.4267 - val_acc: 0.8003\n",
            "Epoch 19/50\n",
            "233/247 [===========================>..] - ETA: 0s - loss: 0.4148 - acc: 0.8067\n",
            "Epoch 00019: val_loss did not improve from 0.42337\n",
            "247/247 [==============================] - 1s 4ms/step - loss: 0.4148 - acc: 0.8067 - val_loss: 0.4281 - val_acc: 0.7965\n",
            "Epoch 20/50\n",
            "246/247 [============================>.] - ETA: 0s - loss: 0.4127 - acc: 0.8157\n",
            "Epoch 00020: val_loss did not improve from 0.42337\n",
            "247/247 [==============================] - 1s 3ms/step - loss: 0.4132 - acc: 0.8154 - val_loss: 0.4327 - val_acc: 0.7937\n",
            "Epoch 21/50\n",
            "237/247 [===========================>..] - ETA: 0s - loss: 0.4079 - acc: 0.8097\n",
            "Epoch 00021: val_loss did not improve from 0.42337\n",
            "247/247 [==============================] - 1s 4ms/step - loss: 0.4087 - acc: 0.8087 - val_loss: 0.4304 - val_acc: 0.7965\n",
            "Epoch 22/50\n",
            "235/247 [===========================>..] - ETA: 0s - loss: 0.4079 - acc: 0.8138\n",
            "Epoch 00022: val_loss did not improve from 0.42337\n",
            "247/247 [==============================] - 1s 4ms/step - loss: 0.4069 - acc: 0.8126 - val_loss: 0.4320 - val_acc: 0.7989\n",
            "Epoch 23/50\n",
            "239/247 [============================>.] - ETA: 0s - loss: 0.4016 - acc: 0.8136\n",
            "Epoch 00023: val_loss did not improve from 0.42337\n",
            "247/247 [==============================] - 1s 3ms/step - loss: 0.4029 - acc: 0.8126 - val_loss: 0.4369 - val_acc: 0.7974\n",
            "Epoch 24/50\n",
            "238/247 [===========================>..] - ETA: 0s - loss: 0.4077 - acc: 0.8113\n",
            "Epoch 00024: val_loss did not improve from 0.42337\n",
            "247/247 [==============================] - 1s 3ms/step - loss: 0.4057 - acc: 0.8126 - val_loss: 0.4345 - val_acc: 0.7956\n",
            "Epoch 25/50\n",
            "231/247 [===========================>..] - ETA: 0s - loss: 0.4049 - acc: 0.8123\n",
            "Epoch 00025: val_loss did not improve from 0.42337\n",
            "247/247 [==============================] - 1s 4ms/step - loss: 0.4028 - acc: 0.8132 - val_loss: 0.4345 - val_acc: 0.7989\n",
            "Epoch 26/50\n",
            "240/247 [============================>.] - ETA: 0s - loss: 0.4040 - acc: 0.8152\n",
            "Epoch 00026: val_loss did not improve from 0.42337\n",
            "247/247 [==============================] - 1s 4ms/step - loss: 0.4030 - acc: 0.8162 - val_loss: 0.4325 - val_acc: 0.7951\n",
            "Epoch 27/50\n",
            "239/247 [============================>.] - ETA: 0s - loss: 0.4038 - acc: 0.8119\n",
            "Epoch 00027: val_loss did not improve from 0.42337\n",
            "247/247 [==============================] - 1s 4ms/step - loss: 0.4018 - acc: 0.8130 - val_loss: 0.4356 - val_acc: 0.7974\n",
            "Epoch 00027: early stopping\n"
          ],
          "name": "stdout"
        }
      ]
    },
    {
      "cell_type": "markdown",
      "metadata": {
        "id": "e65l8kArN0SC"
      },
      "source": [
        "### ⑧ 모델 성능 평가"
      ]
    },
    {
      "cell_type": "code",
      "metadata": {
        "id": "UfIWKq7sN0SD",
        "outputId": "17414922-2972-496c-cf99-471de407ddff",
        "colab": {
          "base_uri": "https://localhost:8080/",
          "height": 295
        }
      },
      "source": [
        "plt.plot(history.history['acc'])\n",
        "plt.plot(history.history['val_acc'])\n",
        "plt.plot(history.history['loss'])\n",
        "plt.plot(history.history['val_loss'])\n",
        "plt.title('Accuracy')\n",
        "plt.xlabel('Epochs')\n",
        "plt.ylabel('Acc')\n",
        "plt.legend(['acc', 'val_acc', 'loss', 'val_loss'])\n",
        "plt.show()"
      ],
      "execution_count": 40,
      "outputs": [
        {
          "output_type": "display_data",
          "data": {
            "image/png": "[encoded data removed]",
            "text/plain": [
              "<Figure size 432x288 with 1 Axes>"
            ]
          },
          "metadata": {
            "tags": [],
            "needs_background": "light"
          }
        }
      ]
    },
    {
      "cell_type": "code",
      "metadata": {
        "id": "N_ryfv1wN0SF"
      },
      "source": [
        "from sklearn.metrics import classification_report,confusion_matrix"
      ],
      "execution_count": 41,
      "outputs": []
    },
    {
      "cell_type": "code",
      "metadata": {
        "id": "mdztBJykN0SH",
        "outputId": "da24d58b-d1ff-4563-9d9d-0081f8500547",
        "colab": {
          "base_uri": "https://localhost:8080/",
          "height": 91
        }
      },
      "source": [
        "predictions = model.predict_classes(X_test)"
      ],
      "execution_count": 42,
      "outputs": [
        {
          "output_type": "stream",
          "text": [
            "WARNING:tensorflow:From <ipython-input-42-bc83193b8b59>:1: Sequential.predict_classes (from tensorflow.python.keras.engine.sequential) is deprecated and will be removed after 2021-01-01.\n",
            "Instructions for updating:\n",
            "Please use instead:* `np.argmax(model.predict(x), axis=-1)`,   if your model does multi-class classification   (e.g. if it uses a `softmax` last-layer activation).* `(model.predict(x) > 0.5).astype(\"int32\")`,   if your model does binary classification   (e.g. if it uses a `sigmoid` last-layer activation).\n"
          ],
          "name": "stdout"
        }
      ]
    },
    {
      "cell_type": "code",
      "metadata": {
        "id": "3GHbSaPUN0SJ",
        "outputId": "30928850-66ff-45d3-84d9-6926a9abfb0a",
        "colab": {
          "base_uri": "https://localhost:8080/",
          "height": 180
        }
      },
      "source": [
        "print(classification_report(y_test,predictions))"
      ],
      "execution_count": 43,
      "outputs": [
        {
          "output_type": "stream",
          "text": [
            "              precision    recall  f1-score   support\n",
            "\n",
            "           0       0.84      0.89      0.86      1539\n",
            "           1       0.65      0.56      0.60       574\n",
            "\n",
            "    accuracy                           0.80      2113\n",
            "   macro avg       0.75      0.72      0.73      2113\n",
            "weighted avg       0.79      0.80      0.79      2113\n",
            "\n"
          ],
          "name": "stdout"
        }
      ]
    },
    {
      "cell_type": "code",
      "metadata": {
        "id": "sghv-5ycN0SL",
        "outputId": "7ac6b1d0-50b6-46db-82aa-8e7682e6fa69",
        "colab": {
          "base_uri": "https://localhost:8080/",
          "height": 53
        }
      },
      "source": [
        "print(confusion_matrix(y_test,predictions))"
      ],
      "execution_count": 44,
      "outputs": [
        {
          "output_type": "stream",
          "text": [
            "[[1366  173]\n",
            " [ 255  319]]\n"
          ],
          "name": "stdout"
        }
      ]
    },
    {
      "cell_type": "code",
      "metadata": {
        "id": "dF38OJsUN0SP"
      },
      "source": [
        ""
      ],
      "execution_count": 44,
      "outputs": []
    },
    {
      "cell_type": "code",
      "metadata": {
        "id": "FOP-r9p5N0SR"
      },
      "source": [
        ""
      ],
      "execution_count": 44,
      "outputs": []
    }
  ]
}