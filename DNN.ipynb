{
  "nbformat": 4,
  "nbformat_minor": 0,
  "metadata": {
    "kernelspec": {
      "display_name": "Python 3",
      "language": "python",
      "name": "python3"
    },
    "language_info": {
      "codemirror_mode": {
        "name": "ipython",
        "version": 3
      },
      "file_extension": ".py",
      "mimetype": "text/x-python",
      "name": "python",
      "nbconvert_exporter": "python",
      "pygments_lexer": "ipython3",
      "version": "3.7.9"
    },
    "colab": {
      "name": "DNN.ipynb",
      "provenance": [],
      "collapsed_sections": [],
      "include_colab_link": true
    },
    "accelerator": "GPU"
  },
  "cells": [
    {
      "cell_type": "markdown",
      "metadata": {
        "id": "view-in-github",
        "colab_type": "text"
      },
      "source": [
        "<a href=\"https://colab.research.google.com/github/kgpark88/ems/blob/master/DNN.ipynb\" target=\"_parent\"><img src=\"https://colab.research.google.com/assets/colab-badge.svg\" alt=\"Open In Colab\"/></a>"
      ]
    },
    {
      "cell_type": "markdown",
      "metadata": {
        "id": "n6HzfxEgN0Qx"
      },
      "source": [
        "# 딥러닝 심층신경망(DNN, Deep Neural Network)\n",
        "① 라이브러리 임포트(import)  \n",
        "② 데이터 가져오기(Loading the data)  \n",
        "③ 탐색적 데이터 분석(Exploratory Data Analysis)  \n",
        "④ 데이터 전처리(Data PreProcessing) : 데이터타입 변환, Null 데이터 처리, 누락데이터 처리, \n",
        "카테고리 데이터, 더미특성 생성, 특성 추출 (feature engineering) 등  \n",
        "⑤ Train, Test  데이터셋 분할  \n",
        "⑥ 데이터 정규화(Normalizing the Data)  \n",
        "⑦ 모델 개발(Creating the Model)  \n",
        "⑧ 모델 성능 평가"
      ]
    },
    {
      "cell_type": "markdown",
      "metadata": {
        "id": "KCzL17JwN0Qy"
      },
      "source": [
        "### ① 라이브러리 임포트"
      ]
    },
    {
      "cell_type": "code",
      "metadata": {
        "id": "5vvaFmiUN0Qy"
      },
      "source": [
        "import pandas as pd\n",
        "import seaborn as sns\n",
        "import matplotlib.pyplot as plt\n",
        "\n",
        "import tensorflow as tf\n",
        "from tensorflow.keras.models import Sequential\n",
        "from tensorflow.keras.layers import Dense, Activation, Dropout"
      ],
      "execution_count": 3,
      "outputs": []
    },
    {
      "cell_type": "markdown",
      "metadata": {
        "id": "D4C-llxFN0Q1"
      },
      "source": [
        "### ② 데이터 로드\n",
        "###  데이터 설명 : 해외 통신사 고객이탈정보 데이터셋\n",
        "- customerID: 고객ID\n",
        "- gender: 고객 성별\n",
        "- SeniorCitizen: 고객이 노약자인가 아닌가\n",
        "- Partner: 고객에게 파트너가 있는지 여부(결혼 여부)\n",
        "- Dependents: 고객의 부양 가족 여부\n",
        "- tenure: 고객이 회사에 머물렀던 개월 수\n",
        "- PhoneService: 고객에게 전화 서비스가 있는지 여부\n",
        "- MultipleLines: 고객이 여러 회선을 사용하는지 여부\n",
        "- InternetService: 고객의 인터넷 서비스 제공업체\n",
        "- OnlineSecurity: 고객의 온라인 보안 여부\n",
        "- OnlineBackup: 고객이 온라인 백업을 했는지 여부"
      ]
    },
    {
      "cell_type": "code",
      "metadata": {
        "id": "CsOL254lN0Q1"
      },
      "source": [
        "df = pd.read_csv('telco_churn_data.csv')"
      ],
      "execution_count": 4,
      "outputs": []
    },
    {
      "cell_type": "markdown",
      "metadata": {
        "id": "k8t4hFw1N0Q3"
      },
      "source": [
        "### ③ 데이터 분석"
      ]
    },
    {
      "cell_type": "code",
      "metadata": {
        "id": "e5c268E5N0Q4",
        "outputId": "afcf82fa-6645-42cc-f3d7-84d8047318d5",
        "colab": {
          "base_uri": "https://localhost:8080/",
          "height": 525
        }
      },
      "source": [
        "df.info()"
      ],
      "execution_count": 5,
      "outputs": [
        {
          "output_type": "stream",
          "text": [
            "<class 'pandas.core.frame.DataFrame'>\n",
            "RangeIndex: 7043 entries, 0 to 7042\n",
            "Data columns (total 21 columns):\n",
            " #   Column            Non-Null Count  Dtype  \n",
            "---  ------            --------------  -----  \n",
            " 0   customerID        7043 non-null   object \n",
            " 1   gender            7043 non-null   object \n",
            " 2   SeniorCitizen     7043 non-null   int64  \n",
            " 3   Partner           7043 non-null   object \n",
            " 4   Dependents        7043 non-null   object \n",
            " 5   tenure            7043 non-null   int64  \n",
            " 6   PhoneService      7043 non-null   object \n",
            " 7   MultipleLines     7043 non-null   object \n",
            " 8   InternetService   7043 non-null   object \n",
            " 9   OnlineSecurity    7043 non-null   object \n",
            " 10  OnlineBackup      7043 non-null   object \n",
            " 11  DeviceProtection  7043 non-null   object \n",
            " 12  TechSupport       7043 non-null   object \n",
            " 13  StreamingTV       7043 non-null   object \n",
            " 14  StreamingMovies   7043 non-null   object \n",
            " 15  Contract          7043 non-null   object \n",
            " 16  PaperlessBilling  7043 non-null   object \n",
            " 17  PaymentMethod     7043 non-null   object \n",
            " 18  MonthlyCharges    7043 non-null   float64\n",
            " 19  TotalCharges      7043 non-null   object \n",
            " 20  Churn             7043 non-null   object \n",
            "dtypes: float64(1), int64(2), object(18)\n",
            "memory usage: 1.1+ MB\n"
          ],
          "name": "stdout"
        }
      ]
    },
    {
      "cell_type": "code",
      "metadata": {
        "id": "A9GD2Fb3N0Q6",
        "outputId": "904a0806-579f-4f22-c181-f706ed9034fb",
        "colab": {
          "base_uri": "https://localhost:8080/",
          "height": 416
        }
      },
      "source": [
        "df.isnull().sum()"
      ],
      "execution_count": 6,
      "outputs": [
        {
          "output_type": "execute_result",
          "data": {
            "text/plain": [
              "customerID          0\n",
              "gender              0\n",
              "SeniorCitizen       0\n",
              "Partner             0\n",
              "Dependents          0\n",
              "tenure              0\n",
              "PhoneService        0\n",
              "MultipleLines       0\n",
              "InternetService     0\n",
              "OnlineSecurity      0\n",
              "OnlineBackup        0\n",
              "DeviceProtection    0\n",
              "TechSupport         0\n",
              "StreamingTV         0\n",
              "StreamingMovies     0\n",
              "Contract            0\n",
              "PaperlessBilling    0\n",
              "PaymentMethod       0\n",
              "MonthlyCharges      0\n",
              "TotalCharges        0\n",
              "Churn               0\n",
              "dtype: int64"
            ]
          },
          "metadata": {
            "tags": []
          },
          "execution_count": 6
        }
      ]
    },
    {
      "cell_type": "code",
      "metadata": {
        "id": "GEt_2HfmN0Q8",
        "outputId": "c29bb73a-f990-475f-bbc0-9804c924b2e7",
        "colab": {
          "base_uri": "https://localhost:8080/",
          "height": 141
        }
      },
      "source": [
        "df.describe().transpose()"
      ],
      "execution_count": 7,
      "outputs": [
        {
          "output_type": "execute_result",
          "data": {
            "text/html": [
              "<div>\n",
              "<style scoped>\n",
              "    .dataframe tbody tr th:only-of-type {\n",
              "        vertical-align: middle;\n",
              "    }\n",
              "\n",
              "    .dataframe tbody tr th {\n",
              "        vertical-align: top;\n",
              "    }\n",
              "\n",
              "    .dataframe thead th {\n",
              "        text-align: right;\n",
              "    }\n",
              "</style>\n",
              "<table border=\"1\" class=\"dataframe\">\n",
              "  <thead>\n",
              "    <tr style=\"text-align: right;\">\n",
              "      <th></th>\n",
              "      <th>count</th>\n",
              "      <th>mean</th>\n",
              "      <th>std</th>\n",
              "      <th>min</th>\n",
              "      <th>25%</th>\n",
              "      <th>50%</th>\n",
              "      <th>75%</th>\n",
              "      <th>max</th>\n",
              "    </tr>\n",
              "  </thead>\n",
              "  <tbody>\n",
              "    <tr>\n",
              "      <th>SeniorCitizen</th>\n",
              "      <td>7043.0</td>\n",
              "      <td>0.162147</td>\n",
              "      <td>0.368612</td>\n",
              "      <td>0.00</td>\n",
              "      <td>0.0</td>\n",
              "      <td>0.00</td>\n",
              "      <td>0.00</td>\n",
              "      <td>1.00</td>\n",
              "    </tr>\n",
              "    <tr>\n",
              "      <th>tenure</th>\n",
              "      <td>7043.0</td>\n",
              "      <td>32.371149</td>\n",
              "      <td>24.559481</td>\n",
              "      <td>0.00</td>\n",
              "      <td>9.0</td>\n",
              "      <td>29.00</td>\n",
              "      <td>55.00</td>\n",
              "      <td>72.00</td>\n",
              "    </tr>\n",
              "    <tr>\n",
              "      <th>MonthlyCharges</th>\n",
              "      <td>7043.0</td>\n",
              "      <td>64.761692</td>\n",
              "      <td>30.090047</td>\n",
              "      <td>18.25</td>\n",
              "      <td>35.5</td>\n",
              "      <td>70.35</td>\n",
              "      <td>89.85</td>\n",
              "      <td>118.75</td>\n",
              "    </tr>\n",
              "  </tbody>\n",
              "</table>\n",
              "</div>"
            ],
            "text/plain": [
              "                 count       mean        std    min   25%    50%    75%     max\n",
              "SeniorCitizen   7043.0   0.162147   0.368612   0.00   0.0   0.00   0.00    1.00\n",
              "tenure          7043.0  32.371149  24.559481   0.00   9.0  29.00  55.00   72.00\n",
              "MonthlyCharges  7043.0  64.761692  30.090047  18.25  35.5  70.35  89.85  118.75"
            ]
          },
          "metadata": {
            "tags": []
          },
          "execution_count": 7
        }
      ]
    },
    {
      "cell_type": "code",
      "metadata": {
        "id": "q2GrZ4seN0Q-",
        "outputId": "bc1cdde5-0430-4138-83d5-ef021eae7809",
        "colab": {
          "base_uri": "https://localhost:8080/",
          "height": 339
        }
      },
      "source": [
        "df.corr()['MonthlyCharges'][:-1].sort_values().plot(kind='bar')"
      ],
      "execution_count": 8,
      "outputs": [
        {
          "output_type": "execute_result",
          "data": {
            "text/plain": [
              "<matplotlib.axes._subplots.AxesSubplot at 0x7fa3f600d438>"
            ]
          },
          "metadata": {
            "tags": []
          },
          "execution_count": 8
        },
        {
          "output_type": "display_data",
          "data": {
            "image/png": "[encoded data removed]",
            "text/plain": [
              "<Figure size 432x288 with 1 Axes>"
            ]
          },
          "metadata": {
            "tags": [],
            "needs_background": "light"
          }
        }
      ]
    },
    {
      "cell_type": "markdown",
      "metadata": {
        "id": "VX4ryIIbN0RB"
      },
      "source": [
        "### ④ 데이터 전처리"
      ]
    },
    {
      "cell_type": "code",
      "metadata": {
        "id": "fCzm3xM_N0RB"
      },
      "source": [
        "df.drop('customerID', axis=1, inplace=True)"
      ],
      "execution_count": 9,
      "outputs": []
    },
    {
      "cell_type": "code",
      "metadata": {
        "id": "dyv8UlIoN0RD"
      },
      "source": [
        "df['TotalCharges'].replace([' '], ['0'], inplace=True)"
      ],
      "execution_count": 10,
      "outputs": []
    },
    {
      "cell_type": "code",
      "metadata": {
        "id": "-bTsbGvrN0RF"
      },
      "source": [
        "df['TotalCharges'] = df['TotalCharges'].astype(float)"
      ],
      "execution_count": 11,
      "outputs": []
    },
    {
      "cell_type": "code",
      "metadata": {
        "id": "jzKmsyC3N0RJ"
      },
      "source": [
        "df['Churn'].replace(['Yes', 'No'], [1, 0], inplace=True)"
      ],
      "execution_count": 12,
      "outputs": []
    },
    {
      "cell_type": "markdown",
      "metadata": {
        "id": "CH8yRgRJN0RL"
      },
      "source": [
        "### 더미 특성 생성"
      ]
    },
    {
      "cell_type": "code",
      "metadata": {
        "id": "pBscxsmxN0RL"
      },
      "source": [
        "cols = ['gender', 'Partner', 'Dependents', 'PhoneService', 'MultipleLines', \n",
        "        'InternetService', 'OnlineSecurity', 'OnlineBackup', 'DeviceProtection', \n",
        "        'TechSupport', 'StreamingTV', 'StreamingMovies', 'Contract', \n",
        "        'PaperlessBilling', 'PaymentMethod']"
      ],
      "execution_count": 13,
      "outputs": []
    },
    {
      "cell_type": "code",
      "metadata": {
        "id": "Ptua1SohN0RN"
      },
      "source": [
        "dummies = pd.get_dummies(df[cols], drop_first=True)"
      ],
      "execution_count": 14,
      "outputs": []
    },
    {
      "cell_type": "code",
      "metadata": {
        "id": "1UiwFJqtN0RP"
      },
      "source": [
        "df = df.drop(cols, axis=1)"
      ],
      "execution_count": 15,
      "outputs": []
    },
    {
      "cell_type": "code",
      "metadata": {
        "id": "RPoReDtZN0RR"
      },
      "source": [
        "df = pd.concat([df, dummies], axis=1)"
      ],
      "execution_count": 16,
      "outputs": []
    },
    {
      "cell_type": "code",
      "metadata": {
        "id": "MM8dT2HCN0RT"
      },
      "source": [
        "# df = pd.get_dummies(df)\n",
        "# cols = list(df.select_dtypes('object').columns)"
      ],
      "execution_count": 17,
      "outputs": []
    },
    {
      "cell_type": "markdown",
      "metadata": {
        "id": "iQVGSPo3N0RU"
      },
      "source": [
        "### ⑤ Train, Test  데이터셋 분할"
      ]
    },
    {
      "cell_type": "code",
      "metadata": {
        "id": "jTAkuI56N0RV"
      },
      "source": [
        "from sklearn.model_selection import train_test_split"
      ],
      "execution_count": 18,
      "outputs": []
    },
    {
      "cell_type": "code",
      "metadata": {
        "id": "cZqvLi-LN0RX"
      },
      "source": [
        "X = df.drop('Churn', axis=1).values\n",
        "y = df['Churn'].values"
      ],
      "execution_count": 19,
      "outputs": []
    },
    {
      "cell_type": "code",
      "metadata": {
        "id": "doPPbBCxN0RZ"
      },
      "source": [
        "X_train, X_test, y_train, y_test = train_test_split(X, y, \n",
        "                                                    test_size=0.3, \n",
        "                                                    random_state=42)"
      ],
      "execution_count": 20,
      "outputs": []
    },
    {
      "cell_type": "code",
      "metadata": {
        "id": "x_8r0YJ5N0Ra",
        "outputId": "3d8da6de-8fbc-4c75-c5c4-26db2601dc1b",
        "colab": {
          "base_uri": "https://localhost:8080/",
          "height": 35
        }
      },
      "source": [
        "X_train.shape"
      ],
      "execution_count": 21,
      "outputs": [
        {
          "output_type": "execute_result",
          "data": {
            "text/plain": [
              "(4930, 30)"
            ]
          },
          "metadata": {
            "tags": []
          },
          "execution_count": 21
        }
      ]
    },
    {
      "cell_type": "code",
      "metadata": {
        "id": "x2xCBSXjN0Rc",
        "outputId": "aa57196a-2c23-47e5-96ab-ecc0a0659986",
        "colab": {
          "base_uri": "https://localhost:8080/",
          "height": 35
        }
      },
      "source": [
        "y_train.shape"
      ],
      "execution_count": 22,
      "outputs": [
        {
          "output_type": "execute_result",
          "data": {
            "text/plain": [
              "(4930,)"
            ]
          },
          "metadata": {
            "tags": []
          },
          "execution_count": 22
        }
      ]
    },
    {
      "cell_type": "markdown",
      "metadata": {
        "id": "dT0CC90BN0Re"
      },
      "source": [
        "### 데이터 정규화/스케일링(Normalizing/Scaling)"
      ]
    },
    {
      "cell_type": "code",
      "metadata": {
        "id": "Q33McwdxN0Rf"
      },
      "source": [
        "from sklearn.preprocessing import MinMaxScaler"
      ],
      "execution_count": 23,
      "outputs": []
    },
    {
      "cell_type": "code",
      "metadata": {
        "id": "EJZ_FGh0N0Ri"
      },
      "source": [
        "scaler = MinMaxScaler()\n",
        "scaler.fit(X_train)\n",
        "X_train = scaler.transform(X_train)\n",
        "X_test = scaler.transform(X_test)"
      ],
      "execution_count": 25,
      "outputs": []
    },
    {
      "cell_type": "markdown",
      "metadata": {
        "id": "-URhNqAON0Rk"
      },
      "source": [
        "### 모델 입력갯수, 출력갯수 확인"
      ]
    },
    {
      "cell_type": "code",
      "metadata": {
        "id": "D_PSMSSAN0Rk",
        "outputId": "1b1509d5-c3e2-482e-d69e-e725e229dbe7",
        "colab": {
          "base_uri": "https://localhost:8080/",
          "height": 35
        }
      },
      "source": [
        "X_train.shape"
      ],
      "execution_count": 26,
      "outputs": [
        {
          "output_type": "execute_result",
          "data": {
            "text/plain": [
              "(4930, 30)"
            ]
          },
          "metadata": {
            "tags": []
          },
          "execution_count": 26
        }
      ]
    },
    {
      "cell_type": "code",
      "metadata": {
        "id": "s5do7xS4N0Rn",
        "outputId": "7ab0c78e-777c-43dd-cc0f-16573afd8dcf",
        "colab": {
          "base_uri": "https://localhost:8080/",
          "height": 35
        }
      },
      "source": [
        "y_train.shape"
      ],
      "execution_count": 27,
      "outputs": [
        {
          "output_type": "execute_result",
          "data": {
            "text/plain": [
              "(4930,)"
            ]
          },
          "metadata": {
            "tags": []
          },
          "execution_count": 27
        }
      ]
    },
    {
      "cell_type": "markdown",
      "metadata": {
        "id": "QKTvnXENN0Ro"
      },
      "source": [
        "### ⑦ 모델 개발"
      ]
    },
    {
      "cell_type": "code",
      "metadata": {
        "id": "RzUCIdxEN0Rp"
      },
      "source": [
        "model = Sequential()\n",
        "\n",
        "# input layer\n",
        "model.add(Dense(64, activation='relu', input_shape=(30,)))\n",
        "\n",
        "# hidden layer\n",
        "model.add(Dense(64, activation='relu'))\n",
        "\n",
        "# hidden layer\n",
        "model.add(Dense(32, activation='relu'))\n",
        "\n",
        "# output layer\n",
        "model.add(Dense(1, activation='sigmoid'))"
      ],
      "execution_count": 28,
      "outputs": []
    },
    {
      "cell_type": "markdown",
      "metadata": {
        "id": "Ds9ucCYRN0Rq"
      },
      "source": [
        "### 모델 구성 -  과적합 방지"
      ]
    },
    {
      "cell_type": "code",
      "metadata": {
        "id": "1B1HZmsEN0Rr"
      },
      "source": [
        "model = Sequential()\n",
        "model.add(Dense(128, activation='relu', input_shape=(30,)))\n",
        "model.add(Dropout(0.5))\n",
        "model.add(Dense(64, activation='relu'))\n",
        "model.add(Dropout(0.5))\n",
        "model.add(Dense(64, activation='relu'))\n",
        "model.add(Dropout(0.5))\n",
        "model.add(Dense(32, activation='relu'))\n",
        "model.add(Dropout(0.5))\n",
        "\n",
        "model.add(Dense(1, activation='sigmoid'))"
      ],
      "execution_count": 29,
      "outputs": []
    },
    {
      "cell_type": "markdown",
      "metadata": {
        "id": "aIQ7Q-4lN0Rs"
      },
      "source": [
        "### 모델 확인"
      ]
    },
    {
      "cell_type": "code",
      "metadata": {
        "id": "zJsWyDzLN0Rt",
        "outputId": "24042446-7976-4ff9-950b-87b6e0c42ca0",
        "colab": {
          "base_uri": "https://localhost:8080/",
          "height": 488
        }
      },
      "source": [
        "model.summary()"
      ],
      "execution_count": 30,
      "outputs": [
        {
          "output_type": "stream",
          "text": [
            "Model: \"sequential_1\"\n",
            "_________________________________________________________________\n",
            "Layer (type)                 Output Shape              Param #   \n",
            "=================================================================\n",
            "dense_4 (Dense)              (None, 128)               3968      \n",
            "_________________________________________________________________\n",
            "dropout (Dropout)            (None, 128)               0         \n",
            "_________________________________________________________________\n",
            "dense_5 (Dense)              (None, 64)                8256      \n",
            "_________________________________________________________________\n",
            "dropout_1 (Dropout)          (None, 64)                0         \n",
            "_________________________________________________________________\n",
            "dense_6 (Dense)              (None, 64)                4160      \n",
            "_________________________________________________________________\n",
            "dropout_2 (Dropout)          (None, 64)                0         \n",
            "_________________________________________________________________\n",
            "dense_7 (Dense)              (None, 32)                2080      \n",
            "_________________________________________________________________\n",
            "dropout_3 (Dropout)          (None, 32)                0         \n",
            "_________________________________________________________________\n",
            "dense_8 (Dense)              (None, 1)                 33        \n",
            "=================================================================\n",
            "Total params: 18,497\n",
            "Trainable params: 18,497\n",
            "Non-trainable params: 0\n",
            "_________________________________________________________________\n"
          ],
          "name": "stdout"
        }
      ]
    },
    {
      "cell_type": "code",
      "metadata": {
        "id": "V91IB3QXN0Ru"
      },
      "source": [
        "hidden1 = model.layers[0]"
      ],
      "execution_count": 31,
      "outputs": []
    },
    {
      "cell_type": "code",
      "metadata": {
        "id": "DCGSF9xGN0Rw"
      },
      "source": [
        "weights, biases = hidden1.get_weights()"
      ],
      "execution_count": 32,
      "outputs": []
    },
    {
      "cell_type": "code",
      "metadata": {
        "id": "x2TV9WTgN0Ry",
        "outputId": "c8fbf312-0684-4c24-b152-b60e454687c8",
        "colab": {
          "base_uri": "https://localhost:8080/",
          "height": 253
        }
      },
      "source": [
        "print(weights)"
      ],
      "execution_count": 33,
      "outputs": [
        {
          "output_type": "stream",
          "text": [
            "[[-0.01927145 -0.07650016 -0.11759464 ...  0.12004872 -0.00664181\n",
            "  -0.13329591]\n",
            " [-0.0772696   0.03455219 -0.14869034 ... -0.01407675  0.12691478\n",
            "   0.05334124]\n",
            " [-0.10758865 -0.15280978  0.13448052 ...  0.04992771 -0.09896045\n",
            "  -0.10824621]\n",
            " ...\n",
            " [ 0.17804371 -0.10979512  0.01223779 ...  0.17946313  0.14327352\n",
            "  -0.1384039 ]\n",
            " [-0.13291702 -0.14535904  0.13033746 ... -0.03088842  0.10575257\n",
            "  -0.07764426]\n",
            " [-0.0085842  -0.04052952 -0.18955186 ... -0.07392832  0.11392103\n",
            "   0.15459366]]\n"
          ],
          "name": "stdout"
        }
      ]
    },
    {
      "cell_type": "code",
      "metadata": {
        "id": "SLIjkJMMN0Rz",
        "outputId": "c681c63e-c975-4c75-de3d-6011e48c4de7",
        "colab": {
          "base_uri": "https://localhost:8080/",
          "height": 126
        }
      },
      "source": [
        "print(biases)"
      ],
      "execution_count": 34,
      "outputs": [
        {
          "output_type": "stream",
          "text": [
            "[0. 0. 0. 0. 0. 0. 0. 0. 0. 0. 0. 0. 0. 0. 0. 0. 0. 0. 0. 0. 0. 0. 0. 0.\n",
            " 0. 0. 0. 0. 0. 0. 0. 0. 0. 0. 0. 0. 0. 0. 0. 0. 0. 0. 0. 0. 0. 0. 0. 0.\n",
            " 0. 0. 0. 0. 0. 0. 0. 0. 0. 0. 0. 0. 0. 0. 0. 0. 0. 0. 0. 0. 0. 0. 0. 0.\n",
            " 0. 0. 0. 0. 0. 0. 0. 0. 0. 0. 0. 0. 0. 0. 0. 0. 0. 0. 0. 0. 0. 0. 0. 0.\n",
            " 0. 0. 0. 0. 0. 0. 0. 0. 0. 0. 0. 0. 0. 0. 0. 0. 0. 0. 0. 0. 0. 0. 0. 0.\n",
            " 0. 0. 0. 0. 0. 0. 0. 0.]\n"
          ],
          "name": "stdout"
        }
      ]
    },
    {
      "cell_type": "markdown",
      "metadata": {
        "id": "9G_LYFVGN0R1"
      },
      "source": [
        "#### 모델 컴파일 – 이진 분류 모델"
      ]
    },
    {
      "cell_type": "code",
      "metadata": {
        "id": "pd-QUI7oN0R1"
      },
      "source": [
        "model.compile(optimizer='adam', \n",
        "              loss='binary_crossentropy', \n",
        "              metrics=['acc']) "
      ],
      "execution_count": 35,
      "outputs": []
    },
    {
      "cell_type": "markdown",
      "metadata": {
        "id": "5i19MOqMN0R3"
      },
      "source": [
        "- 모델 컴파일 – 다중 분류 모델  \n",
        "model.compile(optimizer='adam', \n",
        "              loss='categorical_crossentropy', \n",
        "              metrics=['accuracy']) \n"
      ]
    },
    {
      "cell_type": "markdown",
      "metadata": {
        "id": "RvdaIM43N0R4"
      },
      "source": [
        "- 모델 컴파일 – 예측 모델\n",
        "model.compile(optimizer='adam', loss='mse')"
      ]
    },
    {
      "cell_type": "markdown",
      "metadata": {
        "id": "H2nosCESN0R4"
      },
      "source": [
        "### 모델 훈련(학습) 하기"
      ]
    },
    {
      "cell_type": "code",
      "metadata": {
        "id": "MMOkRIMjN0R4",
        "outputId": "c2011c90-05d5-4156-ca5f-fe144a564d14",
        "colab": {
          "base_uri": "https://localhost:8080/",
          "height": 760
        }
      },
      "source": [
        "model.fit(X_train, y_train, \n",
        "          validation_data=(X_test, y_test),\n",
        "          epochs=20, \n",
        "          batch_size=10)"
      ],
      "execution_count": 36,
      "outputs": [
        {
          "output_type": "stream",
          "text": [
            "Epoch 1/20\n",
            "493/493 [==============================] - 2s 3ms/step - loss: 0.5381 - acc: 0.7270 - val_loss: 0.4720 - val_acc: 0.7283\n",
            "Epoch 2/20\n",
            "493/493 [==============================] - 1s 3ms/step - loss: 0.4813 - acc: 0.7416 - val_loss: 0.4432 - val_acc: 0.7960\n",
            "Epoch 3/20\n",
            "493/493 [==============================] - 1s 3ms/step - loss: 0.4789 - acc: 0.7700 - val_loss: 0.4339 - val_acc: 0.7979\n",
            "Epoch 4/20\n",
            "493/493 [==============================] - 1s 3ms/step - loss: 0.4667 - acc: 0.7828 - val_loss: 0.4347 - val_acc: 0.8036\n",
            "Epoch 5/20\n",
            "493/493 [==============================] - 1s 3ms/step - loss: 0.4565 - acc: 0.7848 - val_loss: 0.4563 - val_acc: 0.7918\n",
            "Epoch 6/20\n",
            "493/493 [==============================] - 1s 3ms/step - loss: 0.4555 - acc: 0.7844 - val_loss: 0.4394 - val_acc: 0.8008\n",
            "Epoch 7/20\n",
            "493/493 [==============================] - 1s 3ms/step - loss: 0.4516 - acc: 0.7860 - val_loss: 0.4297 - val_acc: 0.7974\n",
            "Epoch 8/20\n",
            "493/493 [==============================] - 2s 3ms/step - loss: 0.4483 - acc: 0.7880 - val_loss: 0.4191 - val_acc: 0.8055\n",
            "Epoch 9/20\n",
            "493/493 [==============================] - 1s 3ms/step - loss: 0.4492 - acc: 0.7892 - val_loss: 0.4349 - val_acc: 0.7998\n",
            "Epoch 10/20\n",
            "493/493 [==============================] - 1s 3ms/step - loss: 0.4473 - acc: 0.7882 - val_loss: 0.4297 - val_acc: 0.8017\n",
            "Epoch 11/20\n",
            "493/493 [==============================] - 1s 3ms/step - loss: 0.4343 - acc: 0.7945 - val_loss: 0.4211 - val_acc: 0.8036\n",
            "Epoch 12/20\n",
            "493/493 [==============================] - 2s 3ms/step - loss: 0.4475 - acc: 0.7949 - val_loss: 0.4231 - val_acc: 0.7965\n",
            "Epoch 13/20\n",
            "493/493 [==============================] - 2s 3ms/step - loss: 0.4407 - acc: 0.7957 - val_loss: 0.4185 - val_acc: 0.8045\n",
            "Epoch 14/20\n",
            "493/493 [==============================] - 2s 3ms/step - loss: 0.4394 - acc: 0.8006 - val_loss: 0.4239 - val_acc: 0.8003\n",
            "Epoch 15/20\n",
            "493/493 [==============================] - 2s 3ms/step - loss: 0.4362 - acc: 0.7933 - val_loss: 0.4279 - val_acc: 0.8064\n",
            "Epoch 16/20\n",
            "493/493 [==============================] - 1s 3ms/step - loss: 0.4395 - acc: 0.7953 - val_loss: 0.4222 - val_acc: 0.8041\n",
            "Epoch 17/20\n",
            "493/493 [==============================] - 1s 3ms/step - loss: 0.4364 - acc: 0.7986 - val_loss: 0.4236 - val_acc: 0.7998\n",
            "Epoch 18/20\n",
            "493/493 [==============================] - 2s 3ms/step - loss: 0.4346 - acc: 0.8006 - val_loss: 0.4291 - val_acc: 0.8012\n",
            "Epoch 19/20\n",
            "493/493 [==============================] - 1s 3ms/step - loss: 0.4327 - acc: 0.7998 - val_loss: 0.4261 - val_acc: 0.8050\n",
            "Epoch 20/20\n",
            "493/493 [==============================] - 1s 3ms/step - loss: 0.4348 - acc: 0.7976 - val_loss: 0.4194 - val_acc: 0.8074\n"
          ],
          "name": "stdout"
        },
        {
          "output_type": "execute_result",
          "data": {
            "text/plain": [
              "<tensorflow.python.keras.callbacks.History at 0x7fa3e036fe48>"
            ]
          },
          "metadata": {
            "tags": []
          },
          "execution_count": 36
        }
      ]
    },
    {
      "cell_type": "markdown",
      "metadata": {
        "id": "rDPeB-g9N0R6"
      },
      "source": [
        "### 모델 훈련(학습) - 조기종료"
      ]
    },
    {
      "cell_type": "code",
      "metadata": {
        "id": "4dBvzqrWN0R7"
      },
      "source": [
        "from tensorflow.keras.callbacks import EarlyStopping, ModelCheckpoint"
      ],
      "execution_count": 37,
      "outputs": []
    },
    {
      "cell_type": "code",
      "metadata": {
        "id": "BPYXJgvUN0R8"
      },
      "source": [
        "early_stop = EarlyStopping(monitor='val_loss', mode='min', \n",
        "                           verbose=1, patience=25)"
      ],
      "execution_count": 38,
      "outputs": []
    },
    {
      "cell_type": "code",
      "metadata": {
        "id": "bAe5GPGuN0R-"
      },
      "source": [
        "check_point = ModelCheckpoint('best_model.h5', verbose=1,\n",
        "                              monitor='val_loss', mode='min', \n",
        "                              save_best_only=True)"
      ],
      "execution_count": 39,
      "outputs": []
    },
    {
      "cell_type": "code",
      "metadata": {
        "id": "DcmKrkt4N0SA",
        "outputId": "3b1c5b13-9c19-4f6f-99e3-781622bdde96",
        "colab": {
          "base_uri": "https://localhost:8080/",
          "height": 1000
        }
      },
      "source": [
        "history = model.fit(x=X_train, y=y_train, \n",
        "          epochs=50 , batch_size=20,\n",
        "          validation_data=(X_test, y_test), \n",
        "          verbose=1,\n",
        "          callbacks=[early_stop, check_point])"
      ],
      "execution_count": 40,
      "outputs": [
        {
          "output_type": "stream",
          "text": [
            "Epoch 1/50\n",
            "244/247 [============================>.] - ETA: 0s - loss: 0.4232 - acc: 0.8070\n",
            "Epoch 00001: val_loss improved from inf to 0.41726, saving model to best_model.h5\n",
            "247/247 [==============================] - 1s 4ms/step - loss: 0.4236 - acc: 0.8065 - val_loss: 0.4173 - val_acc: 0.8055\n",
            "Epoch 2/50\n",
            "231/247 [===========================>..] - ETA: 0s - loss: 0.4238 - acc: 0.8093\n",
            "Epoch 00002: val_loss did not improve from 0.41726\n",
            "247/247 [==============================] - 1s 4ms/step - loss: 0.4245 - acc: 0.8075 - val_loss: 0.4265 - val_acc: 0.8083\n",
            "Epoch 3/50\n",
            "245/247 [============================>.] - ETA: 0s - loss: 0.4210 - acc: 0.8096\n",
            "Epoch 00003: val_loss did not improve from 0.41726\n",
            "247/247 [==============================] - 1s 4ms/step - loss: 0.4211 - acc: 0.8101 - val_loss: 0.4240 - val_acc: 0.8069\n",
            "Epoch 4/50\n",
            "238/247 [===========================>..] - ETA: 0s - loss: 0.4234 - acc: 0.8082\n",
            "Epoch 00004: val_loss did not improve from 0.41726\n",
            "247/247 [==============================] - 1s 4ms/step - loss: 0.4226 - acc: 0.8079 - val_loss: 0.4210 - val_acc: 0.8074\n",
            "Epoch 5/50\n",
            "232/247 [===========================>..] - ETA: 0s - loss: 0.4204 - acc: 0.8097\n",
            "Epoch 00005: val_loss did not improve from 0.41726\n",
            "247/247 [==============================] - 1s 4ms/step - loss: 0.4183 - acc: 0.8114 - val_loss: 0.4214 - val_acc: 0.8074\n",
            "Epoch 6/50\n",
            "234/247 [===========================>..] - ETA: 0s - loss: 0.4240 - acc: 0.8094\n",
            "Epoch 00006: val_loss did not improve from 0.41726\n",
            "247/247 [==============================] - 1s 4ms/step - loss: 0.4210 - acc: 0.8114 - val_loss: 0.4241 - val_acc: 0.8031\n",
            "Epoch 7/50\n",
            "247/247 [==============================] - ETA: 0s - loss: 0.4182 - acc: 0.8213\n",
            "Epoch 00007: val_loss did not improve from 0.41726\n",
            "247/247 [==============================] - 1s 4ms/step - loss: 0.4182 - acc: 0.8213 - val_loss: 0.4211 - val_acc: 0.8031\n",
            "Epoch 8/50\n",
            "246/247 [============================>.] - ETA: 0s - loss: 0.4220 - acc: 0.8061\n",
            "Epoch 00008: val_loss did not improve from 0.41726\n",
            "247/247 [==============================] - 1s 4ms/step - loss: 0.4216 - acc: 0.8065 - val_loss: 0.4282 - val_acc: 0.7993\n",
            "Epoch 9/50\n",
            "243/247 [============================>.] - ETA: 0s - loss: 0.4146 - acc: 0.8119\n",
            "Epoch 00009: val_loss did not improve from 0.41726\n",
            "247/247 [==============================] - 1s 4ms/step - loss: 0.4149 - acc: 0.8118 - val_loss: 0.4224 - val_acc: 0.8012\n",
            "Epoch 10/50\n",
            "242/247 [============================>.] - ETA: 0s - loss: 0.4168 - acc: 0.8118\n",
            "Epoch 00010: val_loss did not improve from 0.41726\n",
            "247/247 [==============================] - 1s 4ms/step - loss: 0.4169 - acc: 0.8118 - val_loss: 0.4243 - val_acc: 0.8050\n",
            "Epoch 11/50\n",
            "237/247 [===========================>..] - ETA: 0s - loss: 0.4192 - acc: 0.8091\n",
            "Epoch 00011: val_loss did not improve from 0.41726\n",
            "247/247 [==============================] - 1s 4ms/step - loss: 0.4187 - acc: 0.8093 - val_loss: 0.4257 - val_acc: 0.7993\n",
            "Epoch 12/50\n",
            "230/247 [==========================>...] - ETA: 0s - loss: 0.4156 - acc: 0.8087\n",
            "Epoch 00012: val_loss did not improve from 0.41726\n",
            "247/247 [==============================] - 1s 4ms/step - loss: 0.4191 - acc: 0.8053 - val_loss: 0.4308 - val_acc: 0.7989\n",
            "Epoch 13/50\n",
            "247/247 [==============================] - ETA: 0s - loss: 0.4143 - acc: 0.8089\n",
            "Epoch 00013: val_loss did not improve from 0.41726\n",
            "247/247 [==============================] - 1s 4ms/step - loss: 0.4143 - acc: 0.8089 - val_loss: 0.4269 - val_acc: 0.8012\n",
            "Epoch 14/50\n",
            "246/247 [============================>.] - ETA: 0s - loss: 0.4132 - acc: 0.8124\n",
            "Epoch 00014: val_loss did not improve from 0.41726\n",
            "247/247 [==============================] - 1s 4ms/step - loss: 0.4131 - acc: 0.8124 - val_loss: 0.4281 - val_acc: 0.7998\n",
            "Epoch 15/50\n",
            "245/247 [============================>.] - ETA: 0s - loss: 0.4129 - acc: 0.8167\n",
            "Epoch 00015: val_loss did not improve from 0.41726\n",
            "247/247 [==============================] - 1s 4ms/step - loss: 0.4128 - acc: 0.8168 - val_loss: 0.4311 - val_acc: 0.7932\n",
            "Epoch 16/50\n",
            "239/247 [============================>.] - ETA: 0s - loss: 0.4124 - acc: 0.8065\n",
            "Epoch 00016: val_loss did not improve from 0.41726\n",
            "247/247 [==============================] - 1s 4ms/step - loss: 0.4114 - acc: 0.8071 - val_loss: 0.4343 - val_acc: 0.7979\n",
            "Epoch 17/50\n",
            "230/247 [==========================>...] - ETA: 0s - loss: 0.4084 - acc: 0.8117\n",
            "Epoch 00017: val_loss did not improve from 0.41726\n",
            "247/247 [==============================] - 1s 4ms/step - loss: 0.4103 - acc: 0.8103 - val_loss: 0.4311 - val_acc: 0.7979\n",
            "Epoch 18/50\n",
            "244/247 [============================>.] - ETA: 0s - loss: 0.4074 - acc: 0.8156\n",
            "Epoch 00018: val_loss did not improve from 0.41726\n",
            "247/247 [==============================] - 1s 4ms/step - loss: 0.4080 - acc: 0.8152 - val_loss: 0.4284 - val_acc: 0.7993\n",
            "Epoch 19/50\n",
            "231/247 [===========================>..] - ETA: 0s - loss: 0.4028 - acc: 0.8180\n",
            "Epoch 00019: val_loss did not improve from 0.41726\n",
            "247/247 [==============================] - 1s 4ms/step - loss: 0.4054 - acc: 0.8166 - val_loss: 0.4284 - val_acc: 0.8008\n",
            "Epoch 20/50\n",
            "242/247 [============================>.] - ETA: 0s - loss: 0.4072 - acc: 0.8110\n",
            "Epoch 00020: val_loss did not improve from 0.41726\n",
            "247/247 [==============================] - 1s 4ms/step - loss: 0.4068 - acc: 0.8114 - val_loss: 0.4254 - val_acc: 0.8036\n",
            "Epoch 21/50\n",
            "234/247 [===========================>..] - ETA: 0s - loss: 0.4078 - acc: 0.8165\n",
            "Epoch 00021: val_loss did not improve from 0.41726\n",
            "247/247 [==============================] - 1s 4ms/step - loss: 0.4098 - acc: 0.8158 - val_loss: 0.4320 - val_acc: 0.8003\n",
            "Epoch 22/50\n",
            "233/247 [===========================>..] - ETA: 0s - loss: 0.4097 - acc: 0.8204\n",
            "Epoch 00022: val_loss did not improve from 0.41726\n",
            "247/247 [==============================] - 1s 4ms/step - loss: 0.4093 - acc: 0.8207 - val_loss: 0.4337 - val_acc: 0.7993\n",
            "Epoch 23/50\n",
            "245/247 [============================>.] - ETA: 0s - loss: 0.4083 - acc: 0.8131\n",
            "Epoch 00023: val_loss did not improve from 0.41726\n",
            "247/247 [==============================] - 1s 4ms/step - loss: 0.4080 - acc: 0.8132 - val_loss: 0.4304 - val_acc: 0.7979\n",
            "Epoch 24/50\n",
            "244/247 [============================>.] - ETA: 0s - loss: 0.4059 - acc: 0.8131\n",
            "Epoch 00024: val_loss did not improve from 0.41726\n",
            "247/247 [==============================] - 1s 4ms/step - loss: 0.4063 - acc: 0.8130 - val_loss: 0.4335 - val_acc: 0.7965\n",
            "Epoch 25/50\n",
            "245/247 [============================>.] - ETA: 0s - loss: 0.4084 - acc: 0.8114\n",
            "Epoch 00025: val_loss did not improve from 0.41726\n",
            "247/247 [==============================] - 1s 4ms/step - loss: 0.4092 - acc: 0.8112 - val_loss: 0.4379 - val_acc: 0.7960\n",
            "Epoch 26/50\n",
            "241/247 [============================>.] - ETA: 0s - loss: 0.4061 - acc: 0.8145\n",
            "Epoch 00026: val_loss did not improve from 0.41726\n",
            "247/247 [==============================] - 1s 4ms/step - loss: 0.4056 - acc: 0.8152 - val_loss: 0.4326 - val_acc: 0.7998\n",
            "Epoch 00026: early stopping\n"
          ],
          "name": "stdout"
        }
      ]
    },
    {
      "cell_type": "markdown",
      "metadata": {
        "id": "e65l8kArN0SC"
      },
      "source": [
        "### ⑧ 모델 성능 평가"
      ]
    },
    {
      "cell_type": "code",
      "metadata": {
        "id": "UfIWKq7sN0SD",
        "outputId": "6b990b88-462e-4bbf-9c12-7727e0684e3f",
        "colab": {
          "base_uri": "https://localhost:8080/",
          "height": 295
        }
      },
      "source": [
        "plt.plot(history.history['acc'])\n",
        "plt.plot(history.history['val_acc'])\n",
        "plt.title('Accuracy')\n",
        "plt.xlabel('Epochs')\n",
        "plt.ylabel('Acc')\n",
        "plt.legend(['acc', 'val_acc'])\n",
        "plt.show()"
      ],
      "execution_count": 41,
      "outputs": [
        {
          "output_type": "display_data",
          "data": {
            "image/png": "[encoded data removed]",
            "text/plain": [
              "<Figure size 432x288 with 1 Axes>"
            ]
          },
          "metadata": {
            "tags": [],
            "needs_background": "light"
          }
        }
      ]
    },
    {
      "cell_type": "code",
      "metadata": {
        "id": "N_ryfv1wN0SF"
      },
      "source": [
        "from sklearn.metrics import classification_report,confusion_matrix"
      ],
      "execution_count": 42,
      "outputs": []
    },
    {
      "cell_type": "code",
      "metadata": {
        "id": "mdztBJykN0SH",
        "outputId": "791e05d5-f6fc-463e-a378-9552ea340870",
        "colab": {
          "base_uri": "https://localhost:8080/",
          "height": 91
        }
      },
      "source": [
        "predictions = model.predict_classes(X_test)"
      ],
      "execution_count": 43,
      "outputs": [
        {
          "output_type": "stream",
          "text": [
            "WARNING:tensorflow:From <ipython-input-43-bc83193b8b59>:1: Sequential.predict_classes (from tensorflow.python.keras.engine.sequential) is deprecated and will be removed after 2021-01-01.\n",
            "Instructions for updating:\n",
            "Please use instead:* `np.argmax(model.predict(x), axis=-1)`,   if your model does multi-class classification   (e.g. if it uses a `softmax` last-layer activation).* `(model.predict(x) > 0.5).astype(\"int32\")`,   if your model does binary classification   (e.g. if it uses a `sigmoid` last-layer activation).\n"
          ],
          "name": "stdout"
        }
      ]
    },
    {
      "cell_type": "code",
      "metadata": {
        "id": "3GHbSaPUN0SJ",
        "outputId": "2dd0723d-766a-41d5-eb90-8dfa2ffe75b3",
        "colab": {
          "base_uri": "https://localhost:8080/",
          "height": 180
        }
      },
      "source": [
        "print(classification_report(y_test,predictions))"
      ],
      "execution_count": 44,
      "outputs": [
        {
          "output_type": "stream",
          "text": [
            "              precision    recall  f1-score   support\n",
            "\n",
            "           0       0.84      0.89      0.87      1539\n",
            "           1       0.66      0.55      0.60       574\n",
            "\n",
            "    accuracy                           0.80      2113\n",
            "   macro avg       0.75      0.72      0.73      2113\n",
            "weighted avg       0.79      0.80      0.79      2113\n",
            "\n"
          ],
          "name": "stdout"
        }
      ]
    },
    {
      "cell_type": "code",
      "metadata": {
        "id": "sghv-5ycN0SL",
        "outputId": "ae4ba1c6-e933-425b-b221-3e18d95787f0",
        "colab": {
          "base_uri": "https://localhost:8080/",
          "height": 53
        }
      },
      "source": [
        "print(confusion_matrix(y_test,predictions))"
      ],
      "execution_count": 45,
      "outputs": [
        {
          "output_type": "stream",
          "text": [
            "[[1374  165]\n",
            " [ 258  316]]\n"
          ],
          "name": "stdout"
        }
      ]
    },
    {
      "cell_type": "code",
      "metadata": {
        "id": "dF38OJsUN0SP"
      },
      "source": [
        ""
      ],
      "execution_count": 45,
      "outputs": []
    },
    {
      "cell_type": "code",
      "metadata": {
        "id": "FOP-r9p5N0SR"
      },
      "source": [
        ""
      ],
      "execution_count": 45,
      "outputs": []
    }
  ]
}