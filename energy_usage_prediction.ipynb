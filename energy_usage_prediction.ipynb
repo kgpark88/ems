{
  "nbformat": 4,
  "nbformat_minor": 0,
  "metadata": {
    "kernelspec": {
      "display_name": "Python 3",
      "language": "python",
      "name": "python3"
    },
    "language_info": {
      "codemirror_mode": {
        "name": "ipython",
        "version": 3
      },
      "file_extension": ".py",
      "mimetype": "text/x-python",
      "name": "python",
      "nbconvert_exporter": "python",
      "pygments_lexer": "ipython3",
      "version": "3.7.6"
    },
    "nav_menu": {},
    "toc": {
      "navigate_menu": true,
      "number_sections": true,
      "sideBar": true,
      "threshold": 6,
      "toc_cell": false,
      "toc_section_display": "block",
      "toc_window_display": false
    },
    "colab": {
      "name": "energy_usage_prediction.ipynb",
      "provenance": [],
      "collapsed_sections": [],
      "include_colab_link": true
    },
    "accelerator": "GPU"
  },
  "cells": [
    {
      "cell_type": "markdown",
      "metadata": {
        "id": "view-in-github",
        "colab_type": "text"
      },
      "source": [
        "<a href=\"https://colab.research.google.com/github/kgpark88/ems/blob/master/energy_usage_prediction.ipynb\" target=\"_parent\"><img src=\"https://colab.research.google.com/assets/colab-badge.svg\" alt=\"Open In Colab\"/></a>"
      ]
    },
    {
      "cell_type": "markdown",
      "metadata": {
        "id": "enmohzXupt-A"
      },
      "source": [
        "## 라이브러리 임포트"
      ]
    },
    {
      "cell_type": "code",
      "metadata": {
        "id": "aAkJFBoWpt-B"
      },
      "source": [
        "import os\n",
        "import numpy as np\n",
        "import pandas as pd\n",
        "import matplotlib.pyplot as plt\n",
        "\n",
        "import tensorflow as tf\n",
        "from tensorflow import keras\n",
        "from tensorflow.keras.models import Sequential, load_model\n",
        "from tensorflow.keras.layers import Dense, LSTM, Activation, Dropout\n",
        "from tensorflow.keras.callbacks import EarlyStopping, ModelCheckpoint\n",
        "\n",
        "from google.colab import auth\n",
        "from google.colab import drive"
      ],
      "execution_count": 1,
      "outputs": []
    },
    {
      "cell_type": "markdown",
      "metadata": {
        "id": "aLU6U-VZtyAh"
      },
      "source": [
        "### 데이터 로드를 위해 구글 드라이브를 연동합니다."
      ]
    },
    {
      "cell_type": "code",
      "metadata": {
        "id": "Lx8J1J-wtvFq",
        "outputId": "f9e1285a-812f-4273-e722-5c78a5e6af8a",
        "colab": {
          "base_uri": "https://localhost:8080/",
          "height": 36
        }
      },
      "source": [
        "drive.mount('/content/gdrive')"
      ],
      "execution_count": 2,
      "outputs": [
        {
          "output_type": "stream",
          "text": [
            "Mounted at /content/gdrive\n"
          ],
          "name": "stdout"
        }
      ]
    },
    {
      "cell_type": "markdown",
      "metadata": {
        "id": "KZyNdLXQbX-S"
      },
      "source": [
        "## 15분 전력사용량 데이터를 로드합니다. "
      ]
    },
    {
      "cell_type": "code",
      "metadata": {
        "id": "iw-NM54YVY-p"
      },
      "source": [
        "colab_dir ='/content/gdrive/My Drive/Colab Notebooks/'\n",
        "file_name = 'power_usage_201.csv'\n",
        "data_file = os.path.join(colab_dir, file_name)\n",
        "\n",
        "df = pd.read_csv(data_file, header = 0, delimiter = ',', quoting = 3)\n",
        "df.index = df['daq_time']"
      ],
      "execution_count": 3,
      "outputs": []
    },
    {
      "cell_type": "markdown",
      "metadata": {
        "id": "NzAWUvNdhxMC"
      },
      "source": [
        "## 데이터를 확인합니다."
      ]
    },
    {
      "cell_type": "code",
      "metadata": {
        "id": "f3RQRgxZKApD",
        "outputId": "a5f1a27f-4f40-4723-f4b8-d8e958f3b147",
        "colab": {
          "base_uri": "https://localhost:8080/",
          "height": 233
        }
      },
      "source": [
        "df.head()"
      ],
      "execution_count": 4,
      "outputs": [
        {
          "output_type": "execute_result",
          "data": {
            "text/html": [
              "<div>\n",
              "<style scoped>\n",
              "    .dataframe tbody tr th:only-of-type {\n",
              "        vertical-align: middle;\n",
              "    }\n",
              "\n",
              "    .dataframe tbody tr th {\n",
              "        vertical-align: top;\n",
              "    }\n",
              "\n",
              "    .dataframe thead th {\n",
              "        text-align: right;\n",
              "    }\n",
              "</style>\n",
              "<table border=\"1\" class=\"dataframe\">\n",
              "  <thead>\n",
              "    <tr style=\"text-align: right;\">\n",
              "      <th></th>\n",
              "      <th>daq_time</th>\n",
              "      <th>power_usage</th>\n",
              "    </tr>\n",
              "    <tr>\n",
              "      <th>daq_time</th>\n",
              "      <th></th>\n",
              "      <th></th>\n",
              "    </tr>\n",
              "  </thead>\n",
              "  <tbody>\n",
              "    <tr>\n",
              "      <th>2011-01-01 00:15</th>\n",
              "      <td>2011-01-01 00:15</td>\n",
              "      <td>235.492958</td>\n",
              "    </tr>\n",
              "    <tr>\n",
              "      <th>2011-01-01 00:30</th>\n",
              "      <td>2011-01-01 00:30</td>\n",
              "      <td>239.436620</td>\n",
              "    </tr>\n",
              "    <tr>\n",
              "      <th>2011-01-01 00:45</th>\n",
              "      <td>2011-01-01 00:45</td>\n",
              "      <td>228.732394</td>\n",
              "    </tr>\n",
              "    <tr>\n",
              "      <th>2011-01-01 01:00</th>\n",
              "      <td>2011-01-01 01:00</td>\n",
              "      <td>230.422535</td>\n",
              "    </tr>\n",
              "    <tr>\n",
              "      <th>2011-01-01 01:15</th>\n",
              "      <td>2011-01-01 01:15</td>\n",
              "      <td>225.352113</td>\n",
              "    </tr>\n",
              "  </tbody>\n",
              "</table>\n",
              "</div>"
            ],
            "text/plain": [
              "                          daq_time  power_usage\n",
              "daq_time                                       \n",
              "2011-01-01 00:15  2011-01-01 00:15   235.492958\n",
              "2011-01-01 00:30  2011-01-01 00:30   239.436620\n",
              "2011-01-01 00:45  2011-01-01 00:45   228.732394\n",
              "2011-01-01 01:00  2011-01-01 01:00   230.422535\n",
              "2011-01-01 01:15  2011-01-01 01:15   225.352113"
            ]
          },
          "metadata": {
            "tags": []
          },
          "execution_count": 4
        }
      ]
    },
    {
      "cell_type": "code",
      "metadata": {
        "id": "INA8ctHUVnCM",
        "outputId": "fa13cdb0-6acf-46a9-c6f7-f0225e378399",
        "colab": {
          "base_uri": "https://localhost:8080/",
          "height": 233
        }
      },
      "source": [
        "df.tail()"
      ],
      "execution_count": 5,
      "outputs": [
        {
          "output_type": "execute_result",
          "data": {
            "text/html": [
              "<div>\n",
              "<style scoped>\n",
              "    .dataframe tbody tr th:only-of-type {\n",
              "        vertical-align: middle;\n",
              "    }\n",
              "\n",
              "    .dataframe tbody tr th {\n",
              "        vertical-align: top;\n",
              "    }\n",
              "\n",
              "    .dataframe thead th {\n",
              "        text-align: right;\n",
              "    }\n",
              "</style>\n",
              "<table border=\"1\" class=\"dataframe\">\n",
              "  <thead>\n",
              "    <tr style=\"text-align: right;\">\n",
              "      <th></th>\n",
              "      <th>daq_time</th>\n",
              "      <th>power_usage</th>\n",
              "    </tr>\n",
              "    <tr>\n",
              "      <th>daq_time</th>\n",
              "      <th></th>\n",
              "      <th></th>\n",
              "    </tr>\n",
              "  </thead>\n",
              "  <tbody>\n",
              "    <tr>\n",
              "      <th>2014-12-31 23:00</th>\n",
              "      <td>2014-12-31 23:00</td>\n",
              "      <td>149.295775</td>\n",
              "    </tr>\n",
              "    <tr>\n",
              "      <th>2014-12-31 23:15</th>\n",
              "      <td>2014-12-31 23:15</td>\n",
              "      <td>151.549296</td>\n",
              "    </tr>\n",
              "    <tr>\n",
              "      <th>2014-12-31 23:30</th>\n",
              "      <td>2014-12-31 23:30</td>\n",
              "      <td>147.042254</td>\n",
              "    </tr>\n",
              "    <tr>\n",
              "      <th>2014-12-31 23:45</th>\n",
              "      <td>2014-12-31 23:45</td>\n",
              "      <td>142.535211</td>\n",
              "    </tr>\n",
              "    <tr>\n",
              "      <th>2015-01-01 00:00</th>\n",
              "      <td>2015-01-01 00:00</td>\n",
              "      <td>143.098592</td>\n",
              "    </tr>\n",
              "  </tbody>\n",
              "</table>\n",
              "</div>"
            ],
            "text/plain": [
              "                          daq_time  power_usage\n",
              "daq_time                                       \n",
              "2014-12-31 23:00  2014-12-31 23:00   149.295775\n",
              "2014-12-31 23:15  2014-12-31 23:15   151.549296\n",
              "2014-12-31 23:30  2014-12-31 23:30   147.042254\n",
              "2014-12-31 23:45  2014-12-31 23:45   142.535211\n",
              "2015-01-01 00:00  2015-01-01 00:00   143.098592"
            ]
          },
          "metadata": {
            "tags": []
          },
          "execution_count": 5
        }
      ]
    },
    {
      "cell_type": "code",
      "metadata": {
        "id": "2mKjVUx7Bf5_",
        "outputId": "d7275b88-cde4-4d61-e5e1-b491db8fc7cc",
        "colab": {
          "base_uri": "https://localhost:8080/",
          "height": 185
        }
      },
      "source": [
        "df.info()"
      ],
      "execution_count": 6,
      "outputs": [
        {
          "output_type": "stream",
          "text": [
            "<class 'pandas.core.frame.DataFrame'>\n",
            "Index: 140256 entries, 2011-01-01 00:15 to 2015-01-01 00:00\n",
            "Data columns (total 2 columns):\n",
            " #   Column       Non-Null Count   Dtype  \n",
            "---  ------       --------------   -----  \n",
            " 0   daq_time     140256 non-null  object \n",
            " 1   power_usage  140256 non-null  float64\n",
            "dtypes: float64(1), object(1)\n",
            "memory usage: 3.2+ MB\n"
          ],
          "name": "stdout"
        }
      ]
    },
    {
      "cell_type": "code",
      "metadata": {
        "id": "K21LYh53hpyh",
        "outputId": "dfa4932f-4718-483e-a863-568da93cfeee",
        "colab": {
          "base_uri": "https://localhost:8080/",
          "height": 294
        }
      },
      "source": [
        "df.describe()"
      ],
      "execution_count": 7,
      "outputs": [
        {
          "output_type": "execute_result",
          "data": {
            "text/html": [
              "<div>\n",
              "<style scoped>\n",
              "    .dataframe tbody tr th:only-of-type {\n",
              "        vertical-align: middle;\n",
              "    }\n",
              "\n",
              "    .dataframe tbody tr th {\n",
              "        vertical-align: top;\n",
              "    }\n",
              "\n",
              "    .dataframe thead th {\n",
              "        text-align: right;\n",
              "    }\n",
              "</style>\n",
              "<table border=\"1\" class=\"dataframe\">\n",
              "  <thead>\n",
              "    <tr style=\"text-align: right;\">\n",
              "      <th></th>\n",
              "      <th>power_usage</th>\n",
              "    </tr>\n",
              "  </thead>\n",
              "  <tbody>\n",
              "    <tr>\n",
              "      <th>count</th>\n",
              "      <td>140256.000000</td>\n",
              "    </tr>\n",
              "    <tr>\n",
              "      <th>mean</th>\n",
              "      <td>242.393145</td>\n",
              "    </tr>\n",
              "    <tr>\n",
              "      <th>std</th>\n",
              "      <td>72.339054</td>\n",
              "    </tr>\n",
              "    <tr>\n",
              "      <th>min</th>\n",
              "      <td>0.000000</td>\n",
              "    </tr>\n",
              "    <tr>\n",
              "      <th>25%</th>\n",
              "      <td>189.859155</td>\n",
              "    </tr>\n",
              "    <tr>\n",
              "      <th>50%</th>\n",
              "      <td>249.014085</td>\n",
              "    </tr>\n",
              "    <tr>\n",
              "      <th>75%</th>\n",
              "      <td>288.450704</td>\n",
              "    </tr>\n",
              "    <tr>\n",
              "      <th>max</th>\n",
              "      <td>479.436620</td>\n",
              "    </tr>\n",
              "  </tbody>\n",
              "</table>\n",
              "</div>"
            ],
            "text/plain": [
              "         power_usage\n",
              "count  140256.000000\n",
              "mean      242.393145\n",
              "std        72.339054\n",
              "min         0.000000\n",
              "25%       189.859155\n",
              "50%       249.014085\n",
              "75%       288.450704\n",
              "max       479.436620"
            ]
          },
          "metadata": {
            "tags": []
          },
          "execution_count": 7
        }
      ]
    },
    {
      "cell_type": "code",
      "metadata": {
        "id": "4MntETYUKVEg",
        "outputId": "1dffc2e1-bdd3-4b75-c2d9-b7afaf48db8f",
        "colab": {
          "base_uri": "https://localhost:8080/",
          "height": 299
        }
      },
      "source": [
        "df_week = df.iloc[0:96*7]\n",
        "df_week['power_usage'].plot()"
      ],
      "execution_count": 8,
      "outputs": [
        {
          "output_type": "execute_result",
          "data": {
            "text/plain": [
              "<matplotlib.axes._subplots.AxesSubplot at 0x7f93c1d972e8>"
            ]
          },
          "metadata": {
            "tags": []
          },
          "execution_count": 8
        },
        {
          "output_type": "display_data",
          "data": {
            "image/png": "[encoded data removed]",
            "text/plain": [
              "<Figure size 432x288 with 1 Axes>"
            ]
          },
          "metadata": {
            "tags": [],
            "needs_background": "light"
          }
        }
      ]
    },
    {
      "cell_type": "code",
      "metadata": {
        "id": "mL5GKmW1V5C6"
      },
      "source": [
        "series = df['power_usage'].values"
      ],
      "execution_count": 9,
      "outputs": []
    },
    {
      "cell_type": "markdown",
      "metadata": {
        "id": "gujCHp_LcWb2"
      },
      "source": [
        "### 데이터셋을 입력데이터와 타깃데이터로 분리하는 함수입니다."
      ]
    },
    {
      "cell_type": "code",
      "metadata": {
        "id": "g5Rj6jl7cZRt"
      },
      "source": [
        "def split_data_input_label(dataset, start_index, end_index, hist_data_size, target_size):\n",
        "    data = []\n",
        "    labels = []\n",
        "\n",
        "    start_index = start_index + hist_data_size\n",
        "    if end_index is None:\n",
        "        end_index = len(dataset) - target_size\n",
        "\n",
        "    for i in range(start_index, end_index):\n",
        "        indices = range(i-hist_data_size, i)\n",
        "        # Reshape data from (hist_data_size,) to (hist_data_size, 1)\n",
        "        data.append(np.reshape(dataset[indices], (hist_data_size, 1)))\n",
        "        labels.append([dataset[i+target_size]])\n",
        "    return np.array(data), np.array(labels)"
      ],
      "execution_count": 10,
      "outputs": []
    },
    {
      "cell_type": "markdown",
      "metadata": {
        "id": "NqjPWMC6g6H7"
      },
      "source": [
        "## 시계열 데이터값을 0과 1사이 값으로 정규화합니다.\n"
      ]
    },
    {
      "cell_type": "code",
      "metadata": {
        "id": "gnZ4kgXFgn3A"
      },
      "source": [
        "train_split = 70080 # 365일 * 2년 * 96개데이터\n",
        "test_split = 105120 # 365일 * 3년 * 96개데이터\n",
        "\n",
        "min = np.min(series[:test_split])\n",
        "max = np.max(series[:test_split])\n",
        "\n",
        "dataset = (series - min)/max"
      ],
      "execution_count": 11,
      "outputs": []
    },
    {
      "cell_type": "markdown",
      "metadata": {
        "id": "5EW7aFpBgpxM"
      },
      "source": [
        "## 훈련 데이터셋과 검증 데이터셋으로 데이터를 분할합니다."
      ]
    },
    {
      "cell_type": "code",
      "metadata": {
        "id": "VUqXWe4fXTtd"
      },
      "source": [
        "n_steps = 20\n",
        "future_target = 0\n",
        "\n",
        "X_train, y_train = split_data_input_label(dataset, 0,train_split, \n",
        "                                          n_steps, \n",
        "                                          future_target)\n",
        "X_valid, y_valid = split_data_input_label(dataset,train_split,test_split, \n",
        "                                          n_steps, \n",
        "                                          future_target)\n",
        "X_test, _ = split_data_input_label(dataset, test_split, test_split+1000, \n",
        "                                   n_steps, \n",
        "                                   future_target)"
      ],
      "execution_count": 12,
      "outputs": []
    },
    {
      "cell_type": "code",
      "metadata": {
        "id": "cJ25it-Jr0Ls",
        "outputId": "8ccaa375-3307-46c4-fb4c-4de5e3fef6b5",
        "colab": {
          "base_uri": "https://localhost:8080/",
          "height": 36
        }
      },
      "source": [
        "X_train.shape"
      ],
      "execution_count": 13,
      "outputs": [
        {
          "output_type": "execute_result",
          "data": {
            "text/plain": [
              "(70060, 20, 1)"
            ]
          },
          "metadata": {
            "tags": []
          },
          "execution_count": 13
        }
      ]
    },
    {
      "cell_type": "markdown",
      "metadata": {
        "id": "v6lsIm6hezKe"
      },
      "source": [
        "## 입력데이터, 타깃데이터, 예측데이터를 그래프로 출력하는 함수입니다."
      ]
    },
    {
      "cell_type": "code",
      "metadata": {
        "id": "RngUfpHRkiM9"
      },
      "source": [
        "def plot_series(series, y=None, y_pred=None, x_label='$t$', y_label='$x(t)$'):\n",
        "    plt.plot(series, '.-')\n",
        "    if y is not None:\n",
        "        plt.plot(n_steps, y, 'bx', markersize=10)\n",
        "    if y_pred is not None:\n",
        "        plt.plot(n_steps, y_pred, 'ro')\n",
        "    plt.grid(True)\n",
        "    if x_label:\n",
        "        plt.xlabel(x_label, fontsize=16)\n",
        "    if y_label:\n",
        "        plt.ylabel(y_label, fontsize=16, rotation=0)"
      ],
      "execution_count": 14,
      "outputs": []
    },
    {
      "cell_type": "code",
      "metadata": {
        "id": "ifJyjNRnjO6B",
        "outputId": "85fced50-cefe-4abd-93bb-34a105608ad4",
        "colab": {
          "base_uri": "https://localhost:8080/",
          "height": 285
        }
      },
      "source": [
        "fig, axes = plt.subplots(nrows=1, ncols=3, sharey=True, figsize=(12, 4))\n",
        "for col in range(3):\n",
        "    plt.sca(axes[col])\n",
        "    plot_series(X_valid[col, :, 0], y_valid[col, 0],\n",
        "                y_label=('$x(t)$' if col==0 else None))\n",
        "plt.show()"
      ],
      "execution_count": 15,
      "outputs": [
        {
          "output_type": "display_data",
          "data": {
            "image/png": "[encoded data removed]",
            "text/plain": [
              "<Figure size 864x288 with 3 Axes>"
            ]
          },
          "metadata": {
            "tags": [],
            "needs_background": "light"
          }
        }
      ]
    },
    {
      "cell_type": "markdown",
      "metadata": {
        "id": "akz9MbEhjm9x"
      },
      "source": [
        "## LSTM 모델 구성 "
      ]
    },
    {
      "cell_type": "code",
      "metadata": {
        "id": "XwyOUlSexc7h"
      },
      "source": [
        "model = Sequential()\n",
        "\n",
        "model.add(LSTM(20, input_shape=(None, 1), return_sequences=True))\n",
        "model.add(LSTM(20))\n",
        "model.add(Dense(20, activation='relu'))\n",
        "model.add(Dense(1))"
      ],
      "execution_count": 16,
      "outputs": []
    },
    {
      "cell_type": "markdown",
      "metadata": {
        "id": "_1ybPM1xtUTK"
      },
      "source": [
        "모델 구성 확인"
      ]
    },
    {
      "cell_type": "code",
      "metadata": {
        "id": "tHm6mlN6tOlc",
        "outputId": "7f8735bd-7f9f-405b-df4a-c05eccc5f6e2",
        "colab": {
          "base_uri": "https://localhost:8080/",
          "height": 316
        }
      },
      "source": [
        "model.summary()"
      ],
      "execution_count": 17,
      "outputs": [
        {
          "output_type": "stream",
          "text": [
            "Model: \"sequential\"\n",
            "_________________________________________________________________\n",
            "Layer (type)                 Output Shape              Param #   \n",
            "=================================================================\n",
            "lstm (LSTM)                  (None, None, 20)          1760      \n",
            "_________________________________________________________________\n",
            "lstm_1 (LSTM)                (None, 20)                3280      \n",
            "_________________________________________________________________\n",
            "dense (Dense)                (None, 20)                420       \n",
            "_________________________________________________________________\n",
            "dense_1 (Dense)              (None, 1)                 21        \n",
            "=================================================================\n",
            "Total params: 5,481\n",
            "Trainable params: 5,481\n",
            "Non-trainable params: 0\n",
            "_________________________________________________________________\n"
          ],
          "name": "stdout"
        }
      ]
    },
    {
      "cell_type": "markdown",
      "metadata": {
        "id": "_RHgmVGKtafp"
      },
      "source": [
        "초기 가중치 설정 확인"
      ]
    },
    {
      "cell_type": "code",
      "metadata": {
        "id": "Ti4QOSZOtPDa",
        "outputId": "57243373-8550-4ac2-eac3-5e34b1059800",
        "colab": {
          "base_uri": "https://localhost:8080/",
          "height": 671
        }
      },
      "source": [
        "hidden1 = model.layers[0]\n",
        "hidden1.get_weights()"
      ],
      "execution_count": 18,
      "outputs": [
        {
          "output_type": "execute_result",
          "data": {
            "text/plain": [
              "[array([[ 0.22162786, -0.05103038, -0.2129138 , -0.2111481 ,  0.06591737,\n",
              "         -0.26355296, -0.1674016 ,  0.10901725,  0.12531129, -0.16824542,\n",
              "          0.23752749,  0.25925905, -0.21506312, -0.110737  ,  0.10804006,\n",
              "          0.26340902, -0.1490306 , -0.26718438, -0.02472451, -0.04015975,\n",
              "         -0.07893378, -0.12579963, -0.2177038 ,  0.1507661 ,  0.03522179,\n",
              "         -0.1886642 ,  0.09958714, -0.06721197, -0.02319573,  0.08001262,\n",
              "         -0.03780498,  0.13575217,  0.17063633, -0.0047521 ,  0.18080515,\n",
              "          0.00441909, -0.08546846,  0.16339937, -0.09044598,  0.18114975,\n",
              "         -0.03382577, -0.20094633, -0.14362136,  0.04577664, -0.15747651,\n",
              "         -0.0716251 , -0.07628402,  0.18585944, -0.15400468,  0.00394052,\n",
              "         -0.15058774,  0.26375467, -0.19046533, -0.22298157,  0.2489326 ,\n",
              "         -0.26594967,  0.129958  , -0.10121533, -0.02253671, -0.10632381,\n",
              "         -0.15604389, -0.23500842, -0.24139814, -0.08598647, -0.23530814,\n",
              "         -0.2700175 ,  0.24954706,  0.25412703,  0.0841504 ,  0.17824641,\n",
              "          0.19398281,  0.12636176, -0.05200593, -0.11945137, -0.17115317,\n",
              "         -0.17027515, -0.21040376,  0.2570519 ,  0.17998493,  0.0935556 ]],\n",
              "       dtype=float32),\n",
              " array([[-0.09938443, -0.0685629 ,  0.0953235 , ...,  0.21677922,\n",
              "         -0.20886709,  0.06460541],\n",
              "        [ 0.0341023 ,  0.0347434 ,  0.01662592, ..., -0.21441908,\n",
              "         -0.00556896,  0.12802391],\n",
              "        [-0.03060708,  0.21253522, -0.07443196, ..., -0.0593482 ,\n",
              "         -0.14839426, -0.05345285],\n",
              "        ...,\n",
              "        [ 0.11621984,  0.07815493, -0.11064752, ...,  0.0567646 ,\n",
              "         -0.07453327, -0.01022923],\n",
              "        [-0.07368033, -0.00085177,  0.1081897 , ...,  0.14935713,\n",
              "          0.05368932, -0.0943074 ],\n",
              "        [-0.2066687 , -0.07936092, -0.10449142, ...,  0.13627915,\n",
              "          0.13415244, -0.11428579]], dtype=float32),\n",
              " array([0., 0., 0., 0., 0., 0., 0., 0., 0., 0., 0., 0., 0., 0., 0., 0., 0.,\n",
              "        0., 0., 0., 1., 1., 1., 1., 1., 1., 1., 1., 1., 1., 1., 1., 1., 1.,\n",
              "        1., 1., 1., 1., 1., 1., 0., 0., 0., 0., 0., 0., 0., 0., 0., 0., 0.,\n",
              "        0., 0., 0., 0., 0., 0., 0., 0., 0., 0., 0., 0., 0., 0., 0., 0., 0.,\n",
              "        0., 0., 0., 0., 0., 0., 0., 0., 0., 0., 0., 0.], dtype=float32)]"
            ]
          },
          "metadata": {
            "tags": []
          },
          "execution_count": 18
        }
      ]
    },
    {
      "cell_type": "markdown",
      "metadata": {
        "id": "BbOipfup6dnW"
      },
      "source": [
        "모델 컴파일"
      ]
    },
    {
      "cell_type": "code",
      "metadata": {
        "id": "-WDHEk4b6NqA"
      },
      "source": [
        "model.compile(optimizer='adam', loss='mse')"
      ],
      "execution_count": 19,
      "outputs": []
    },
    {
      "cell_type": "markdown",
      "metadata": {
        "id": "unE_Cax_uVW4"
      },
      "source": [
        "모델 훈련 조기종료, 체크포인트 설정"
      ]
    },
    {
      "cell_type": "code",
      "metadata": {
        "id": "BHQWlXc9uFeu"
      },
      "source": [
        "early_stop = EarlyStopping(monitor='val_loss', mode='min', \n",
        "                    verbose=1, patience=5)\n",
        "check_point = ModelCheckpoint('best_model.h5', verbose=1,\n",
        "            monitor='val_loss', mode='min', save_best_only=True)"
      ],
      "execution_count": 20,
      "outputs": []
    },
    {
      "cell_type": "markdown",
      "metadata": {
        "id": "5TZOm46Rtl-o"
      },
      "source": [
        "모델 컴파일"
      ]
    },
    {
      "cell_type": "code",
      "metadata": {
        "id": "nreG6uV1tObt",
        "outputId": "bc79d749-37b7-421f-df4d-54bc78c14f5a",
        "colab": {
          "base_uri": "https://localhost:8080/",
          "height": 1000
        }
      },
      "source": [
        "epochs=30\n",
        "batch_size=96\n",
        "\n",
        "history = model.fit(x=X_train, y=y_train, \n",
        "          epochs=epochs, \n",
        "          batch_size=batch_size,\n",
        "          verbose=1,                                     \n",
        "          validation_data=(X_valid, y_valid), \n",
        "          callbacks=[early_stop, check_point])"
      ],
      "execution_count": null,
      "outputs": [
        {
          "output_type": "stream",
          "text": [
            "Epoch 1/30\n",
            "727/730 [============================>.] - ETA: 0s - loss: 0.0076\n",
            "Epoch 00001: val_loss improved from inf to 0.00143, saving model to best_model.h5\n",
            "730/730 [==============================] - 5s 7ms/step - loss: 0.0076 - val_loss: 0.0014\n",
            "Epoch 2/30\n",
            "729/730 [============================>.] - ETA: 0s - loss: 0.0013\n",
            "Epoch 00002: val_loss improved from 0.00143 to 0.00096, saving model to best_model.h5\n",
            "730/730 [==============================] - 5s 7ms/step - loss: 0.0013 - val_loss: 9.5731e-04\n",
            "Epoch 3/30\n",
            "726/730 [============================>.] - ETA: 0s - loss: 0.0010\n",
            "Epoch 00003: val_loss improved from 0.00096 to 0.00077, saving model to best_model.h5\n",
            "730/730 [==============================] - 5s 7ms/step - loss: 0.0010 - val_loss: 7.7155e-04\n",
            "Epoch 4/30\n",
            "728/730 [============================>.] - ETA: 0s - loss: 9.0326e-04\n",
            "Epoch 00004: val_loss did not improve from 0.00077\n",
            "730/730 [==============================] - 5s 7ms/step - loss: 9.0285e-04 - val_loss: 7.7426e-04\n",
            "Epoch 5/30\n",
            "726/730 [============================>.] - ETA: 0s - loss: 8.9271e-04\n",
            "Epoch 00005: val_loss did not improve from 0.00077\n",
            "730/730 [==============================] - 5s 7ms/step - loss: 8.9220e-04 - val_loss: 7.8074e-04\n",
            "Epoch 6/30\n",
            "727/730 [============================>.] - ETA: 0s - loss: 8.7030e-04\n",
            "Epoch 00006: val_loss did not improve from 0.00077\n",
            "730/730 [==============================] - 5s 6ms/step - loss: 8.7088e-04 - val_loss: 8.8466e-04\n",
            "Epoch 7/30\n",
            "729/730 [============================>.] - ETA: 0s - loss: 8.7640e-04\n",
            "Epoch 00007: val_loss did not improve from 0.00077\n",
            "730/730 [==============================] - 5s 6ms/step - loss: 8.7641e-04 - val_loss: 7.9222e-04\n",
            "Epoch 8/30\n",
            "720/730 [============================>.] - ETA: 0s - loss: 8.6223e-04\n",
            "Epoch 00008: val_loss improved from 0.00077 to 0.00076, saving model to best_model.h5\n",
            "730/730 [==============================] - 5s 6ms/step - loss: 8.6286e-04 - val_loss: 7.6189e-04\n",
            "Epoch 9/30\n",
            "728/730 [============================>.] - ETA: 0s - loss: 8.7121e-04\n",
            "Epoch 00009: val_loss did not improve from 0.00076\n",
            "730/730 [==============================] - 5s 7ms/step - loss: 8.7090e-04 - val_loss: 8.4837e-04\n",
            "Epoch 10/30\n",
            "727/730 [============================>.] - ETA: 0s - loss: 8.6040e-04\n",
            "Epoch 00010: val_loss improved from 0.00076 to 0.00073, saving model to best_model.h5\n",
            "730/730 [==============================] - 5s 7ms/step - loss: 8.5993e-04 - val_loss: 7.3324e-04\n",
            "Epoch 11/30\n",
            "723/730 [============================>.] - ETA: 0s - loss: 8.6112e-04\n",
            "Epoch 00011: val_loss did not improve from 0.00073\n",
            "730/730 [==============================] - 5s 6ms/step - loss: 8.6004e-04 - val_loss: 7.3973e-04\n",
            "Epoch 12/30\n",
            "722/730 [============================>.] - ETA: 0s - loss: 8.6286e-04\n",
            "Epoch 00012: val_loss did not improve from 0.00073\n",
            "730/730 [==============================] - 5s 7ms/step - loss: 8.6275e-04 - val_loss: 7.4470e-04\n",
            "Epoch 13/30\n",
            "722/730 [============================>.] - ETA: 0s - loss: 8.5038e-04\n",
            "Epoch 00013: val_loss improved from 0.00073 to 0.00073, saving model to best_model.h5\n",
            "730/730 [==============================] - 5s 6ms/step - loss: 8.5081e-04 - val_loss: 7.2735e-04\n",
            "Epoch 14/30\n",
            "724/730 [============================>.] - ETA: 0s - loss: 8.5510e-04"
          ],
          "name": "stdout"
        }
      ]
    },
    {
      "cell_type": "markdown",
      "metadata": {
        "id": "955KwcDSkFiZ"
      },
      "source": [
        "신경망 모델의 학습상태를 출력하는 함수입니다."
      ]
    },
    {
      "cell_type": "code",
      "metadata": {
        "id": "tjpStVEhpt-I"
      },
      "source": [
        "def plot_learning_curves(loss, val_loss):\n",
        "    plt.plot(np.arange(len(loss)) + 0.5, loss, \"b.-\", label=\"Training loss\")\n",
        "    plt.plot(np.arange(len(val_loss)) + 1, val_loss, \"r.-\", label=\"Validation loss\")\n",
        "    plt.axis([1, 10, 0, 0.05])\n",
        "    plt.legend(fontsize=14)\n",
        "    plt.xlabel(\"Epochs\")\n",
        "    plt.ylabel(\"Loss\")\n",
        "    plt.grid(True)\n",
        "\n",
        "plot_learning_curves(history.history[\"loss\"], history.history[\"val_loss\"])\n",
        "plt.show()"
      ],
      "execution_count": null,
      "outputs": []
    },
    {
      "cell_type": "markdown",
      "metadata": {
        "id": "-ByU7qm9krul"
      },
      "source": [
        "## 검증 데이터셋으로 신경망 모델을 평가합니다."
      ]
    },
    {
      "cell_type": "code",
      "metadata": {
        "id": "igxMlk1Ept-0"
      },
      "source": [
        "model.evaluate(X_valid, y_valid)"
      ],
      "execution_count": null,
      "outputs": []
    },
    {
      "cell_type": "markdown",
      "metadata": {
        "id": "2dDO7Yo3mfgs"
      },
      "source": [
        "## 예측 결과를 확인합니다."
      ]
    },
    {
      "cell_type": "code",
      "metadata": {
        "id": "k7riqZKkaORa"
      },
      "source": [
        "time_step = 200\n",
        "n_step = 20\n",
        "y_pred = model.predict(X_valid[time_step].reshape(1, n_step, 1))\n",
        "\n",
        "\n",
        "fig, axes = plt.subplots(nrows=1, ncols=1, sharey=True, figsize=(12, 4))\n",
        "plot_series(X_valid[time_step, :, 0]*max + min, \n",
        "            y_valid[time_step, 0]*max + min, \n",
        "            y_pred[0, 0]*max + min)\n",
        "\n",
        "input_data = X_valid[time_step, :, 0]*max + min\n",
        "print(\"입력 데이터 : {}\".format(np.round(input_data,2)))\n",
        "predict_value = y_pred[0, 0]*max + min\n",
        "print(\"예측값 : {}\".format(np.round(predict_value, 2)))\n",
        "real_value = y_valid[time_step, 0]*max + min\n",
        "print(\"실제값 : {}\".format(np.round(real_value)))\n",
        "error = abs(predict_value-real_value)\n",
        "error_rate = error/real_value*100\n",
        "print(\"오차 : {}\".format(np.round(error, 2)))\n",
        "print(\"오차율 : {}%\".format(np.round(error_rate, 2)))"
      ],
      "execution_count": null,
      "outputs": []
    },
    {
      "cell_type": "markdown",
      "metadata": {
        "id": "JgOfPWLGlFv-"
      },
      "source": [
        "## 모델 저장"
      ]
    },
    {
      "cell_type": "code",
      "metadata": {
        "id": "h94CvnW5lYSq"
      },
      "source": [
        "model.save('my_model.h5')"
      ],
      "execution_count": null,
      "outputs": []
    },
    {
      "cell_type": "markdown",
      "metadata": {
        "id": "1Li7wRZPla7D"
      },
      "source": [
        "## 저장한 모델 로드"
      ]
    },
    {
      "cell_type": "code",
      "metadata": {
        "id": "RVKXTmuSloz1"
      },
      "source": [
        "model = load_model('best_model.h5')\n",
        "# model = load_model('my_model.h5')"
      ],
      "execution_count": null,
      "outputs": []
    },
    {
      "cell_type": "markdown",
      "metadata": {
        "id": "ApfDCSKJltFK"
      },
      "source": [
        "## 저장한 모델을 사용하여 예측"
      ]
    },
    {
      "cell_type": "code",
      "metadata": {
        "id": "ZhPArIawl02C"
      },
      "source": [
        "time_step = 200\n",
        "y_pred = model.predict(X_valid[time_step].reshape(1, n_steps, 1))\n",
        "\n",
        "fig, axes = plt.subplots(nrows=1, ncols=1, sharey=True, figsize=(12, 4))\n",
        "plot_series(X_valid[time_step, :, 0]*max + min, \n",
        "            y_valid[time_step, 0]*max + min, \n",
        "            y_pred[0, 0]*max + min)\n",
        "\n",
        "input_data = X_valid[time_step, :, 0]*max + min\n",
        "print(\"입력 데이터 : {}\".format(round(input_data,2)))\n",
        "predict_value = y_pred[0, 0]*max + min\n",
        "print(\"예측값 : {}\".format(np.round(predict_value, 2)))\n",
        "real_value = y_valid[time_step, 0]*max + min\n",
        "print(\"실제값 : {}\".format(np.round(real_value)))\n",
        "error = abs(predict_value-real_value)\n",
        "error_rate = error/real_value*100\n",
        "print(\"오차 : {}\".format(np.round(error, 2)))\n",
        "print(\"오차율 : {}%\".format(np.round(error_rate, 2)))"
      ],
      "execution_count": null,
      "outputs": []
    }
  ]
}